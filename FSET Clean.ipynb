{
 "cells": [
  {
   "cell_type": "markdown",
   "metadata": {},
   "source": [
    "# # Import Packages and Read Data"
   ]
  },
  {
   "cell_type": "code",
   "execution_count": null,
   "metadata": {},
   "outputs": [],
   "source": [
    "#unit_tests\n",
    "import unittest\n",
    "import pandas as pd\n",
    "import numpy as np\n",
    "import random\n",
    "import ipywidgets as widgets\n",
    "from IPython.display import display\n",
    "import glob\n",
    "import plotly.graph_objects as go\n",
    "import xlsxwriter\n",
    "import plotly.express as px\n",
    "\n",
    "class TestCSVMethods(unittest.TestCase):\n",
    "    \n",
    "    def test_upper(self):\n",
    "        self.assertEqual('foo'.upper(), 'FOO')\n",
    "        \n",
    "    def test_read_Excel(self):\n",
    "        #import test CSV\n",
    "        xls = pd.ExcelFile(r'Resources/RedevSch/RedevSch.xlsx')\n",
    "        dfMont = pd.read_excel(xls, 'Montopolis')\n",
    "        self.assertEqual(2020, dfMont.columns[1])\n",
    "    \n",
    "        #Clean Entry if Necessary\n",
    "        #Print\n",
    "        \n",
    "\n",
    "if __name__ == '__main__':\n",
    "    unittest.main(argv=['first-arg-is-ignored'], exit=False)"
   ]
  },
  {
   "cell_type": "markdown",
   "metadata": {},
   "source": [
    "# User Inputs"
   ]
  },
  {
   "cell_type": "code",
   "execution_count": 2,
   "metadata": {},
   "outputs": [
    {
     "data": {
      "application/vnd.jupyter.widget-view+json": {
       "model_id": "357a249ccac3488fba5afc2338b41ae8",
       "version_major": 2,
       "version_minor": 0
      },
      "text/plain": [
       "Dropdown(description='Parcel File', options=('Resources/Parcel\\\\ParcelDB_20200929_SMZ.xlsx', 'Resources/Parcel…"
      ]
     },
     "metadata": {},
     "output_type": "display_data"
    },
    {
     "data": {
      "application/vnd.jupyter.widget-view+json": {
       "model_id": "d8de911f1d0c42449fe8543ed974b6f3",
       "version_major": 2,
       "version_minor": 0
      },
      "text/plain": [
       "Dropdown(description='Redev File', options=('Resources/ReDevSch\\\\RedevSch.xlsx',), value='Resources/ReDevSch\\\\…"
      ]
     },
     "metadata": {},
     "output_type": "display_data"
    },
    {
     "data": {
      "application/vnd.jupyter.widget-view+json": {
       "model_id": "4660fb21356f45979b209370bcbf52ed",
       "version_major": 2,
       "version_minor": 0
      },
      "text/plain": [
       "Dropdown(description='Coadopt File', options=('Default',), value='Default')"
      ]
     },
     "metadata": {},
     "output_type": "display_data"
    },
    {
     "data": {
      "application/vnd.jupyter.widget-view+json": {
       "model_id": "a1206ca65cf54704bdd67e3042752f7d",
       "version_major": 2,
       "version_minor": 0
      },
      "text/plain": [
       "Dropdown(description='Granularity', options=('Decade', 'Year', 'Month'), value='Decade')"
      ]
     },
     "metadata": {},
     "output_type": "display_data"
    },
    {
     "data": {
      "application/vnd.jupyter.widget-view+json": {
       "model_id": "22abfd847f5d4375b6eee4c016ef59d6",
       "version_major": 2,
       "version_minor": 0
      },
      "text/plain": [
       "Dropdown(description='Sim Method', options=('Constant', 'Random'), value='Constant')"
      ]
     },
     "metadata": {},
     "output_type": "display_data"
    },
    {
     "data": {
      "application/vnd.jupyter.widget-view+json": {
       "model_id": "6eb65fa7e0594763908d19eba0a23260",
       "version_major": 2,
       "version_minor": 0
      },
      "text/plain": [
       "Dropdown(description='Force Parameter', options=('Default',), value='Default')"
      ]
     },
     "metadata": {},
     "output_type": "display_data"
    },
    {
     "data": {
      "application/vnd.jupyter.widget-view+json": {
       "model_id": "75d4e1885a1143e6a12fdeccacc02c56",
       "version_major": 2,
       "version_minor": 0
      },
      "text/plain": [
       "Button(description='Run', style=ButtonStyle())"
      ]
     },
     "metadata": {},
     "output_type": "display_data"
    },
    {
     "data": {
      "text/plain": [
       "'Decade'"
      ]
     },
     "execution_count": 2,
     "metadata": {},
     "output_type": "execute_result"
    }
   ],
   "source": [
    "#Parcel DP - File Location\n",
    "dropdown_parcel = widgets.Dropdown(options = glob.glob('Resources/Parcel/*.xlsx'), description ='Parcel File')\n",
    "#Redevelopment - Schedule File Location\n",
    "dropdown_redev = widgets.Dropdown(options = glob.glob('Resources/ReDevSch/*.xlsx'),description ='Redev File')\n",
    "#Coadoption - File Location CSV\n",
    "dropdown_Coadoption = widgets.Dropdown(options = ['Default'],description ='Coadopt File')\n",
    "#Granularity - Drop Down Menu Month vs. Year vs. Decade\n",
    "dropdown_granularity = widgets.Dropdown(options = ['Decade','Year','Month'],description ='Granularity')\n",
    "#Method of Simulation - Drop Down, Constant, Random \n",
    "dropdown_simulation_method = widgets.Dropdown(options = ['Constant','Random'],description ='Sim Method')\n",
    "#Force Rule - Drop Down Menu, Give a few basic options\n",
    "dropdown_force = widgets.Dropdown(options = ['Default'], description ='Force Parameter')\n",
    "\n",
    "#Output Location - WriteBox Leave empty for now\n",
    "#Run Button\n",
    "btn = widgets.Button(description = 'Run')\n",
    "#display Functions\n",
    "display(dropdown_parcel)\n",
    "display(dropdown_redev)\n",
    "display(dropdown_Coadoption)\n",
    "display(dropdown_granularity)\n",
    "display(dropdown_simulation_method)\n",
    "display(dropdown_force)\n",
    "display(btn)\n",
    "dropdown_granularity.value"
   ]
  },
  {
   "cell_type": "markdown",
   "metadata": {},
   "source": [
    "# Read Excel Sheets and SHP"
   ]
  },
  {
   "cell_type": "code",
   "execution_count": 3,
   "metadata": {},
   "outputs": [],
   "source": [
    "xls = pd.ExcelFile(r'Resources/RedevSch/RedevSch.xlsx')\n",
    "\n",
    "#Read in Redevelopment Data\n",
    "dfMont = pd.read_excel(xls, 'Montopolis')\n",
    "dfBrent = pd.read_excel(xls, 'Brentwood')\n",
    "dfSouthM = pd.read_excel(xls, 'South Menchaca')\n",
    "\n",
    "#Read in Energy Data\n",
    "energyxls = pd.ExcelFile(r'Resources/DefaultConstruction.xlsx')\n",
    "a1b_db = pd.read_excel(energyxls, 'A1B')\n",
    "a2_db = pd.read_excel(energyxls, 'A2')\n",
    "b1_db = pd.read_excel(energyxls, 'B1')\n",
    "\n",
    "\n",
    "#Read in all the Parcel Data\n",
    "xls = pd.ExcelFile(r'Resources/Parcel/ParcelDB_20201118_SMZ_REDEV.xlsx')\n",
    "ParcelDB = pd.read_excel(xls, 'ParcelDB')\n",
    "\n",
    "#Read in CodaoptionData\n",
    "xls = pd.ExcelFile(r'Resources/CoAdpot.xlsx')\n",
    "dfCoAdoptABM = pd.read_excel(xls, 'CoAdoptABM_TOYagents_Empirical-')\n",
    "\n",
    "\n",
    "#ReadinEnergyModelling\n",
    "EnergyBestOutput = pd.ExcelFile(r'StackedGraphBest.xlsx')\n",
    "EnergyWorstOutput = pd.ExcelFile(r'StackedGraphWorst.xlsx')\n",
    "\n",
    "BestSmallRes = pd.read_excel(EnergyBestOutput,'Sheet1')\n",
    "BestMidRes = pd.read_excel(EnergyBestOutput,'Sheet3')\n",
    "BestLargeRes = pd.read_excel(EnergyBestOutput,'Sheet4')\n",
    "\n",
    "WorstSmallRes = pd.read_excel(EnergyWorstOutput,'Sheet1')\n",
    "WorstMidRes = pd.read_excel(EnergyWorstOutput,'Sheet3')\n",
    "WorstLargeRes = pd.read_excel(EnergyWorstOutput,'Sheet4')"
   ]
  },
  {
   "cell_type": "code",
   "execution_count": 4,
   "metadata": {},
   "outputs": [],
   "source": [
    "#Building General Class\n",
    "#manual ones may need a seperate table\n",
    "class Building:\n",
    "    \n",
    "    # read excel data for general values\n",
    "    \n",
    "    def __str__(self):\n",
    "        return(str(self.uniqueID))\n",
    "    def __init__(self, building_df):\n",
    "        \n",
    "        #Denotes if the building has undergon reDevelopment\n",
    "        self.reDev_flag = \"\"\n",
    "        self.df= building_df\n",
    "        \n",
    "        #general values applicable to the building regardless of redevelopment\n",
    "        self.uniqueID = self.df['UniqueID']\n",
    "        self.Neighborhood = self.df['Neighborhood']\n",
    "        self.OBJECTID = self.df['OBJECTID']\n",
    "        self.LotSize = self.df['LotSize']\n",
    "        self.UNITS = self.df['UNITS']\n",
    "        self.SUM_LANDVA = self.df['SUM_LANDVA']\n",
    "        self.SUM_IMPVAL = self.df['SUM_IMPVAL']\n",
    "        self.SUM_market = self.df['SUM_market']\n",
    "        self.MAX_yr_blt = self.df['MAX_yr_blt']\n",
    "        self.MAX_eff_yr = self.df['MAX_eff_yr']\n",
    "        self.COA_SQFT = self.df['COA_SQ.FT']\n",
    "        self.ZONING_ZTY = self.df['ZONING_ZTY']\n",
    "        self.EX_LU = self.df['EX_LU']\n",
    "        self.FAR = self.df['FAR']\n",
    "        self.ILR = self.df['ILR']\n",
    "        self.UNITSPERAC = self.df['UNITSPERAC']\n",
    "        self.Tot_Acre = self.df['Tot_Acre']\n",
    "        \n",
    "        # Original Building Values\n",
    "        self.DEV_TYPE_CURRENT = self.df['DEV_TYPE_Current']\n",
    "        self.Use_Class = self.df['Use Class']\n",
    "        self.Corridor = self.df['Corridor?']\n",
    "        self.TOD = self.df['TOD?']\n",
    "        self.CONSTRAINED_ACRE = self.df['CONSTRAINED_ACRE']\n",
    "        self.Redev_Rank = self.df['Redev Rank']\n",
    "        self.Redev_Year = self.df['Redev Year']\n",
    "        self.Bldg_CurrEst = self.df['Bldg_CurrEst']\n",
    "        self.LotSize_CurrentEst = self.df['LotSize_CurrentEst']\n",
    "        self.SqFt_CurrEst = self.df['SqFt_CurrEst']\n",
    "        self.Units_CurrEst = self.df['Units_CurrEst']\n",
    "        \n",
    "        self.Population = self.df['Pop']\n",
    "        #self.TEMP = self.df['TEMP'], isn't loading in prorperly\n",
    "        \n",
    "        # Best Case Building Values\n",
    "        self.Use_Best = self.df['Use_Best']\n",
    "        self.Bldg_Best = self.df['Bldg_Best']\n",
    "        self.LotSize_Best = self.df['LotSize_Best']\n",
    "        self.SqFt_Best = self.df['SqFt_Best']\n",
    "        self.Units_Best = self.df['Units_Best']\n",
    "        self.Population_Best = self.df['Pop_Best']\n",
    "        \n",
    "        # Worst Case Building Values\n",
    "        self.Path_Worst = self.df['Path_Worst']\n",
    "        self.Bldg_Worst = self.df['Bldg_Worst']\n",
    "        self.LotSize_Worst = self.df['LotSize_Worst']\n",
    "        self.SqFt_Worst = self.df['SqFt_Worst']\n",
    "        self.Units_Worst = self.df['Units_Worst']\n",
    "        self.Population_Worst = self.df['Pop_Worst']\n",
    "        \n",
    "        #Coadoption Variables\n",
    "        self.HP = False\n",
    "        self.ST = False\n",
    "        self.PV = False\n",
    "        self.BuildingSF = 0\n",
    "        self.PV_energy = 0\n",
    "        self.Pair = ''\n",
    "            \n",
    "        #new Variables\n",
    "        self.Redev_month = ''\n",
    "        self.Redev_year = self.df['Redev Year']\n",
    "        self.Redev_year_fine = 1\n",
    "    "
   ]
  },
  {
   "cell_type": "code",
   "execution_count": 5,
   "metadata": {},
   "outputs": [],
   "source": [
    "class Policy:\n",
    "    def __init__(self, percentage, year, prop):\n",
    "        self.percentage = percentage\n",
    "        self.year = year\n",
    "        self.prop = prop"
   ]
  },
  {
   "cell_type": "code",
   "execution_count": 6,
   "metadata": {},
   "outputs": [],
   "source": [
    "def exertPolicy(buildingList, policy):\n",
    "    #Go through a list of buildings and make sure that a certain number of buildings furfill the requirements in a year\n",
    "    #0 - Redev Year\n",
    "    #1 - PV\n",
    "    #2 - ST\n",
    "    #3 - HP\n",
    "    decade = [2020,2030,2040,2050,2060,2070,2080,2090,2100]\n",
    "    #TODO: change policy.prop to a list object so multiple policies can  be exerted at the same time\n",
    "    \n",
    "    if policy.prop == 0:\n",
    "        #iterate through the building list and make sure that the buildings meet that redevelopment by that year\n",
    "        return\n",
    "    if policy.prop == 1:\n",
    "        for building in buildingList:\n",
    "            if building.Redev_year_fine != 0:\n",
    "                roll = random.randrange(101)\n",
    "                percentage = policy.percentage\n",
    "                if roll <= percentage:\n",
    "                    building.PV = random.choice(decade)\n",
    "        #take all the redevelopments up to that year, on the redevelopment year and there is a 50% chance that a PV will be added\n",
    "        #not sure how we want to do this one\n",
    "        #print('policy exerted')\n",
    "    if policy.prop == 2:\n",
    "        return\n",
    "    if policy.prop == 3:\n",
    "        return\n",
    "    if policy.prop > 4:\n",
    "        print('policy number invalid')\n",
    "        return\n",
    "    "
   ]
  },
  {
   "cell_type": "code",
   "execution_count": 7,
   "metadata": {},
   "outputs": [],
   "source": [
    "# Define Buidling Array\n",
    "Buildings_SM = []\n",
    "Buildings_Mont = []\n",
    "Buildings_Brent = []"
   ]
  },
  {
   "cell_type": "code",
   "execution_count": 8,
   "metadata": {},
   "outputs": [],
   "source": [
    "## Look intgo the PV stuff not sure if this number should always be 11\n",
    "# It probably should right now agents are assigned in order, might want to randomize this\n",
    "counter = 0\n",
    "for index in range(len(ParcelDB)):\n",
    "    \n",
    "    dftemp = ParcelDB.iloc[index]\n",
    "    if(dftemp.Neighborhood == 'SM'):\n",
    "        holder = Building(dftemp)\n",
    "        holder.PV = dfCoAdoptABM.iloc[counter][11]\n",
    "        Buildings_SM.append(holder)\n",
    "    elif(dftemp.Neighborhood == 'Mont'):\n",
    "        holder = Building(dftemp)\n",
    "        holder.PV = dfCoAdoptABM.iloc[counter][11]\n",
    "        Buildings_Mont.append(holder)\n",
    "    elif(dftemp.Neighborhood == 'Brent'):\n",
    "        holder = Building(dftemp)\n",
    "        Buildings_Brent.append(holder)\n",
    "    counter +=1"
   ]
  },
  {
   "cell_type": "markdown",
   "metadata": {},
   "source": [
    "# Simulation Methods "
   ]
  },
  {
   "cell_type": "code",
   "execution_count": 9,
   "metadata": {},
   "outputs": [],
   "source": [
    "#Simulate for a Month\n",
    " #constant development scenario, attempts to divide equally\n",
    "def ConstantSimulation(redevPool,year):\n",
    "    #CHANGE THIS TO BE ITERATIVE RATHER THAN DOING IT ALL AT ONCE SO YOU CAN PASS THROUGH THE LIST OF BUILDINGS \n",
    "\n",
    "    \n",
    "    dictdf = {year: redevPool[0::10],year+1:redevPool[1::10],year+2:redevPool[2::10],year+3:redevPool[3::10],\n",
    "            year+4:redevPool[4::10],year+5:redevPool[5::10],year+6:redevPool[6::10],year+7:redevPool[7::10],\n",
    "            year+8:redevPool[8::10],year+9:redevPool[9::10]}\n",
    "    yeardf = pd.DataFrame.from_dict(dictdf, orient = 'index')\n",
    "    yeardf = yeardf.transpose() \n",
    "    return yeardf"
   ]
  },
  {
   "cell_type": "code",
   "execution_count": 10,
   "metadata": {},
   "outputs": [],
   "source": [
    "def SimulateYear(redevPool, year, decade):\n",
    "    yearpool = redevPool[year::10]\n",
    "    #print(\"Year Pool:\")\n",
    "    #for item in yearpool:\n",
    "        #print(item.uniqueID)\n",
    "    for building in yearpool:\n",
    "        building.Redev_year_fine = year + decade"
   ]
  },
  {
   "cell_type": "code",
   "execution_count": 11,
   "metadata": {},
   "outputs": [],
   "source": [
    "def SimulateDecade(Decade,dfReDevSch,BuildingsArray,flag):\n",
    "    redevPool = []\n",
    "   \n",
    "    for building in BuildingsArray:\n",
    "        if building.Redev_Year == Decade:\n",
    "            redevPool.append(building)\n",
    "    if(flag == 0):\n",
    "        \n",
    "        for year in range(10):\n",
    "            SimulateYear(redevPool,year,Decade)\n",
    "        exertPolicy(BuildingsArray,PV_50)\n",
    "        yeardf = ConstantSimulation(redevPool,Decade)\n",
    "    elif(flag == 1):\n",
    "        return\n",
    "    #constant development scenario, attempts to divide equally\n",
    "    #TODO: add selectable timescale\n",
    "    #Spread out buildings \n",
    "    \n",
    "    #Exert and PV, HP, or ST policies\n",
    "    \n",
    "        \n",
    "    return yeardf"
   ]
  },
  {
   "cell_type": "code",
   "execution_count": 12,
   "metadata": {},
   "outputs": [],
   "source": [
    "def runSimulation(dfReDevSch,BuildingsArray):\n",
    "    df2020 = SimulateDecade(2020,dfReDevSch,BuildingsArray,0)\n",
    "    df2030 = SimulateDecade(2030,dfReDevSch,BuildingsArray,0)\n",
    "    df2040 = SimulateDecade(2040,dfReDevSch,BuildingsArray,0)\n",
    "    df2050 = SimulateDecade(2050,dfReDevSch,BuildingsArray,0)\n",
    "    df2060 = SimulateDecade(2060,dfReDevSch,BuildingsArray,0)\n",
    "    df2070 = SimulateDecade(2070,dfReDevSch,BuildingsArray,0)\n",
    "    df2080 = SimulateDecade(2080,dfReDevSch,BuildingsArray,0)\n",
    "    df2090 = SimulateDecade(2090,dfReDevSch,BuildingsArray,0)\n",
    "    df2100 = SimulateDecade(2100,dfReDevSch,BuildingsArray,0)\n",
    "    YearArray=[df2020,df2030,df2040,df2050,df2060,df2070,df2080,df2090,df2100]\n",
    "    return YearArray"
   ]
  },
  {
   "cell_type": "code",
   "execution_count": 13,
   "metadata": {},
   "outputs": [],
   "source": [
    "def GenerateDataframe(BuildingArray):\n",
    "    decades = BestSmallRes.columns\n",
    "    Unique_Buildings = []\n",
    "\n",
    "\n",
    "\n",
    "    for building in BestSmallRes.index.unique():\n",
    "            Unique_Buildings.append(building)\n",
    "\n",
    "    ref = {Unique_Buildings[i]: BuildingSelections[i] for i in range(len(Unique_Buildings))}\n",
    "    print(ref)\n",
    "    UniqueID_Array = []\n",
    "    Redev_month = []\n",
    "    Redev_year_fine = []\n",
    "    Redev_year = []\n",
    "    PV = []\n",
    "    ST = []\n",
    "    HP = []\n",
    "    Current = []\n",
    "    Best = []\n",
    "    Worst = []\n",
    "    Best_Path = []\n",
    "    Worst_Path = []\n",
    "    EnergyTypeC =[]\n",
    "    EnergyTypeW = []\n",
    "    EnergyTypeB = []\n",
    "    SFC = []\n",
    "    SFW = []\n",
    "    SFB = []\n",
    "    for building in Buildings_Mont:\n",
    "        if building.Use_Best == \"Small Residential\":\n",
    "            UniqueID_Array.append(building.uniqueID) \n",
    "            Redev_month.append(building.Redev_month)\n",
    "            Redev_year_fine.append(building.Redev_year_fine)\n",
    "            Redev_year.append(building.Redev_Year)\n",
    "            PV.append(building.PV)\n",
    "            ST.append(building.ST)\n",
    "            HP.append(building.HP)\n",
    "            Current.append(building.Bldg_CurrEst)\n",
    "            Best.append(building.Bldg_Best)\n",
    "            Worst.append(building.Bldg_Worst)\n",
    "            Best_Path.append(building.Use_Best)\n",
    "            Worst_Path.append(building.Path_Worst)\n",
    "            ref[building.Bldg_CurrEst]\n",
    "            EnergyTypeC.append(ref[building.Bldg_CurrEst])\n",
    "            EnergyTypeW.append(ref[building.Bldg_Worst])\n",
    "            EnergyTypeB.append(ref[building.Bldg_Best])\n",
    "\n",
    "            SFC.append(a1b_db.loc[ref[building.Bldg_CurrEst]]['SF'])\n",
    "            SFW.append(a1b_db.loc[ref[building.Bldg_Worst]]['SF'])\n",
    "            SFB.append(a1b_db.loc[ref[building.Bldg_Best]]['SF'])\n",
    "\n",
    "    df2 = pd.DataFrame({'ID':UniqueID_Array, 'RedevMonth':Redev_month, 'RedevYearFine':Redev_year_fine,\n",
    "                       'RedevYear':Redev_year,\n",
    "                       'PV':PV, 'ST':ST, 'HP':HP, 'Current':Current, 'Best Building': Best,\n",
    "                       'Worst Building': Worst, 'Best Path':Best_Path, 'Worst Path':Worst_Path, 'Energy Current' :EnergyTypeC,\n",
    "                       'Energy Worst': EnergyTypeW, 'Energy Best': EnergyTypeB, 'SF Current' : SFC, 'SF Worst': SFW,\n",
    "                        'SF Best': SFB})\n",
    "    writer = pd.ExcelWriter('NEWOutput3.xlsx')\n",
    "    df2.sample(n=50).to_excel(writer, 'Sheet 1')\n",
    "    writer.close()\n",
    "    return(df2)"
   ]
  },
  {
   "cell_type": "markdown",
   "metadata": {},
   "source": [
    "## Analytics and Figures Generation"
   ]
  },
  {
   "cell_type": "code",
   "execution_count": 14,
   "metadata": {},
   "outputs": [],
   "source": [
    "def stackedGraphs(Building_Array):\n",
    "    df = GenerateDataframe(Building_Array)\n",
    "    decades = [2020,2030,2040,2050,2060,2070,2080,2090,2100]\n",
    "    CurrentNames = []\n",
    "    BestNames = []\n",
    "    Best_Path = []\n",
    "    Output = []\n",
    "\n",
    "    \n",
    "    for ele in df['Best Path'].unique():\n",
    "        Best_Path.append(ele)    \n",
    "    \n",
    "    for path in Best_Path:\n",
    "        \n",
    "        Body = []\n",
    "        CurrentNames = []\n",
    "        BestNames = []\n",
    "        for ele in decades:\n",
    "            Body.append([ele])\n",
    "        \n",
    "        current_lot_type_df = df.loc[df['Best Path'] == path ]\n",
    "        print(path)\n",
    "        CurrentNames = []\n",
    "        BestNames = []\n",
    "        for ele in df['Current'].unique():\n",
    "            if str(ele) == 'nan':\n",
    "                CurrentNames.append(str(ele))\n",
    "            else:\n",
    "                CurrentNames.append(ele)\n",
    "        for ele in df['Best Building'].unique():\n",
    "            if str(ele) == 'nan':\n",
    "                BestNames.append(str(ele))\n",
    "            else:\n",
    "                BestNames.append(ele)\n",
    "        \n",
    "        Headers = CurrentNames + BestNames\n",
    "        for decade in Body:\n",
    "            for ele in CurrentNames:\n",
    "                decade.append(0)\n",
    "        \n",
    "        for decade in Body:\n",
    "            for ele in BestNames:\n",
    "                decade.append(0)\n",
    "        \n",
    "        print(Body)\n",
    "        for decade in decades:\n",
    "            print(decade)\n",
    "            row = decades.index(decade)\n",
    "            for currentname in CurrentNames:\n",
    "                current_lot_df = current_lot_type_df.loc[df['Current'] == currentname]\n",
    "                oldLot = current_lot_df.loc[current_lot_df['PV'] <= decade]\n",
    "                oldLot = len(oldLot.loc[oldLot['RedevYear'] > decade])\n",
    "                col = Headers.index(currentname)+1\n",
    "                Body[row][col] += oldLot\n",
    "                #print(currentname,oldLot)\n",
    "                for category in current_lot_df['Best Building'].unique():\n",
    "                    tempdf = current_lot_df.loc[current_lot_df['Best Building'] == category]\n",
    "                    tempdf = tempdf.loc[tempdf['PV'] <= decade]\n",
    "                    developedBuildings = len(tempdf.loc[tempdf['RedevYear'] <= decade].index)\n",
    "                    index = tempdf.index \n",
    "                    print(currentname,\"--->\",category,len(index)- developedBuildings, developedBuildings)\n",
    "                    col = Headers.index(category)+1\n",
    "                    Body[row][col] += developedBuildings\n",
    "                    \n",
    "            #print()\n",
    "        Headers.insert(0,'empty')\n",
    "        #print(len(Headers))\n",
    "        #print(len(Body[0]))\n",
    "        decade = 2020\n",
    "        \n",
    "        #for row in Body:\n",
    "        #    print(row)\n",
    "        Body.insert(0,Headers)\n",
    "        Output.append(Body)\n",
    "    return Output"
   ]
  },
  {
   "cell_type": "code",
   "execution_count": 15,
   "metadata": {},
   "outputs": [],
   "source": [
    "def stackedGraphsWorstwithPVs(Building_Array):\n",
    "    df = GenerateDataframe(Building_Array)\n",
    "    decades = [2020,2030,2040,2050,2060,2070,2080,2090,2100]\n",
    "    CurrentNames = []\n",
    "    BestNames = []\n",
    "    Best_Path = []\n",
    "    Output = []\n",
    "\n",
    "    \n",
    "    \n",
    "    for ele in df['Worst Path'].unique():\n",
    "        Best_Path.append(ele)    \n",
    "    \n",
    "    for path in Best_Path:\n",
    "        \n",
    "        Body2 = []\n",
    "        CurrentNames = []\n",
    "        BestNames = []\n",
    "        for ele in decades:\n",
    "            Body2.append([ele])\n",
    "        \n",
    "        current_lot_type_df = df.loc[df['Worst Path'] == path ]\n",
    "        #print(path)\n",
    "        CurrentNames = []\n",
    "        BestNames = []\n",
    "        for ele in df['Current'].unique():\n",
    "            if str(ele) == 'nan':\n",
    "                CurrentNames.append(str(ele))\n",
    "            else:\n",
    "                CurrentNames.append(ele)\n",
    "        for ele in df['Worst Building'].unique():\n",
    "            if str(ele) == 'nan':\n",
    "                BestNames.append(str(ele))\n",
    "            else:\n",
    "                BestNames.append(ele)\n",
    "        \n",
    "        Headers = CurrentNames + BestNames\n",
    "\n",
    "        for decade in Body2:\n",
    "            for ele in CurrentNames:\n",
    "                decade.append(0)\n",
    "        \n",
    "        for decade in Body2:\n",
    "            for ele in BestNames:\n",
    "                decade.append(0)\n",
    "                \n",
    "        for decade in decades:\n",
    "            #print(\"Decade: \",decade)\n",
    "            row = decades.index(decade)\n",
    "            for currentname in CurrentNames:\n",
    "                current_lot_df = current_lot_type_df.loc[df['Current'] == currentname]\n",
    "                oldLot = current_lot_df.loc[current_lot_df['PV'] <= decade]\n",
    "                oldLot = len(oldLot.loc[oldLot['RedevYear'] > decade])\n",
    "                col = Headers.index(currentname)+1\n",
    "                Body2[row][col] += oldLot\n",
    "                for category in current_lot_df['Worst Building'].unique():\n",
    "                    #print(\"   \",currentname,category)\n",
    "                    tempdf = current_lot_df.loc[current_lot_df['Worst Building'] == category]\n",
    "                    tempdf = tempdf.loc[tempdf['PV'] <= decade]\n",
    "                    developedBuildings = len(tempdf.loc[tempdf['RedevYear'] <= decade].index)\n",
    "                    index = tempdf.index \n",
    "                    #print(currentname,\"--->\",category,len(index)- developedBuildings, developedBuildings)\n",
    "                    col = Headers.index(category)+1\n",
    "                    Body2[row][col] += developedBuildings\n",
    "\n",
    "            #print()\n",
    "        Headers.insert(0,'empty')\n",
    "        #print(len(Headers))\n",
    "        #print(len(Body2[0]))\n",
    "        decade = 2020\n",
    "        \n",
    "        #for row in Body2:\n",
    "        #    print(row)\n",
    "        Body2.insert(0,Headers)\n",
    "        Output.append(Body2)\n",
    "    return Output"
   ]
  },
  {
   "cell_type": "code",
   "execution_count": 16,
   "metadata": {},
   "outputs": [],
   "source": [
    "def ExcelWorkbookOutput(Building_Array):\n",
    "    \n",
    "    Output = stackedGraphs(Building_Array)\n",
    "    Output2 = stackedGraphsWorst(Building_Array)\n",
    "    \n",
    "    for Data in Output:\n",
    "        print(\"Before:\")\n",
    "        for row in Data:\n",
    "            print(row)\n",
    "        Sums = []\n",
    "        for col in range(0,len(Data[0])):\n",
    "            Sum = 0\n",
    "            for row in range(1,len(Data)):\n",
    "                Sum += Data[row][col]\n",
    "            Sums.append(Sum)\n",
    "        print()\n",
    "        print(Sums)\n",
    "        for x in range(len(Sums)-1,-1,-1):\n",
    "            print(x)\n",
    "            if Sums[x] == 0:\n",
    "                for row in Data:\n",
    "                    del row[x]\n",
    "        print(\"After:\")\n",
    "        for row in Data:\n",
    "            print(row)\n",
    "        print()\n",
    "\n",
    "    workbook = xlsxwriter.Workbook('StackedGraphBest.xlsx')\n",
    "    for Data in Output:\n",
    "\n",
    "        worksheet = workbook.add_worksheet()\n",
    "\n",
    "\n",
    "        for col_num,col_data in enumerate(Data):\n",
    "            for row_num, row_data in enumerate(col_data):\n",
    "                worksheet.write(row_num, col_num, row_data)\n",
    "\n",
    "    workbook.close()\n",
    "\n",
    "\n",
    "\n",
    "    #Worst Output\n",
    "    print(\"WORST\")\n",
    "    for Data in Output2:\n",
    "        print(\"Before:\")\n",
    "        for row in Data:\n",
    "            print(row)\n",
    "        Sums = []\n",
    "        for col in range(0,len(Data[0])):\n",
    "            Sum = 0\n",
    "            for row in range(1,len(Data)):\n",
    "                Sum += Data[row][col]\n",
    "            Sums.append(Sum)\n",
    "        print()\n",
    "        print(Sums)\n",
    "        for x in range(len(Sums)-1,-1,-1):\n",
    "            print(x)\n",
    "            if Sums[x] == 0:\n",
    "                for row in Data:\n",
    "                    del row[x]\n",
    "        print(\"After:\")\n",
    "        for row in Data:\n",
    "            print(row)\n",
    "        print()\n",
    "    workbookWorst = xlsxwriter.Workbook('StackedGraphWorst.xlsx')\n",
    "\n",
    "    for Data in Output2:\n",
    "\n",
    "        worksheetWorst = workbookWorst.add_worksheet()\n",
    "\n",
    "\n",
    "        for col_num,col_data in enumerate(Data):\n",
    "            for row_num, row_data in enumerate(col_data):\n",
    "                worksheetWorst.write(row_num, col_num, row_data)\n",
    "\n",
    "    workbookWorst.close()"
   ]
  },
  {
   "cell_type": "code",
   "execution_count": 17,
   "metadata": {},
   "outputs": [],
   "source": [
    "#Read all the Unique Building Types\n",
    "EnergyBestOutput = pd.ExcelFile(r'StackedGraphBest.xlsx')\n",
    "EnergyWorstOutput = pd.ExcelFile(r'StackedGraphWorst.xlsx')\n"
   ]
  },
  {
   "cell_type": "code",
   "execution_count": 18,
   "metadata": {},
   "outputs": [],
   "source": [
    "#sums the values for the building energy types\n",
    "def energySum(buildingType,ClimateScenario):\n",
    "    decades = [2020,2030,2040,2050,2060,2070,2080,2090,2100]\n",
    "    #pick the correct climate scenario\n",
    "    if ClimateScenario == 'a1b':\n",
    "        energy_db = a1b_db\n",
    "    elif ClimateScenario == 'a2':\n",
    "        energy_db = a2_db\n",
    "    #assume b1 scenario\n",
    "    else:\n",
    "        energy_db = b1_db\n",
    "        \n",
    "    #pick the correct BuildingType\n",
    "    #Small Res\n",
    "    if buildingType == 'Small B':\n",
    "        res_db = BestSmallRes\n",
    "    #Mid Res    \n",
    "    elif buildingType == 'Mid B':\n",
    "        res_db = BestMidRes\n",
    "        \n",
    "    #Large Res\n",
    "    elif buildingType == 'Large B':\n",
    "        res_db = BestLargeRes\n",
    "    \n",
    "    elif buildingType == 'Small W':\n",
    "        res_db = WorstSmallRes\n",
    "    #Mid Res    \n",
    "    elif buildingType == 'Mid W':\n",
    "        res_db = WorstMidRes\n",
    "        \n",
    "    #Large Res\n",
    "    elif buildingType == 'Large W':\n",
    "        res_db = WorstLargeRes\n",
    "    \n",
    "\n",
    "    #Error Catcher\n",
    "    else:\n",
    "        print('ERROR NOT A VALID KEY')\n",
    "        return\n",
    "    \n",
    "    \n",
    "    #assign building types\n",
    "    Unique_Buildings = []\n",
    "    ET_reps = []\n",
    "    BuildingSelections = []\n",
    "    for building in res_db.index.unique():\n",
    "        Unique_Buildings.append(building)\n",
    "    \n",
    "    for rep in a1b_db.index.unique():\n",
    "        ET_reps.append(rep)\n",
    "        \n",
    "        dropdown_skinny = widgets.Dropdown(options = ET_reps,description = 'Skinny')\n",
    "        dropdown_Small_Lot_SF = widgets.Dropdown(options = ET_reps,description = 'Small_Lot_SF')\n",
    "        dropdown_Single_Cottage = widgets.Dropdown(options = ET_reps,description = 'Single_Cottage')\n",
    "        dropdown_Standard_Lot_SF = widgets.Dropdown(options = ET_reps,description = 'Standard_Lot_SF')\n",
    "        dropdown_Large_Lot_SF = widgets.Dropdown(options = ET_reps,description = 'Large_Lot_SF')\n",
    "        dropdown_Medium_Large_Lot_SF = widgets.Dropdown(options = ET_reps,description = 'Medium_Large_Lot')\n",
    "        dropdown_SFE = widgets.Dropdown(options = ET_reps,description = 'Single Family Estate')\n",
    "        dropdown_4_Plex = widgets.Dropdown(options = ET_reps,description = '4_Plex')\n",
    "        dropdown_8_Plex = widgets.Dropdown(options = ET_reps,description = '8_Plex')\n",
    "        dropdown_TH_Sus = widgets.Dropdown(options = ET_reps,description = 'TH_Sus')\n",
    "        dropdown_Duplex_Sus = widgets.Dropdown(options = ET_reps,description = 'Duplex_Sus')\n",
    "        dropdown_TH_HighDensity = widgets.Dropdown(options = ET_reps,description = 'TH_HighDensity')\n",
    "        \n",
    "    dropdowns = [dropdown_skinny, dropdown_Small_Lot_SF, dropdown_Single_Cottage,\n",
    "                    dropdown_Standard_Lot_SF, dropdown_Large_Lot_SF, dropdown_Medium_Large_Lot_SF, \n",
    "                    dropdown_SFE, dropdown_4_Plex, dropdown_8_Plex, dropdown_TH_Sus, dropdown_Duplex_Sus,\n",
    "                    dropdown_TH_HighDensity]\n",
    "        \n",
    "        \n",
    "    for dropdown in dropdowns:\n",
    "        display(dropdown)\n",
    "            \n",
    "   \n",
    "    #create decade array to iterate through\n",
    "\n",
    "    Energy_Total = 0\n",
    "    \n",
    "    \n",
    "            \n",
    "    \n",
    "    print(Unique_Buildings)\n",
    "    print()\n",
    "    #print(BuildingSelections)\n",
    "    return dropdowns"
   ]
  },
  {
   "cell_type": "code",
   "execution_count": 19,
   "metadata": {},
   "outputs": [],
   "source": [
    "def WriteEnergytoExcel(df):\n",
    "    sample =df.sample(n=50)\n",
    "    writer = pd.ExcelWriter('Output4.xls22x')\n",
    "    for decade in decades:\n",
    "        sampletemp = sample.copy()\n",
    "        EnergyArray = []\n",
    "        EnergyArrayW = []\n",
    "        EnergyArrayB = []\n",
    "        for index, row in sample.iterrows():\n",
    "            energyTemplate =(row['Energy Current'])\n",
    "            energyWorstTemplate = row['Energy Worst']\n",
    "            energyBestTemplate = row['Energy Best']\n",
    "\n",
    "            energy = a1b_db.loc[energyTemplate, decade]\n",
    "            energyWorst = a1b_db.loc[energyWorstTemplate, decade]\n",
    "            energyBest = a1b_db.loc[energyBestTemplate, decade]\n",
    "\n",
    "            EnergyArray.append(energy)\n",
    "            EnergyArrayW.append(energyWorst)\n",
    "            EnergyArrayB.append(energyBest)\n",
    "\n",
    "        sampletemp.insert(len(sample.columns),\"Energy Current\"+str(decade),EnergyArray)\n",
    "        sampletemp.insert(len(sample.columns),\"Energy Worst\"+str(decade),EnergyArrayW)\n",
    "        sampletemp.insert(len(sample.columns),\"Energy Best\"+str(decade),EnergyArrayB)\n",
    "        sampletemp.to_excel(writer, str(decade))\n",
    "\n",
    "    writer.close()"
   ]
  },
  {
   "cell_type": "code",
   "execution_count": 20,
   "metadata": {},
   "outputs": [],
   "source": [
    "def GenerateLinePlot(DevScenario):\n",
    "    energy_Total =[]\n",
    "    decades = BestSmallRes.columns\n",
    "    Unique_Buildings = []\n",
    "\n",
    "\n",
    "    if(DevScenario == 'Best'):\n",
    "        for building in BestSmallRes.index.unique():\n",
    "                Unique_Buildings.append(building)\n",
    "    elif(DevScenario == 'Worst'):\n",
    "        for building in WorstSmallRes.index.unique():\n",
    "                Unique_Buildings.append(building)\n",
    "    else:\n",
    "        print('KEY ERROR')\n",
    "        return\n",
    "    ref = {Unique_Buildings[i]: BuildingSelections[i] for i in range(len(Unique_Buildings))}\n",
    "    print(ref)\n",
    "\n",
    "    #print(energy_per_year)\n",
    "    for decade in decades:\n",
    "        total = 0\n",
    "        for building in Unique_Buildings:\n",
    "            energy_per_year = a1b_db.loc[ref[building], decade]\n",
    "            if(DevScenario == 'Best'):\n",
    "                num_buildings = BestSmallRes.loc[building,decade]\n",
    "            elif(DevScenario == 'Worst'):\n",
    "                num_buildings = WorstSmallRes.loc[building,decade]\n",
    "            else:\n",
    "                print('KEY ERROR')\n",
    "                return\n",
    "            total += num_buildings*energy_per_year\n",
    "        energy_Total.append(total*10)\n",
    "    print(energy_Total)\n",
    "    fig = px.line(x=decades, y=energy_Total, title='Energy Consumption')\n",
    "\n",
    "\n",
    "    fig.show()"
   ]
  },
  {
   "cell_type": "code",
   "execution_count": 30,
   "metadata": {},
   "outputs": [],
   "source": [
    "def OutputtoExcel(Output,Output2):    \n",
    "    \n",
    "    #cull the matrix for columns that are all zero\n",
    "    for Data in Output:\n",
    "        print(\"Before:\")\n",
    "        for row in Data:\n",
    "            print(row)\n",
    "        Sums = []\n",
    "        for col in range(0,len(Data[0])):\n",
    "            Sum = 0\n",
    "            for row in range(1,len(Data)):\n",
    "                Sum += Data[row][col]\n",
    "            Sums.append(Sum)\n",
    "        print()\n",
    "        print(Sums)\n",
    "        for x in range(len(Sums)-1,-1,-1):\n",
    "            print(x)\n",
    "            if Sums[x] == 0:\n",
    "                for row in Data:\n",
    "                    del row[x]\n",
    "        print(\"After:\")\n",
    "        for row in Data:\n",
    "            print(row)\n",
    "        print()\n",
    "\n",
    "    workbook = xlsxwriter.Workbook('StackedGraphBestNew.xlsx')\n",
    "    for Data in Output:\n",
    "\n",
    "        worksheet = workbook.add_worksheet()\n",
    "\n",
    "\n",
    "        for col_num,col_data in enumerate(Data):\n",
    "            for row_num, row_data in enumerate(col_data):\n",
    "                worksheet.write(row_num, col_num, row_data)\n",
    "\n",
    "    workbook.close()\n",
    "\n",
    "\n",
    "\n",
    "    #Worst Output\n",
    "    print(\"WORST\")\n",
    "    for Data in Output2:\n",
    "        print(\"Before:\")\n",
    "        for row in Data:\n",
    "            print(row)\n",
    "        Sums = []\n",
    "        for col in range(0,len(Data[0])):\n",
    "            Sum = 0\n",
    "            for row in range(1,len(Data)):\n",
    "                Sum += Data[row][col]\n",
    "            Sums.append(Sum)\n",
    "        print()\n",
    "        print(Sums)\n",
    "        for x in range(len(Sums)-1,-1,-1):\n",
    "            print(x)\n",
    "            if Sums[x] == 0:\n",
    "                for row in Data:\n",
    "                    del row[x]\n",
    "        print(\"After:\")\n",
    "        for row in Data:\n",
    "            print(row)\n",
    "        print()\n",
    "    workbookWorst = xlsxwriter.Workbook('StackedGraphWorstNew.xlsx')\n",
    "\n",
    "    for Data in Output2:\n",
    "\n",
    "        worksheetWorst = workbookWorst.add_worksheet()\n",
    "\n",
    "\n",
    "        for col_num,col_data in enumerate(Data):\n",
    "            for row_num, row_data in enumerate(col_data):\n",
    "                worksheetWorst.write(row_num, col_num, row_data)\n",
    "\n",
    "    workbookWorst.close()"
   ]
  },
  {
   "cell_type": "markdown",
   "metadata": {},
   "source": [
    "# Test Block"
   ]
  },
  {
   "cell_type": "code",
   "execution_count": 21,
   "metadata": {
    "scrolled": true
   },
   "outputs": [
    {
     "data": {
      "text/html": [
       "<div>\n",
       "<style scoped>\n",
       "    .dataframe tbody tr th:only-of-type {\n",
       "        vertical-align: middle;\n",
       "    }\n",
       "\n",
       "    .dataframe tbody tr th {\n",
       "        vertical-align: top;\n",
       "    }\n",
       "\n",
       "    .dataframe thead th {\n",
       "        text-align: right;\n",
       "    }\n",
       "</style>\n",
       "<table border=\"1\" class=\"dataframe\">\n",
       "  <thead>\n",
       "    <tr style=\"text-align: right;\">\n",
       "      <th></th>\n",
       "      <th>2020</th>\n",
       "      <th>2021</th>\n",
       "      <th>2022</th>\n",
       "      <th>2023</th>\n",
       "      <th>2024</th>\n",
       "      <th>2025</th>\n",
       "      <th>2026</th>\n",
       "      <th>2027</th>\n",
       "      <th>2028</th>\n",
       "      <th>2029</th>\n",
       "    </tr>\n",
       "  </thead>\n",
       "  <tbody>\n",
       "    <tr>\n",
       "      <th>0</th>\n",
       "      <td>Mont.40</td>\n",
       "      <td>Mont.61</td>\n",
       "      <td>Mont.65</td>\n",
       "      <td>Mont.66</td>\n",
       "      <td>Mont.88</td>\n",
       "      <td>Mont.90</td>\n",
       "      <td>Mont.109</td>\n",
       "      <td>Mont.121</td>\n",
       "      <td>Mont.150</td>\n",
       "      <td>Mont.180</td>\n",
       "    </tr>\n",
       "    <tr>\n",
       "      <th>1</th>\n",
       "      <td>Mont.184</td>\n",
       "      <td>Mont.192</td>\n",
       "      <td>Mont.200</td>\n",
       "      <td>Mont.207</td>\n",
       "      <td>Mont.208</td>\n",
       "      <td>Mont.217</td>\n",
       "      <td>Mont.266</td>\n",
       "      <td>Mont.267</td>\n",
       "      <td>Mont.341</td>\n",
       "      <td>Mont.346</td>\n",
       "    </tr>\n",
       "    <tr>\n",
       "      <th>2</th>\n",
       "      <td>Mont.353</td>\n",
       "      <td>Mont.375</td>\n",
       "      <td>Mont.383</td>\n",
       "      <td>Mont.408</td>\n",
       "      <td>Mont.449</td>\n",
       "      <td>Mont.455</td>\n",
       "      <td>Mont.465</td>\n",
       "      <td>Mont.469</td>\n",
       "      <td>Mont.494</td>\n",
       "      <td>Mont.541</td>\n",
       "    </tr>\n",
       "    <tr>\n",
       "      <th>3</th>\n",
       "      <td>Mont.547</td>\n",
       "      <td>Mont.550</td>\n",
       "      <td>Mont.567</td>\n",
       "      <td>Mont.572</td>\n",
       "      <td>Mont.577</td>\n",
       "      <td>Mont.580</td>\n",
       "      <td>Mont.593</td>\n",
       "      <td>Mont.617</td>\n",
       "      <td>Mont.625</td>\n",
       "      <td>Mont.644</td>\n",
       "    </tr>\n",
       "    <tr>\n",
       "      <th>4</th>\n",
       "      <td>Mont.645</td>\n",
       "      <td>Mont.650</td>\n",
       "      <td>Mont.658</td>\n",
       "      <td>Mont.679</td>\n",
       "      <td>Mont.689</td>\n",
       "      <td>Mont.716</td>\n",
       "      <td>Mont.730</td>\n",
       "      <td>Mont.733</td>\n",
       "      <td>Mont.847</td>\n",
       "      <td>Mont.848</td>\n",
       "    </tr>\n",
       "    <tr>\n",
       "      <th>5</th>\n",
       "      <td>Mont.911</td>\n",
       "      <td>Mont.973</td>\n",
       "      <td>Mont.981</td>\n",
       "      <td>Mont.1000</td>\n",
       "      <td>Mont.1002</td>\n",
       "      <td>Mont.1003</td>\n",
       "      <td>Mont.1010</td>\n",
       "      <td>Mont.1023</td>\n",
       "      <td>Mont.1025</td>\n",
       "      <td>Mont.1026</td>\n",
       "    </tr>\n",
       "    <tr>\n",
       "      <th>6</th>\n",
       "      <td>Mont.1029</td>\n",
       "      <td>Mont.1030</td>\n",
       "      <td>Mont.1033</td>\n",
       "      <td>Mont.1034</td>\n",
       "      <td>Mont.1216</td>\n",
       "      <td>Mont.1217</td>\n",
       "      <td>Mont.1234</td>\n",
       "      <td>Mont.1235</td>\n",
       "      <td>Mont.1236</td>\n",
       "      <td>Mont.1321</td>\n",
       "    </tr>\n",
       "    <tr>\n",
       "      <th>7</th>\n",
       "      <td>Mont.1327</td>\n",
       "      <td>Mont.1328</td>\n",
       "      <td>Mont.1407</td>\n",
       "      <td>Mont.1424</td>\n",
       "      <td>Mont.1444</td>\n",
       "      <td>Mont.1488</td>\n",
       "      <td>Mont.1499</td>\n",
       "      <td>Mont.1500</td>\n",
       "      <td>Mont.1519</td>\n",
       "      <td>Mont.1521</td>\n",
       "    </tr>\n",
       "    <tr>\n",
       "      <th>8</th>\n",
       "      <td>Mont.1523</td>\n",
       "      <td>Mont.1525</td>\n",
       "      <td>Mont.1544</td>\n",
       "      <td>Mont.1556</td>\n",
       "      <td>Mont.1561</td>\n",
       "      <td>Mont.1567</td>\n",
       "      <td>Mont.1594</td>\n",
       "      <td>Mont.1604</td>\n",
       "      <td>Mont.1608</td>\n",
       "      <td>Mont.1611</td>\n",
       "    </tr>\n",
       "    <tr>\n",
       "      <th>9</th>\n",
       "      <td>Mont.1612</td>\n",
       "      <td>Mont.1618</td>\n",
       "      <td>Mont.1628</td>\n",
       "      <td>Mont.1629</td>\n",
       "      <td>Mont.1630</td>\n",
       "      <td>Mont.1631</td>\n",
       "      <td>Mont.1635</td>\n",
       "      <td>Mont.1638</td>\n",
       "      <td>Mont.1639</td>\n",
       "      <td>Mont.1640</td>\n",
       "    </tr>\n",
       "    <tr>\n",
       "      <th>10</th>\n",
       "      <td>Mont.1650</td>\n",
       "      <td>Mont.1656</td>\n",
       "      <td>Mont.1658</td>\n",
       "      <td>Mont.1659</td>\n",
       "      <td>Mont.1661</td>\n",
       "      <td>Mont.1662</td>\n",
       "      <td>Mont.1669</td>\n",
       "      <td>Mont.1677</td>\n",
       "      <td>Mont.1678</td>\n",
       "      <td>Mont.1684</td>\n",
       "    </tr>\n",
       "    <tr>\n",
       "      <th>11</th>\n",
       "      <td>Mont.1685</td>\n",
       "      <td>Mont.1691</td>\n",
       "      <td>Mont.1693</td>\n",
       "      <td>Mont.1695</td>\n",
       "      <td>Mont.1727</td>\n",
       "      <td>Mont.1728</td>\n",
       "      <td>Mont.1740</td>\n",
       "      <td>Mont.1742</td>\n",
       "      <td>Mont.1743</td>\n",
       "      <td>Mont.1744</td>\n",
       "    </tr>\n",
       "  </tbody>\n",
       "</table>\n",
       "</div>"
      ],
      "text/plain": [
       "         2020       2021       2022       2023       2024       2025  \\\n",
       "0     Mont.40    Mont.61    Mont.65    Mont.66    Mont.88    Mont.90   \n",
       "1    Mont.184   Mont.192   Mont.200   Mont.207   Mont.208   Mont.217   \n",
       "2    Mont.353   Mont.375   Mont.383   Mont.408   Mont.449   Mont.455   \n",
       "3    Mont.547   Mont.550   Mont.567   Mont.572   Mont.577   Mont.580   \n",
       "4    Mont.645   Mont.650   Mont.658   Mont.679   Mont.689   Mont.716   \n",
       "5    Mont.911   Mont.973   Mont.981  Mont.1000  Mont.1002  Mont.1003   \n",
       "6   Mont.1029  Mont.1030  Mont.1033  Mont.1034  Mont.1216  Mont.1217   \n",
       "7   Mont.1327  Mont.1328  Mont.1407  Mont.1424  Mont.1444  Mont.1488   \n",
       "8   Mont.1523  Mont.1525  Mont.1544  Mont.1556  Mont.1561  Mont.1567   \n",
       "9   Mont.1612  Mont.1618  Mont.1628  Mont.1629  Mont.1630  Mont.1631   \n",
       "10  Mont.1650  Mont.1656  Mont.1658  Mont.1659  Mont.1661  Mont.1662   \n",
       "11  Mont.1685  Mont.1691  Mont.1693  Mont.1695  Mont.1727  Mont.1728   \n",
       "\n",
       "         2026       2027       2028       2029  \n",
       "0    Mont.109   Mont.121   Mont.150   Mont.180  \n",
       "1    Mont.266   Mont.267   Mont.341   Mont.346  \n",
       "2    Mont.465   Mont.469   Mont.494   Mont.541  \n",
       "3    Mont.593   Mont.617   Mont.625   Mont.644  \n",
       "4    Mont.730   Mont.733   Mont.847   Mont.848  \n",
       "5   Mont.1010  Mont.1023  Mont.1025  Mont.1026  \n",
       "6   Mont.1234  Mont.1235  Mont.1236  Mont.1321  \n",
       "7   Mont.1499  Mont.1500  Mont.1519  Mont.1521  \n",
       "8   Mont.1594  Mont.1604  Mont.1608  Mont.1611  \n",
       "9   Mont.1635  Mont.1638  Mont.1639  Mont.1640  \n",
       "10  Mont.1669  Mont.1677  Mont.1678  Mont.1684  \n",
       "11  Mont.1740  Mont.1742  Mont.1743  Mont.1744  "
      ]
     },
     "execution_count": 21,
     "metadata": {},
     "output_type": "execute_result"
    }
   ],
   "source": [
    "\n",
    "PV_50 = Policy(50,2040,1)\n",
    "YearArray = runSimulation(dfMont,Buildings_Mont)\n",
    "YearArray[0]\n",
    "\n",
    "\n"
   ]
  },
  {
   "cell_type": "code",
   "execution_count": 22,
   "metadata": {},
   "outputs": [],
   "source": [
    "#Make ID Type Index Value Only Runs Once\n",
    "a1b_db.set_index('Type', inplace = True)\n",
    "BestSmallRes.set_index('empty', inplace = True)\n",
    "WorstSmallRes.set_index('empty', inplace = True)"
   ]
  },
  {
   "cell_type": "code",
   "execution_count": 23,
   "metadata": {},
   "outputs": [
    {
     "data": {
      "application/vnd.jupyter.widget-view+json": {
       "model_id": "6cad3e73d5df44dabb10ae1c812814ad",
       "version_major": 2,
       "version_minor": 0
      },
      "text/plain": [
       "Dropdown(description='Skinny', options=('Duplex', '4 Plex (avg)', '8 Plex (avg)', 'Townhome High Density', 'To…"
      ]
     },
     "metadata": {},
     "output_type": "display_data"
    },
    {
     "data": {
      "application/vnd.jupyter.widget-view+json": {
       "model_id": "543977d7a69a4c1399bde1ac780d4423",
       "version_major": 2,
       "version_minor": 0
      },
      "text/plain": [
       "Dropdown(description='Small_Lot_SF', options=('Duplex', '4 Plex (avg)', '8 Plex (avg)', 'Townhome High Density…"
      ]
     },
     "metadata": {},
     "output_type": "display_data"
    },
    {
     "data": {
      "application/vnd.jupyter.widget-view+json": {
       "model_id": "cfc3fbba7e9546d694fe978c7f8f2fa4",
       "version_major": 2,
       "version_minor": 0
      },
      "text/plain": [
       "Dropdown(description='Single_Cottage', options=('Duplex', '4 Plex (avg)', '8 Plex (avg)', 'Townhome High Densi…"
      ]
     },
     "metadata": {},
     "output_type": "display_data"
    },
    {
     "data": {
      "application/vnd.jupyter.widget-view+json": {
       "model_id": "feb2af5c6ab44e9d9b78fb16a92a1620",
       "version_major": 2,
       "version_minor": 0
      },
      "text/plain": [
       "Dropdown(description='Standard_Lot_SF', options=('Duplex', '4 Plex (avg)', '8 Plex (avg)', 'Townhome High Dens…"
      ]
     },
     "metadata": {},
     "output_type": "display_data"
    },
    {
     "data": {
      "application/vnd.jupyter.widget-view+json": {
       "model_id": "8c8545525c4b4b82ba759493c59198b0",
       "version_major": 2,
       "version_minor": 0
      },
      "text/plain": [
       "Dropdown(description='Large_Lot_SF', options=('Duplex', '4 Plex (avg)', '8 Plex (avg)', 'Townhome High Density…"
      ]
     },
     "metadata": {},
     "output_type": "display_data"
    },
    {
     "data": {
      "application/vnd.jupyter.widget-view+json": {
       "model_id": "d3e65384d1234604a3ccbb23bed918f0",
       "version_major": 2,
       "version_minor": 0
      },
      "text/plain": [
       "Dropdown(description='Medium_Large_Lot', options=('Duplex', '4 Plex (avg)', '8 Plex (avg)', 'Townhome High Den…"
      ]
     },
     "metadata": {},
     "output_type": "display_data"
    },
    {
     "data": {
      "application/vnd.jupyter.widget-view+json": {
       "model_id": "492b543991e347d584e5b1de898ffe34",
       "version_major": 2,
       "version_minor": 0
      },
      "text/plain": [
       "Dropdown(description='Single Family Estate', options=('Duplex', '4 Plex (avg)', '8 Plex (avg)', 'Townhome High…"
      ]
     },
     "metadata": {},
     "output_type": "display_data"
    },
    {
     "data": {
      "application/vnd.jupyter.widget-view+json": {
       "model_id": "2adc87acd7ec4aab96516a920afe5380",
       "version_major": 2,
       "version_minor": 0
      },
      "text/plain": [
       "Dropdown(description='4_Plex', options=('Duplex', '4 Plex (avg)', '8 Plex (avg)', 'Townhome High Density', 'To…"
      ]
     },
     "metadata": {},
     "output_type": "display_data"
    },
    {
     "data": {
      "application/vnd.jupyter.widget-view+json": {
       "model_id": "e5991e1499ff4949a69b962abe481126",
       "version_major": 2,
       "version_minor": 0
      },
      "text/plain": [
       "Dropdown(description='8_Plex', options=('Duplex', '4 Plex (avg)', '8 Plex (avg)', 'Townhome High Density', 'To…"
      ]
     },
     "metadata": {},
     "output_type": "display_data"
    },
    {
     "data": {
      "application/vnd.jupyter.widget-view+json": {
       "model_id": "44cfc0961cea40b29b736d36bf0362f8",
       "version_major": 2,
       "version_minor": 0
      },
      "text/plain": [
       "Dropdown(description='TH_Sus', options=('Duplex', '4 Plex (avg)', '8 Plex (avg)', 'Townhome High Density', 'To…"
      ]
     },
     "metadata": {},
     "output_type": "display_data"
    },
    {
     "data": {
      "application/vnd.jupyter.widget-view+json": {
       "model_id": "239a6a25fcd74284ac2fff9d09847160",
       "version_major": 2,
       "version_minor": 0
      },
      "text/plain": [
       "Dropdown(description='Duplex_Sus', options=('Duplex', '4 Plex (avg)', '8 Plex (avg)', 'Townhome High Density',…"
      ]
     },
     "metadata": {},
     "output_type": "display_data"
    },
    {
     "data": {
      "application/vnd.jupyter.widget-view+json": {
       "model_id": "d4aeb49dd5414be0a5bf4009e1facee5",
       "version_major": 2,
       "version_minor": 0
      },
      "text/plain": [
       "Dropdown(description='TH_HighDensity', options=('Duplex', '4 Plex (avg)', '8 Plex (avg)', 'Townhome High Densi…"
      ]
     },
     "metadata": {},
     "output_type": "display_data"
    },
    {
     "name": "stdout",
     "output_type": "stream",
     "text": [
      "['Skinny Lot Single Family - 2,500 sq ft', 'Small Lot Single Family', 'Single Family Cottage', 'Single Family Standard Lot', 'Single Family Large Lot', 'Single Family Medium-Large Lot', 'Single Family Estate']\n",
      "\n"
     ]
    }
   ],
   "source": [
    "dropdowns = energySum('Small W','a1b')"
   ]
  },
  {
   "cell_type": "code",
   "execution_count": 24,
   "metadata": {},
   "outputs": [],
   "source": [
    "# Save the Users Inputs if you run this again it will erase them\n",
    "BuildingSelections = []\n",
    "for dropdown in dropdowns:\n",
    "    BuildingSelections.append(dropdown.value)"
   ]
  },
  {
   "cell_type": "markdown",
   "metadata": {},
   "source": [
    "Generate Graph of Energy Consumption"
   ]
  },
  {
   "cell_type": "code",
   "execution_count": 32,
   "metadata": {},
   "outputs": [
    {
     "name": "stdout",
     "output_type": "stream",
     "text": [
      "{'Skinny Lot Single Family - 2,500 sq ft': 'Duplex', 'Small Lot Single Family': 'Duplex', 'Single Family Cottage': 'Duplex', 'Single Family Standard Lot': 'Duplex', 'Single Family Large Lot': 'Duplex', 'Single Family Medium-Large Lot': 'Duplex', 'Single Family Estate': 'Duplex', '4 Plex': 'Duplex', '8 Plex': 'Duplex', 'Townhome, Medium Density: Sustainable': 'Duplex', 'Duplex: Sustainable': 'Duplex', 'Townhome High Density': 'Duplex'}\n",
      "{'Skinny Lot Single Family - 2,500 sq ft': 'Duplex', 'Small Lot Single Family': 'Duplex', 'Single Family Cottage': 'Duplex', 'Single Family Standard Lot': 'Duplex', 'Single Family Large Lot': 'Duplex', 'Single Family Medium-Large Lot': 'Duplex', 'Single Family Estate': 'Duplex', '4 Plex': 'Duplex', '8 Plex': 'Duplex', 'Townhome, Medium Density: Sustainable': 'Duplex', 'Duplex: Sustainable': 'Duplex', 'Townhome High Density': 'Duplex'}\n",
      "Small Residential\n",
      "[[2020, 0, 0, 0, 0, 0, 0, 0, 0, 0, 0, 0, 0], [2030, 0, 0, 0, 0, 0, 0, 0, 0, 0, 0, 0, 0], [2040, 0, 0, 0, 0, 0, 0, 0, 0, 0, 0, 0, 0], [2050, 0, 0, 0, 0, 0, 0, 0, 0, 0, 0, 0, 0], [2060, 0, 0, 0, 0, 0, 0, 0, 0, 0, 0, 0, 0], [2070, 0, 0, 0, 0, 0, 0, 0, 0, 0, 0, 0, 0], [2080, 0, 0, 0, 0, 0, 0, 0, 0, 0, 0, 0, 0], [2090, 0, 0, 0, 0, 0, 0, 0, 0, 0, 0, 0, 0], [2100, 0, 0, 0, 0, 0, 0, 0, 0, 0, 0, 0, 0]]\n",
      "2020\n",
      "Skinny Lot Single Family - 2,500 sq ft ---> 4 Plex 98 3\n",
      "Skinny Lot Single Family - 2,500 sq ft ---> Duplex: Sustainable 35 0\n",
      "Small Lot Single Family ---> 4 Plex 15 0\n",
      "Single Family Cottage ---> 4 Plex 44 0\n",
      "Single Family Standard Lot ---> 8 Plex 11 1\n",
      "Single Family Large Lot ---> Townhome, Medium Density: Sustainable 2 0\n",
      "Single Family Large Lot ---> Townhome High Density 2 1\n",
      "Single Family Medium-Large Lot ---> 8 Plex 2 3\n",
      "Single Family Medium-Large Lot ---> Townhome, Medium Density: Sustainable 0 0\n",
      "Single Family Estate ---> Townhome High Density 1 0\n",
      "2030\n",
      "Skinny Lot Single Family - 2,500 sq ft ---> 4 Plex 164 26\n",
      "Skinny Lot Single Family - 2,500 sq ft ---> Duplex: Sustainable 61 7\n",
      "Small Lot Single Family ---> 4 Plex 23 7\n",
      "Single Family Cottage ---> 4 Plex 71 10\n",
      "Single Family Standard Lot ---> 8 Plex 13 11\n",
      "Single Family Large Lot ---> Townhome, Medium Density: Sustainable 2 0\n",
      "Single Family Large Lot ---> Townhome High Density 1 4\n",
      "Single Family Medium-Large Lot ---> 8 Plex 1 6\n",
      "Single Family Medium-Large Lot ---> Townhome, Medium Density: Sustainable 0 0\n",
      "Single Family Estate ---> Townhome High Density 0 2\n",
      "2040\n",
      "Skinny Lot Single Family - 2,500 sq ft ---> 4 Plex 212 86\n",
      "Skinny Lot Single Family - 2,500 sq ft ---> Duplex: Sustainable 81 13\n",
      "Small Lot Single Family ---> 4 Plex 25 15\n",
      "Single Family Cottage ---> 4 Plex 71 42\n",
      "Single Family Standard Lot ---> 8 Plex 21 27\n",
      "Single Family Large Lot ---> Townhome, Medium Density: Sustainable 4 0\n",
      "Single Family Large Lot ---> Townhome High Density 0 6\n",
      "Single Family Medium-Large Lot ---> 8 Plex 1 9\n",
      "Single Family Medium-Large Lot ---> Townhome, Medium Density: Sustainable 0 1\n",
      "Single Family Estate ---> Townhome High Density 0 4\n",
      "2050\n",
      "Skinny Lot Single Family - 2,500 sq ft ---> 4 Plex 235 146\n",
      "Skinny Lot Single Family - 2,500 sq ft ---> Duplex: Sustainable 104 23\n",
      "Small Lot Single Family ---> 4 Plex 27 26\n",
      "Single Family Cottage ---> 4 Plex 87 67\n",
      "Single Family Standard Lot ---> 8 Plex 23 40\n",
      "Single Family Large Lot ---> Townhome, Medium Density: Sustainable 4 0\n",
      "Single Family Large Lot ---> Townhome High Density 0 9\n",
      "Single Family Medium-Large Lot ---> 8 Plex 1 9\n",
      "Single Family Medium-Large Lot ---> Townhome, Medium Density: Sustainable 0 2\n",
      "Single Family Estate ---> Townhome High Density 0 6\n",
      "2060\n",
      "Skinny Lot Single Family - 2,500 sq ft ---> 4 Plex 233 238\n",
      "Skinny Lot Single Family - 2,500 sq ft ---> Duplex: Sustainable 130 29\n",
      "Small Lot Single Family ---> 4 Plex 31 39\n",
      "Single Family Cottage ---> 4 Plex 93 96\n",
      "Single Family Standard Lot ---> 8 Plex 24 57\n",
      "Single Family Large Lot ---> Townhome, Medium Density: Sustainable 5 2\n",
      "Single Family Large Lot ---> Townhome High Density 0 9\n",
      "Single Family Medium-Large Lot ---> 8 Plex 2 10\n",
      "Single Family Medium-Large Lot ---> Townhome, Medium Density: Sustainable 0 3\n",
      "Single Family Estate ---> Townhome High Density 1 7\n",
      "2070\n",
      "Skinny Lot Single Family - 2,500 sq ft ---> 4 Plex 230 332\n",
      "Skinny Lot Single Family - 2,500 sq ft ---> Duplex: Sustainable 124 79\n",
      "Small Lot Single Family ---> 4 Plex 27 54\n",
      "Single Family Cottage ---> 4 Plex 93 143\n",
      "Single Family Standard Lot ---> 8 Plex 24 77\n",
      "Single Family Large Lot ---> Townhome, Medium Density: Sustainable 5 5\n",
      "Single Family Large Lot ---> Townhome High Density 0 10\n",
      "Single Family Medium-Large Lot ---> 8 Plex 3 13\n",
      "Single Family Medium-Large Lot ---> Townhome, Medium Density: Sustainable 0 5\n",
      "Single Family Estate ---> Townhome High Density 1 10\n",
      "2080\n",
      "Skinny Lot Single Family - 2,500 sq ft ---> 4 Plex 221 443\n",
      "Skinny Lot Single Family - 2,500 sq ft ---> Duplex: Sustainable 99 143\n",
      "Small Lot Single Family ---> 4 Plex 25 70\n",
      "Single Family Cottage ---> 4 Plex 79 196\n",
      "Single Family Standard Lot ---> 8 Plex 25 91\n",
      "Single Family Large Lot ---> Townhome, Medium Density: Sustainable 3 10\n",
      "Single Family Large Lot ---> Townhome High Density 0 12\n",
      "Single Family Medium-Large Lot ---> 8 Plex 3 13\n",
      "Single Family Medium-Large Lot ---> Townhome, Medium Density: Sustainable 0 5\n",
      "Single Family Estate ---> Townhome High Density 1 12\n",
      "2090\n",
      "Skinny Lot Single Family - 2,500 sq ft ---> 4 Plex 117 639\n",
      "Skinny Lot Single Family - 2,500 sq ft ---> Duplex: Sustainable 53 218\n",
      "Small Lot Single Family ---> 4 Plex 21 94\n",
      "Single Family Cottage ---> 4 Plex 41 277\n",
      "Single Family Standard Lot ---> 8 Plex 18 114\n",
      "Single Family Large Lot ---> Townhome, Medium Density: Sustainable 2 12\n",
      "Single Family Large Lot ---> Townhome High Density 0 13\n",
      "Single Family Medium-Large Lot ---> 8 Plex 0 22\n",
      "Single Family Medium-Large Lot ---> Townhome, Medium Density: Sustainable 1 7\n",
      "Single Family Estate ---> Townhome High Density 1 17\n",
      "2100\n",
      "Skinny Lot Single Family - 2,500 sq ft ---> 4 Plex 1 855\n",
      "Skinny Lot Single Family - 2,500 sq ft ---> Duplex: Sustainable 2 301\n",
      "Small Lot Single Family ---> 4 Plex 0 130\n",
      "Single Family Cottage ---> 4 Plex 0 369\n",
      "Single Family Standard Lot ---> 8 Plex 1 157\n",
      "Single Family Large Lot ---> Townhome, Medium Density: Sustainable 0 21\n",
      "Single Family Large Lot ---> Townhome High Density 0 18\n",
      "Single Family Medium-Large Lot ---> 8 Plex 0 24\n",
      "Single Family Medium-Large Lot ---> Townhome, Medium Density: Sustainable 0 10\n",
      "Single Family Estate ---> Townhome High Density 1 19\n",
      "{'Skinny Lot Single Family - 2,500 sq ft': 'Duplex', 'Small Lot Single Family': 'Duplex', 'Single Family Cottage': 'Duplex', 'Single Family Standard Lot': 'Duplex', 'Single Family Large Lot': 'Duplex', 'Single Family Medium-Large Lot': 'Duplex', 'Single Family Estate': 'Duplex', '4 Plex': 'Duplex', '8 Plex': 'Duplex', 'Townhome, Medium Density: Sustainable': 'Duplex', 'Duplex: Sustainable': 'Duplex', 'Townhome High Density': 'Duplex'}\n",
      "Before:\n",
      "['empty', 'Skinny Lot Single Family - 2,500 sq ft', 'Small Lot Single Family', 'Single Family Cottage', 'Single Family Standard Lot', 'Single Family Large Lot', 'Single Family Medium-Large Lot', 'Single Family Estate', '4 Plex', '8 Plex', 'Townhome, Medium Density: Sustainable', 'Duplex: Sustainable', 'Townhome High Density']\n",
      "[2020, 131, 15, 44, 11, 4, 2, 1, 3, 4, 0, 0, 1]\n",
      "[2030, 223, 23, 71, 13, 3, 1, 0, 43, 17, 0, 7, 6]\n",
      "[2040, 291, 25, 71, 21, 4, 1, 0, 143, 36, 1, 13, 10]\n",
      "[2050, 337, 27, 87, 23, 4, 1, 0, 239, 49, 2, 23, 15]\n",
      "[2060, 361, 31, 93, 24, 5, 2, 1, 373, 67, 5, 29, 16]\n",
      "[2070, 351, 27, 93, 24, 5, 3, 1, 529, 90, 10, 79, 20]\n",
      "[2080, 317, 25, 79, 25, 3, 3, 1, 709, 104, 15, 143, 24]\n",
      "[2090, 167, 21, 41, 18, 2, 1, 0, 1010, 136, 19, 218, 30]\n",
      "[2100, 0, 0, 0, 0, 0, 0, 0, 1354, 181, 31, 301, 37]\n",
      "\n",
      "[18540, 2178, 194, 579, 159, 30, 14, 4, 4403, 684, 83, 813, 159]\n",
      "12\n",
      "11\n",
      "10\n",
      "9\n",
      "8\n",
      "7\n",
      "6\n",
      "5\n",
      "4\n",
      "3\n",
      "2\n",
      "1\n",
      "0\n",
      "After:\n",
      "['empty', 'Skinny Lot Single Family - 2,500 sq ft', 'Small Lot Single Family', 'Single Family Cottage', 'Single Family Standard Lot', 'Single Family Large Lot', 'Single Family Medium-Large Lot', 'Single Family Estate', '4 Plex', '8 Plex', 'Townhome, Medium Density: Sustainable', 'Duplex: Sustainable', 'Townhome High Density']\n",
      "[2020, 131, 15, 44, 11, 4, 2, 1, 3, 4, 0, 0, 1]\n",
      "[2030, 223, 23, 71, 13, 3, 1, 0, 43, 17, 0, 7, 6]\n",
      "[2040, 291, 25, 71, 21, 4, 1, 0, 143, 36, 1, 13, 10]\n",
      "[2050, 337, 27, 87, 23, 4, 1, 0, 239, 49, 2, 23, 15]\n",
      "[2060, 361, 31, 93, 24, 5, 2, 1, 373, 67, 5, 29, 16]\n",
      "[2070, 351, 27, 93, 24, 5, 3, 1, 529, 90, 10, 79, 20]\n",
      "[2080, 317, 25, 79, 25, 3, 3, 1, 709, 104, 15, 143, 24]\n",
      "[2090, 167, 21, 41, 18, 2, 1, 0, 1010, 136, 19, 218, 30]\n",
      "[2100, 0, 0, 0, 0, 0, 0, 0, 1354, 181, 31, 301, 37]\n",
      "\n",
      "WORST\n",
      "Before:\n",
      "['empty', 'Skinny Lot Single Family - 2,500 sq ft', 'Small Lot Single Family', 'Single Family Cottage', 'Single Family Standard Lot', 'Single Family Large Lot', 'Single Family Medium-Large Lot', 'Single Family Estate', 'Single Family Medium-Large Lot', 'Single Family Large Lot', 'Small Lot Single Family']\n",
      "[2020, 131, 15, 44, 11, 8, 6, 1, 0, 0, 0]\n",
      "[2030, 223, 29, 71, 13, 23, 48, 0, 0, 0, 0]\n",
      "[2040, 291, 35, 71, 21, 39, 159, 0, 0, 0, 0]\n",
      "[2050, 337, 44, 87, 23, 48, 268, 0, 0, 0, 0]\n",
      "[2060, 361, 53, 93, 24, 62, 413, 1, 0, 0, 0]\n",
      "[2070, 351, 75, 93, 24, 79, 609, 1, 0, 0, 0]\n",
      "[2080, 317, 104, 79, 25, 92, 830, 1, 0, 0, 0]\n",
      "[2090, 167, 134, 41, 18, 120, 1183, 0, 0, 0, 0]\n",
      "[2100, 0, 170, 0, 0, 157, 1577, 0, 0, 0, 0]\n",
      "\n",
      "[18540, 2178, 659, 579, 159, 628, 5093, 4, 0, 0, 0]\n",
      "10\n",
      "9\n",
      "8\n",
      "7\n",
      "6\n",
      "5\n",
      "4\n",
      "3\n",
      "2\n",
      "1\n",
      "0\n",
      "After:\n",
      "['empty', 'Skinny Lot Single Family - 2,500 sq ft', 'Small Lot Single Family', 'Single Family Cottage', 'Single Family Standard Lot', 'Single Family Large Lot', 'Single Family Medium-Large Lot', 'Single Family Estate']\n",
      "[2020, 131, 15, 44, 11, 8, 6, 1]\n",
      "[2030, 223, 29, 71, 13, 23, 48, 0]\n",
      "[2040, 291, 35, 71, 21, 39, 159, 0]\n",
      "[2050, 337, 44, 87, 23, 48, 268, 0]\n",
      "[2060, 361, 53, 93, 24, 62, 413, 1]\n",
      "[2070, 351, 75, 93, 24, 79, 609, 1]\n",
      "[2080, 317, 104, 79, 25, 92, 830, 1]\n",
      "[2090, 167, 134, 41, 18, 120, 1183, 0]\n",
      "[2100, 0, 170, 0, 0, 157, 1577, 0]\n",
      "\n",
      "{'Skinny Lot Single Family - 2,500 sq ft': 'Duplex', 'Small Lot Single Family': 'Duplex', 'Single Family Cottage': 'Duplex', 'Single Family Standard Lot': 'Duplex', 'Single Family Large Lot': 'Duplex', 'Single Family Medium-Large Lot': 'Duplex', 'Single Family Estate': 'Duplex', '4 Plex': 'Duplex', '8 Plex': 'Duplex', 'Townhome, Medium Density: Sustainable': 'Duplex', 'Duplex: Sustainable': 'Duplex', 'Townhome High Density': 'Duplex'}\n",
      "[1637922000000000.0, 1668466000000000.0, nan, 1767734000000000.0, 1830731000000000.0, 1847912000000000.0, 1802096000000000.0, 1748644000000000.0, 1947180000000000.0]\n"
     ]
    },
    {
     "data": {
      "application/vnd.plotly.v1+json": {
       "config": {
        "plotlyServerURL": "https://plot.ly"
       },
       "data": [
        {
         "hovertemplate": "x=%{x}<br>y=%{y}<extra></extra>",
         "legendgroup": "",
         "line": {
          "color": "#636efa",
          "dash": "solid"
         },
         "mode": "lines",
         "name": "",
         "orientation": "v",
         "showlegend": false,
         "type": "scatter",
         "x": [
          2020,
          2030,
          2040,
          2050,
          2060,
          2070,
          2080,
          2090,
          2100
         ],
         "xaxis": "x",
         "y": [
          1637922000000000,
          1668466000000000,
          null,
          1767734000000000,
          1830731000000000,
          1847912000000000,
          1802096000000000,
          1748644000000000,
          1947180000000000
         ],
         "yaxis": "y"
        }
       ],
       "layout": {
        "legend": {
         "tracegroupgap": 0
        },
        "template": {
         "data": {
          "bar": [
           {
            "error_x": {
             "color": "#2a3f5f"
            },
            "error_y": {
             "color": "#2a3f5f"
            },
            "marker": {
             "line": {
              "color": "#E5ECF6",
              "width": 0.5
             }
            },
            "type": "bar"
           }
          ],
          "barpolar": [
           {
            "marker": {
             "line": {
              "color": "#E5ECF6",
              "width": 0.5
             }
            },
            "type": "barpolar"
           }
          ],
          "carpet": [
           {
            "aaxis": {
             "endlinecolor": "#2a3f5f",
             "gridcolor": "white",
             "linecolor": "white",
             "minorgridcolor": "white",
             "startlinecolor": "#2a3f5f"
            },
            "baxis": {
             "endlinecolor": "#2a3f5f",
             "gridcolor": "white",
             "linecolor": "white",
             "minorgridcolor": "white",
             "startlinecolor": "#2a3f5f"
            },
            "type": "carpet"
           }
          ],
          "choropleth": [
           {
            "colorbar": {
             "outlinewidth": 0,
             "ticks": ""
            },
            "type": "choropleth"
           }
          ],
          "contour": [
           {
            "colorbar": {
             "outlinewidth": 0,
             "ticks": ""
            },
            "colorscale": [
             [
              0,
              "#0d0887"
             ],
             [
              0.1111111111111111,
              "#46039f"
             ],
             [
              0.2222222222222222,
              "#7201a8"
             ],
             [
              0.3333333333333333,
              "#9c179e"
             ],
             [
              0.4444444444444444,
              "#bd3786"
             ],
             [
              0.5555555555555556,
              "#d8576b"
             ],
             [
              0.6666666666666666,
              "#ed7953"
             ],
             [
              0.7777777777777778,
              "#fb9f3a"
             ],
             [
              0.8888888888888888,
              "#fdca26"
             ],
             [
              1,
              "#f0f921"
             ]
            ],
            "type": "contour"
           }
          ],
          "contourcarpet": [
           {
            "colorbar": {
             "outlinewidth": 0,
             "ticks": ""
            },
            "type": "contourcarpet"
           }
          ],
          "heatmap": [
           {
            "colorbar": {
             "outlinewidth": 0,
             "ticks": ""
            },
            "colorscale": [
             [
              0,
              "#0d0887"
             ],
             [
              0.1111111111111111,
              "#46039f"
             ],
             [
              0.2222222222222222,
              "#7201a8"
             ],
             [
              0.3333333333333333,
              "#9c179e"
             ],
             [
              0.4444444444444444,
              "#bd3786"
             ],
             [
              0.5555555555555556,
              "#d8576b"
             ],
             [
              0.6666666666666666,
              "#ed7953"
             ],
             [
              0.7777777777777778,
              "#fb9f3a"
             ],
             [
              0.8888888888888888,
              "#fdca26"
             ],
             [
              1,
              "#f0f921"
             ]
            ],
            "type": "heatmap"
           }
          ],
          "heatmapgl": [
           {
            "colorbar": {
             "outlinewidth": 0,
             "ticks": ""
            },
            "colorscale": [
             [
              0,
              "#0d0887"
             ],
             [
              0.1111111111111111,
              "#46039f"
             ],
             [
              0.2222222222222222,
              "#7201a8"
             ],
             [
              0.3333333333333333,
              "#9c179e"
             ],
             [
              0.4444444444444444,
              "#bd3786"
             ],
             [
              0.5555555555555556,
              "#d8576b"
             ],
             [
              0.6666666666666666,
              "#ed7953"
             ],
             [
              0.7777777777777778,
              "#fb9f3a"
             ],
             [
              0.8888888888888888,
              "#fdca26"
             ],
             [
              1,
              "#f0f921"
             ]
            ],
            "type": "heatmapgl"
           }
          ],
          "histogram": [
           {
            "marker": {
             "colorbar": {
              "outlinewidth": 0,
              "ticks": ""
             }
            },
            "type": "histogram"
           }
          ],
          "histogram2d": [
           {
            "colorbar": {
             "outlinewidth": 0,
             "ticks": ""
            },
            "colorscale": [
             [
              0,
              "#0d0887"
             ],
             [
              0.1111111111111111,
              "#46039f"
             ],
             [
              0.2222222222222222,
              "#7201a8"
             ],
             [
              0.3333333333333333,
              "#9c179e"
             ],
             [
              0.4444444444444444,
              "#bd3786"
             ],
             [
              0.5555555555555556,
              "#d8576b"
             ],
             [
              0.6666666666666666,
              "#ed7953"
             ],
             [
              0.7777777777777778,
              "#fb9f3a"
             ],
             [
              0.8888888888888888,
              "#fdca26"
             ],
             [
              1,
              "#f0f921"
             ]
            ],
            "type": "histogram2d"
           }
          ],
          "histogram2dcontour": [
           {
            "colorbar": {
             "outlinewidth": 0,
             "ticks": ""
            },
            "colorscale": [
             [
              0,
              "#0d0887"
             ],
             [
              0.1111111111111111,
              "#46039f"
             ],
             [
              0.2222222222222222,
              "#7201a8"
             ],
             [
              0.3333333333333333,
              "#9c179e"
             ],
             [
              0.4444444444444444,
              "#bd3786"
             ],
             [
              0.5555555555555556,
              "#d8576b"
             ],
             [
              0.6666666666666666,
              "#ed7953"
             ],
             [
              0.7777777777777778,
              "#fb9f3a"
             ],
             [
              0.8888888888888888,
              "#fdca26"
             ],
             [
              1,
              "#f0f921"
             ]
            ],
            "type": "histogram2dcontour"
           }
          ],
          "mesh3d": [
           {
            "colorbar": {
             "outlinewidth": 0,
             "ticks": ""
            },
            "type": "mesh3d"
           }
          ],
          "parcoords": [
           {
            "line": {
             "colorbar": {
              "outlinewidth": 0,
              "ticks": ""
             }
            },
            "type": "parcoords"
           }
          ],
          "pie": [
           {
            "automargin": true,
            "type": "pie"
           }
          ],
          "scatter": [
           {
            "marker": {
             "colorbar": {
              "outlinewidth": 0,
              "ticks": ""
             }
            },
            "type": "scatter"
           }
          ],
          "scatter3d": [
           {
            "line": {
             "colorbar": {
              "outlinewidth": 0,
              "ticks": ""
             }
            },
            "marker": {
             "colorbar": {
              "outlinewidth": 0,
              "ticks": ""
             }
            },
            "type": "scatter3d"
           }
          ],
          "scattercarpet": [
           {
            "marker": {
             "colorbar": {
              "outlinewidth": 0,
              "ticks": ""
             }
            },
            "type": "scattercarpet"
           }
          ],
          "scattergeo": [
           {
            "marker": {
             "colorbar": {
              "outlinewidth": 0,
              "ticks": ""
             }
            },
            "type": "scattergeo"
           }
          ],
          "scattergl": [
           {
            "marker": {
             "colorbar": {
              "outlinewidth": 0,
              "ticks": ""
             }
            },
            "type": "scattergl"
           }
          ],
          "scattermapbox": [
           {
            "marker": {
             "colorbar": {
              "outlinewidth": 0,
              "ticks": ""
             }
            },
            "type": "scattermapbox"
           }
          ],
          "scatterpolar": [
           {
            "marker": {
             "colorbar": {
              "outlinewidth": 0,
              "ticks": ""
             }
            },
            "type": "scatterpolar"
           }
          ],
          "scatterpolargl": [
           {
            "marker": {
             "colorbar": {
              "outlinewidth": 0,
              "ticks": ""
             }
            },
            "type": "scatterpolargl"
           }
          ],
          "scatterternary": [
           {
            "marker": {
             "colorbar": {
              "outlinewidth": 0,
              "ticks": ""
             }
            },
            "type": "scatterternary"
           }
          ],
          "surface": [
           {
            "colorbar": {
             "outlinewidth": 0,
             "ticks": ""
            },
            "colorscale": [
             [
              0,
              "#0d0887"
             ],
             [
              0.1111111111111111,
              "#46039f"
             ],
             [
              0.2222222222222222,
              "#7201a8"
             ],
             [
              0.3333333333333333,
              "#9c179e"
             ],
             [
              0.4444444444444444,
              "#bd3786"
             ],
             [
              0.5555555555555556,
              "#d8576b"
             ],
             [
              0.6666666666666666,
              "#ed7953"
             ],
             [
              0.7777777777777778,
              "#fb9f3a"
             ],
             [
              0.8888888888888888,
              "#fdca26"
             ],
             [
              1,
              "#f0f921"
             ]
            ],
            "type": "surface"
           }
          ],
          "table": [
           {
            "cells": {
             "fill": {
              "color": "#EBF0F8"
             },
             "line": {
              "color": "white"
             }
            },
            "header": {
             "fill": {
              "color": "#C8D4E3"
             },
             "line": {
              "color": "white"
             }
            },
            "type": "table"
           }
          ]
         },
         "layout": {
          "annotationdefaults": {
           "arrowcolor": "#2a3f5f",
           "arrowhead": 0,
           "arrowwidth": 1
          },
          "autotypenumbers": "strict",
          "coloraxis": {
           "colorbar": {
            "outlinewidth": 0,
            "ticks": ""
           }
          },
          "colorscale": {
           "diverging": [
            [
             0,
             "#8e0152"
            ],
            [
             0.1,
             "#c51b7d"
            ],
            [
             0.2,
             "#de77ae"
            ],
            [
             0.3,
             "#f1b6da"
            ],
            [
             0.4,
             "#fde0ef"
            ],
            [
             0.5,
             "#f7f7f7"
            ],
            [
             0.6,
             "#e6f5d0"
            ],
            [
             0.7,
             "#b8e186"
            ],
            [
             0.8,
             "#7fbc41"
            ],
            [
             0.9,
             "#4d9221"
            ],
            [
             1,
             "#276419"
            ]
           ],
           "sequential": [
            [
             0,
             "#0d0887"
            ],
            [
             0.1111111111111111,
             "#46039f"
            ],
            [
             0.2222222222222222,
             "#7201a8"
            ],
            [
             0.3333333333333333,
             "#9c179e"
            ],
            [
             0.4444444444444444,
             "#bd3786"
            ],
            [
             0.5555555555555556,
             "#d8576b"
            ],
            [
             0.6666666666666666,
             "#ed7953"
            ],
            [
             0.7777777777777778,
             "#fb9f3a"
            ],
            [
             0.8888888888888888,
             "#fdca26"
            ],
            [
             1,
             "#f0f921"
            ]
           ],
           "sequentialminus": [
            [
             0,
             "#0d0887"
            ],
            [
             0.1111111111111111,
             "#46039f"
            ],
            [
             0.2222222222222222,
             "#7201a8"
            ],
            [
             0.3333333333333333,
             "#9c179e"
            ],
            [
             0.4444444444444444,
             "#bd3786"
            ],
            [
             0.5555555555555556,
             "#d8576b"
            ],
            [
             0.6666666666666666,
             "#ed7953"
            ],
            [
             0.7777777777777778,
             "#fb9f3a"
            ],
            [
             0.8888888888888888,
             "#fdca26"
            ],
            [
             1,
             "#f0f921"
            ]
           ]
          },
          "colorway": [
           "#636efa",
           "#EF553B",
           "#00cc96",
           "#ab63fa",
           "#FFA15A",
           "#19d3f3",
           "#FF6692",
           "#B6E880",
           "#FF97FF",
           "#FECB52"
          ],
          "font": {
           "color": "#2a3f5f"
          },
          "geo": {
           "bgcolor": "white",
           "lakecolor": "white",
           "landcolor": "#E5ECF6",
           "showlakes": true,
           "showland": true,
           "subunitcolor": "white"
          },
          "hoverlabel": {
           "align": "left"
          },
          "hovermode": "closest",
          "mapbox": {
           "style": "light"
          },
          "paper_bgcolor": "white",
          "plot_bgcolor": "#E5ECF6",
          "polar": {
           "angularaxis": {
            "gridcolor": "white",
            "linecolor": "white",
            "ticks": ""
           },
           "bgcolor": "#E5ECF6",
           "radialaxis": {
            "gridcolor": "white",
            "linecolor": "white",
            "ticks": ""
           }
          },
          "scene": {
           "xaxis": {
            "backgroundcolor": "#E5ECF6",
            "gridcolor": "white",
            "gridwidth": 2,
            "linecolor": "white",
            "showbackground": true,
            "ticks": "",
            "zerolinecolor": "white"
           },
           "yaxis": {
            "backgroundcolor": "#E5ECF6",
            "gridcolor": "white",
            "gridwidth": 2,
            "linecolor": "white",
            "showbackground": true,
            "ticks": "",
            "zerolinecolor": "white"
           },
           "zaxis": {
            "backgroundcolor": "#E5ECF6",
            "gridcolor": "white",
            "gridwidth": 2,
            "linecolor": "white",
            "showbackground": true,
            "ticks": "",
            "zerolinecolor": "white"
           }
          },
          "shapedefaults": {
           "line": {
            "color": "#2a3f5f"
           }
          },
          "ternary": {
           "aaxis": {
            "gridcolor": "white",
            "linecolor": "white",
            "ticks": ""
           },
           "baxis": {
            "gridcolor": "white",
            "linecolor": "white",
            "ticks": ""
           },
           "bgcolor": "#E5ECF6",
           "caxis": {
            "gridcolor": "white",
            "linecolor": "white",
            "ticks": ""
           }
          },
          "title": {
           "x": 0.05
          },
          "xaxis": {
           "automargin": true,
           "gridcolor": "white",
           "linecolor": "white",
           "ticks": "",
           "title": {
            "standoff": 15
           },
           "zerolinecolor": "white",
           "zerolinewidth": 2
          },
          "yaxis": {
           "automargin": true,
           "gridcolor": "white",
           "linecolor": "white",
           "ticks": "",
           "title": {
            "standoff": 15
           },
           "zerolinecolor": "white",
           "zerolinewidth": 2
          }
         }
        },
        "title": {
         "text": "Energy Consumption"
        },
        "xaxis": {
         "anchor": "y",
         "domain": [
          0,
          1
         ],
         "title": {
          "text": "x"
         }
        },
        "yaxis": {
         "anchor": "x",
         "domain": [
          0,
          1
         ],
         "title": {
          "text": "y"
         }
        }
       }
      },
      "text/html": [
       "<div>                            <div id=\"1852bbc3-ae81-4263-9f32-dda7d29b4ae9\" class=\"plotly-graph-div\" style=\"height:525px; width:100%;\"></div>            <script type=\"text/javascript\">                require([\"plotly\"], function(Plotly) {                    window.PLOTLYENV=window.PLOTLYENV || {};                                    if (document.getElementById(\"1852bbc3-ae81-4263-9f32-dda7d29b4ae9\")) {                    Plotly.newPlot(                        \"1852bbc3-ae81-4263-9f32-dda7d29b4ae9\",                        [{\"hovertemplate\": \"x=%{x}<br>y=%{y}<extra></extra>\", \"legendgroup\": \"\", \"line\": {\"color\": \"#636efa\", \"dash\": \"solid\"}, \"mode\": \"lines\", \"name\": \"\", \"orientation\": \"v\", \"showlegend\": false, \"type\": \"scatter\", \"x\": [2020, 2030, 2040, 2050, 2060, 2070, 2080, 2090, 2100], \"xaxis\": \"x\", \"y\": [1637922000000000.0, 1668466000000000.0, null, 1767734000000000.0, 1830731000000000.0, 1847912000000000.0, 1802096000000000.0, 1748644000000000.0, 1947180000000000.0], \"yaxis\": \"y\"}],                        {\"legend\": {\"tracegroupgap\": 0}, \"template\": {\"data\": {\"bar\": [{\"error_x\": {\"color\": \"#2a3f5f\"}, \"error_y\": {\"color\": \"#2a3f5f\"}, \"marker\": {\"line\": {\"color\": \"#E5ECF6\", \"width\": 0.5}}, \"type\": \"bar\"}], \"barpolar\": [{\"marker\": {\"line\": {\"color\": \"#E5ECF6\", \"width\": 0.5}}, \"type\": \"barpolar\"}], \"carpet\": [{\"aaxis\": {\"endlinecolor\": \"#2a3f5f\", \"gridcolor\": \"white\", \"linecolor\": \"white\", \"minorgridcolor\": \"white\", \"startlinecolor\": \"#2a3f5f\"}, \"baxis\": {\"endlinecolor\": \"#2a3f5f\", \"gridcolor\": \"white\", \"linecolor\": \"white\", \"minorgridcolor\": \"white\", \"startlinecolor\": \"#2a3f5f\"}, \"type\": \"carpet\"}], \"choropleth\": [{\"colorbar\": {\"outlinewidth\": 0, \"ticks\": \"\"}, \"type\": \"choropleth\"}], \"contour\": [{\"colorbar\": {\"outlinewidth\": 0, \"ticks\": \"\"}, \"colorscale\": [[0.0, \"#0d0887\"], [0.1111111111111111, \"#46039f\"], [0.2222222222222222, \"#7201a8\"], [0.3333333333333333, \"#9c179e\"], [0.4444444444444444, \"#bd3786\"], [0.5555555555555556, \"#d8576b\"], [0.6666666666666666, \"#ed7953\"], [0.7777777777777778, \"#fb9f3a\"], [0.8888888888888888, \"#fdca26\"], [1.0, \"#f0f921\"]], \"type\": \"contour\"}], \"contourcarpet\": [{\"colorbar\": {\"outlinewidth\": 0, \"ticks\": \"\"}, \"type\": \"contourcarpet\"}], \"heatmap\": [{\"colorbar\": {\"outlinewidth\": 0, \"ticks\": \"\"}, \"colorscale\": [[0.0, \"#0d0887\"], [0.1111111111111111, \"#46039f\"], [0.2222222222222222, \"#7201a8\"], [0.3333333333333333, \"#9c179e\"], [0.4444444444444444, \"#bd3786\"], [0.5555555555555556, \"#d8576b\"], [0.6666666666666666, \"#ed7953\"], [0.7777777777777778, \"#fb9f3a\"], [0.8888888888888888, \"#fdca26\"], [1.0, \"#f0f921\"]], \"type\": \"heatmap\"}], \"heatmapgl\": [{\"colorbar\": {\"outlinewidth\": 0, \"ticks\": \"\"}, \"colorscale\": [[0.0, \"#0d0887\"], [0.1111111111111111, \"#46039f\"], [0.2222222222222222, \"#7201a8\"], [0.3333333333333333, \"#9c179e\"], [0.4444444444444444, \"#bd3786\"], [0.5555555555555556, \"#d8576b\"], [0.6666666666666666, \"#ed7953\"], [0.7777777777777778, \"#fb9f3a\"], [0.8888888888888888, \"#fdca26\"], [1.0, \"#f0f921\"]], \"type\": \"heatmapgl\"}], \"histogram\": [{\"marker\": {\"colorbar\": {\"outlinewidth\": 0, \"ticks\": \"\"}}, \"type\": \"histogram\"}], \"histogram2d\": [{\"colorbar\": {\"outlinewidth\": 0, \"ticks\": \"\"}, \"colorscale\": [[0.0, \"#0d0887\"], [0.1111111111111111, \"#46039f\"], [0.2222222222222222, \"#7201a8\"], [0.3333333333333333, \"#9c179e\"], [0.4444444444444444, \"#bd3786\"], [0.5555555555555556, \"#d8576b\"], [0.6666666666666666, \"#ed7953\"], [0.7777777777777778, \"#fb9f3a\"], [0.8888888888888888, \"#fdca26\"], [1.0, \"#f0f921\"]], \"type\": \"histogram2d\"}], \"histogram2dcontour\": [{\"colorbar\": {\"outlinewidth\": 0, \"ticks\": \"\"}, \"colorscale\": [[0.0, \"#0d0887\"], [0.1111111111111111, \"#46039f\"], [0.2222222222222222, \"#7201a8\"], [0.3333333333333333, \"#9c179e\"], [0.4444444444444444, \"#bd3786\"], [0.5555555555555556, \"#d8576b\"], [0.6666666666666666, \"#ed7953\"], [0.7777777777777778, \"#fb9f3a\"], [0.8888888888888888, \"#fdca26\"], [1.0, \"#f0f921\"]], \"type\": \"histogram2dcontour\"}], \"mesh3d\": [{\"colorbar\": {\"outlinewidth\": 0, \"ticks\": \"\"}, \"type\": \"mesh3d\"}], \"parcoords\": [{\"line\": {\"colorbar\": {\"outlinewidth\": 0, \"ticks\": \"\"}}, \"type\": \"parcoords\"}], \"pie\": [{\"automargin\": true, \"type\": \"pie\"}], \"scatter\": [{\"marker\": {\"colorbar\": {\"outlinewidth\": 0, \"ticks\": \"\"}}, \"type\": \"scatter\"}], \"scatter3d\": [{\"line\": {\"colorbar\": {\"outlinewidth\": 0, \"ticks\": \"\"}}, \"marker\": {\"colorbar\": {\"outlinewidth\": 0, \"ticks\": \"\"}}, \"type\": \"scatter3d\"}], \"scattercarpet\": [{\"marker\": {\"colorbar\": {\"outlinewidth\": 0, \"ticks\": \"\"}}, \"type\": \"scattercarpet\"}], \"scattergeo\": [{\"marker\": {\"colorbar\": {\"outlinewidth\": 0, \"ticks\": \"\"}}, \"type\": \"scattergeo\"}], \"scattergl\": [{\"marker\": {\"colorbar\": {\"outlinewidth\": 0, \"ticks\": \"\"}}, \"type\": \"scattergl\"}], \"scattermapbox\": [{\"marker\": {\"colorbar\": {\"outlinewidth\": 0, \"ticks\": \"\"}}, \"type\": \"scattermapbox\"}], \"scatterpolar\": [{\"marker\": {\"colorbar\": {\"outlinewidth\": 0, \"ticks\": \"\"}}, \"type\": \"scatterpolar\"}], \"scatterpolargl\": [{\"marker\": {\"colorbar\": {\"outlinewidth\": 0, \"ticks\": \"\"}}, \"type\": \"scatterpolargl\"}], \"scatterternary\": [{\"marker\": {\"colorbar\": {\"outlinewidth\": 0, \"ticks\": \"\"}}, \"type\": \"scatterternary\"}], \"surface\": [{\"colorbar\": {\"outlinewidth\": 0, \"ticks\": \"\"}, \"colorscale\": [[0.0, \"#0d0887\"], [0.1111111111111111, \"#46039f\"], [0.2222222222222222, \"#7201a8\"], [0.3333333333333333, \"#9c179e\"], [0.4444444444444444, \"#bd3786\"], [0.5555555555555556, \"#d8576b\"], [0.6666666666666666, \"#ed7953\"], [0.7777777777777778, \"#fb9f3a\"], [0.8888888888888888, \"#fdca26\"], [1.0, \"#f0f921\"]], \"type\": \"surface\"}], \"table\": [{\"cells\": {\"fill\": {\"color\": \"#EBF0F8\"}, \"line\": {\"color\": \"white\"}}, \"header\": {\"fill\": {\"color\": \"#C8D4E3\"}, \"line\": {\"color\": \"white\"}}, \"type\": \"table\"}]}, \"layout\": {\"annotationdefaults\": {\"arrowcolor\": \"#2a3f5f\", \"arrowhead\": 0, \"arrowwidth\": 1}, \"autotypenumbers\": \"strict\", \"coloraxis\": {\"colorbar\": {\"outlinewidth\": 0, \"ticks\": \"\"}}, \"colorscale\": {\"diverging\": [[0, \"#8e0152\"], [0.1, \"#c51b7d\"], [0.2, \"#de77ae\"], [0.3, \"#f1b6da\"], [0.4, \"#fde0ef\"], [0.5, \"#f7f7f7\"], [0.6, \"#e6f5d0\"], [0.7, \"#b8e186\"], [0.8, \"#7fbc41\"], [0.9, \"#4d9221\"], [1, \"#276419\"]], \"sequential\": [[0.0, \"#0d0887\"], [0.1111111111111111, \"#46039f\"], [0.2222222222222222, \"#7201a8\"], [0.3333333333333333, \"#9c179e\"], [0.4444444444444444, \"#bd3786\"], [0.5555555555555556, \"#d8576b\"], [0.6666666666666666, \"#ed7953\"], [0.7777777777777778, \"#fb9f3a\"], [0.8888888888888888, \"#fdca26\"], [1.0, \"#f0f921\"]], \"sequentialminus\": [[0.0, \"#0d0887\"], [0.1111111111111111, \"#46039f\"], [0.2222222222222222, \"#7201a8\"], [0.3333333333333333, \"#9c179e\"], [0.4444444444444444, \"#bd3786\"], [0.5555555555555556, \"#d8576b\"], [0.6666666666666666, \"#ed7953\"], [0.7777777777777778, \"#fb9f3a\"], [0.8888888888888888, \"#fdca26\"], [1.0, \"#f0f921\"]]}, \"colorway\": [\"#636efa\", \"#EF553B\", \"#00cc96\", \"#ab63fa\", \"#FFA15A\", \"#19d3f3\", \"#FF6692\", \"#B6E880\", \"#FF97FF\", \"#FECB52\"], \"font\": {\"color\": \"#2a3f5f\"}, \"geo\": {\"bgcolor\": \"white\", \"lakecolor\": \"white\", \"landcolor\": \"#E5ECF6\", \"showlakes\": true, \"showland\": true, \"subunitcolor\": \"white\"}, \"hoverlabel\": {\"align\": \"left\"}, \"hovermode\": \"closest\", \"mapbox\": {\"style\": \"light\"}, \"paper_bgcolor\": \"white\", \"plot_bgcolor\": \"#E5ECF6\", \"polar\": {\"angularaxis\": {\"gridcolor\": \"white\", \"linecolor\": \"white\", \"ticks\": \"\"}, \"bgcolor\": \"#E5ECF6\", \"radialaxis\": {\"gridcolor\": \"white\", \"linecolor\": \"white\", \"ticks\": \"\"}}, \"scene\": {\"xaxis\": {\"backgroundcolor\": \"#E5ECF6\", \"gridcolor\": \"white\", \"gridwidth\": 2, \"linecolor\": \"white\", \"showbackground\": true, \"ticks\": \"\", \"zerolinecolor\": \"white\"}, \"yaxis\": {\"backgroundcolor\": \"#E5ECF6\", \"gridcolor\": \"white\", \"gridwidth\": 2, \"linecolor\": \"white\", \"showbackground\": true, \"ticks\": \"\", \"zerolinecolor\": \"white\"}, \"zaxis\": {\"backgroundcolor\": \"#E5ECF6\", \"gridcolor\": \"white\", \"gridwidth\": 2, \"linecolor\": \"white\", \"showbackground\": true, \"ticks\": \"\", \"zerolinecolor\": \"white\"}}, \"shapedefaults\": {\"line\": {\"color\": \"#2a3f5f\"}}, \"ternary\": {\"aaxis\": {\"gridcolor\": \"white\", \"linecolor\": \"white\", \"ticks\": \"\"}, \"baxis\": {\"gridcolor\": \"white\", \"linecolor\": \"white\", \"ticks\": \"\"}, \"bgcolor\": \"#E5ECF6\", \"caxis\": {\"gridcolor\": \"white\", \"linecolor\": \"white\", \"ticks\": \"\"}}, \"title\": {\"x\": 0.05}, \"xaxis\": {\"automargin\": true, \"gridcolor\": \"white\", \"linecolor\": \"white\", \"ticks\": \"\", \"title\": {\"standoff\": 15}, \"zerolinecolor\": \"white\", \"zerolinewidth\": 2}, \"yaxis\": {\"automargin\": true, \"gridcolor\": \"white\", \"linecolor\": \"white\", \"ticks\": \"\", \"title\": {\"standoff\": 15}, \"zerolinecolor\": \"white\", \"zerolinewidth\": 2}}}, \"title\": {\"text\": \"Energy Consumption\"}, \"xaxis\": {\"anchor\": \"y\", \"domain\": [0.0, 1.0], \"title\": {\"text\": \"x\"}}, \"yaxis\": {\"anchor\": \"x\", \"domain\": [0.0, 1.0], \"title\": {\"text\": \"y\"}}},                        {\"responsive\": true}                    ).then(function(){\n",
       "                            \n",
       "var gd = document.getElementById('1852bbc3-ae81-4263-9f32-dda7d29b4ae9');\n",
       "var x = new MutationObserver(function (mutations, observer) {{\n",
       "        var display = window.getComputedStyle(gd).display;\n",
       "        if (!display || display === 'none') {{\n",
       "            console.log([gd, 'removed!']);\n",
       "            Plotly.purge(gd);\n",
       "            observer.disconnect();\n",
       "        }}\n",
       "}});\n",
       "\n",
       "// Listen for the removal of the full notebook cells\n",
       "var notebookContainer = gd.closest('#notebook-container');\n",
       "if (notebookContainer) {{\n",
       "    x.observe(notebookContainer, {childList: true});\n",
       "}}\n",
       "\n",
       "// Listen for the clearing of the current output cell\n",
       "var outputEl = gd.closest('.output');\n",
       "if (outputEl) {{\n",
       "    x.observe(outputEl, {childList: true});\n",
       "}}\n",
       "\n",
       "                        })                };                });            </script>        </div>"
      ]
     },
     "metadata": {},
     "output_type": "display_data"
    },
    {
     "name": "stdout",
     "output_type": "stream",
     "text": [
      "{'Skinny Lot Single Family - 2,500 sq ft': 'Duplex', 'Small Lot Single Family': 'Duplex', 'Single Family Cottage': 'Duplex', 'Single Family Standard Lot': 'Duplex', 'Single Family Large Lot': 'Duplex', 'Single Family Medium-Large Lot': 'Duplex', 'Single Family Estate': 'Duplex'}\n",
      "[1637922000000000.0, 1668466000000000.0, nan, 1767734000000000.0, 1830731000000000.0, 1847912000000000.0, 1802096000000000.0, 1748644000000000.0, 1947180000000000.0]\n"
     ]
    },
    {
     "data": {
      "application/vnd.plotly.v1+json": {
       "config": {
        "plotlyServerURL": "https://plot.ly"
       },
       "data": [
        {
         "hovertemplate": "x=%{x}<br>y=%{y}<extra></extra>",
         "legendgroup": "",
         "line": {
          "color": "#636efa",
          "dash": "solid"
         },
         "mode": "lines",
         "name": "",
         "orientation": "v",
         "showlegend": false,
         "type": "scatter",
         "x": [
          2020,
          2030,
          2040,
          2050,
          2060,
          2070,
          2080,
          2090,
          2100
         ],
         "xaxis": "x",
         "y": [
          1637922000000000,
          1668466000000000,
          null,
          1767734000000000,
          1830731000000000,
          1847912000000000,
          1802096000000000,
          1748644000000000,
          1947180000000000
         ],
         "yaxis": "y"
        }
       ],
       "layout": {
        "legend": {
         "tracegroupgap": 0
        },
        "template": {
         "data": {
          "bar": [
           {
            "error_x": {
             "color": "#2a3f5f"
            },
            "error_y": {
             "color": "#2a3f5f"
            },
            "marker": {
             "line": {
              "color": "#E5ECF6",
              "width": 0.5
             }
            },
            "type": "bar"
           }
          ],
          "barpolar": [
           {
            "marker": {
             "line": {
              "color": "#E5ECF6",
              "width": 0.5
             }
            },
            "type": "barpolar"
           }
          ],
          "carpet": [
           {
            "aaxis": {
             "endlinecolor": "#2a3f5f",
             "gridcolor": "white",
             "linecolor": "white",
             "minorgridcolor": "white",
             "startlinecolor": "#2a3f5f"
            },
            "baxis": {
             "endlinecolor": "#2a3f5f",
             "gridcolor": "white",
             "linecolor": "white",
             "minorgridcolor": "white",
             "startlinecolor": "#2a3f5f"
            },
            "type": "carpet"
           }
          ],
          "choropleth": [
           {
            "colorbar": {
             "outlinewidth": 0,
             "ticks": ""
            },
            "type": "choropleth"
           }
          ],
          "contour": [
           {
            "colorbar": {
             "outlinewidth": 0,
             "ticks": ""
            },
            "colorscale": [
             [
              0,
              "#0d0887"
             ],
             [
              0.1111111111111111,
              "#46039f"
             ],
             [
              0.2222222222222222,
              "#7201a8"
             ],
             [
              0.3333333333333333,
              "#9c179e"
             ],
             [
              0.4444444444444444,
              "#bd3786"
             ],
             [
              0.5555555555555556,
              "#d8576b"
             ],
             [
              0.6666666666666666,
              "#ed7953"
             ],
             [
              0.7777777777777778,
              "#fb9f3a"
             ],
             [
              0.8888888888888888,
              "#fdca26"
             ],
             [
              1,
              "#f0f921"
             ]
            ],
            "type": "contour"
           }
          ],
          "contourcarpet": [
           {
            "colorbar": {
             "outlinewidth": 0,
             "ticks": ""
            },
            "type": "contourcarpet"
           }
          ],
          "heatmap": [
           {
            "colorbar": {
             "outlinewidth": 0,
             "ticks": ""
            },
            "colorscale": [
             [
              0,
              "#0d0887"
             ],
             [
              0.1111111111111111,
              "#46039f"
             ],
             [
              0.2222222222222222,
              "#7201a8"
             ],
             [
              0.3333333333333333,
              "#9c179e"
             ],
             [
              0.4444444444444444,
              "#bd3786"
             ],
             [
              0.5555555555555556,
              "#d8576b"
             ],
             [
              0.6666666666666666,
              "#ed7953"
             ],
             [
              0.7777777777777778,
              "#fb9f3a"
             ],
             [
              0.8888888888888888,
              "#fdca26"
             ],
             [
              1,
              "#f0f921"
             ]
            ],
            "type": "heatmap"
           }
          ],
          "heatmapgl": [
           {
            "colorbar": {
             "outlinewidth": 0,
             "ticks": ""
            },
            "colorscale": [
             [
              0,
              "#0d0887"
             ],
             [
              0.1111111111111111,
              "#46039f"
             ],
             [
              0.2222222222222222,
              "#7201a8"
             ],
             [
              0.3333333333333333,
              "#9c179e"
             ],
             [
              0.4444444444444444,
              "#bd3786"
             ],
             [
              0.5555555555555556,
              "#d8576b"
             ],
             [
              0.6666666666666666,
              "#ed7953"
             ],
             [
              0.7777777777777778,
              "#fb9f3a"
             ],
             [
              0.8888888888888888,
              "#fdca26"
             ],
             [
              1,
              "#f0f921"
             ]
            ],
            "type": "heatmapgl"
           }
          ],
          "histogram": [
           {
            "marker": {
             "colorbar": {
              "outlinewidth": 0,
              "ticks": ""
             }
            },
            "type": "histogram"
           }
          ],
          "histogram2d": [
           {
            "colorbar": {
             "outlinewidth": 0,
             "ticks": ""
            },
            "colorscale": [
             [
              0,
              "#0d0887"
             ],
             [
              0.1111111111111111,
              "#46039f"
             ],
             [
              0.2222222222222222,
              "#7201a8"
             ],
             [
              0.3333333333333333,
              "#9c179e"
             ],
             [
              0.4444444444444444,
              "#bd3786"
             ],
             [
              0.5555555555555556,
              "#d8576b"
             ],
             [
              0.6666666666666666,
              "#ed7953"
             ],
             [
              0.7777777777777778,
              "#fb9f3a"
             ],
             [
              0.8888888888888888,
              "#fdca26"
             ],
             [
              1,
              "#f0f921"
             ]
            ],
            "type": "histogram2d"
           }
          ],
          "histogram2dcontour": [
           {
            "colorbar": {
             "outlinewidth": 0,
             "ticks": ""
            },
            "colorscale": [
             [
              0,
              "#0d0887"
             ],
             [
              0.1111111111111111,
              "#46039f"
             ],
             [
              0.2222222222222222,
              "#7201a8"
             ],
             [
              0.3333333333333333,
              "#9c179e"
             ],
             [
              0.4444444444444444,
              "#bd3786"
             ],
             [
              0.5555555555555556,
              "#d8576b"
             ],
             [
              0.6666666666666666,
              "#ed7953"
             ],
             [
              0.7777777777777778,
              "#fb9f3a"
             ],
             [
              0.8888888888888888,
              "#fdca26"
             ],
             [
              1,
              "#f0f921"
             ]
            ],
            "type": "histogram2dcontour"
           }
          ],
          "mesh3d": [
           {
            "colorbar": {
             "outlinewidth": 0,
             "ticks": ""
            },
            "type": "mesh3d"
           }
          ],
          "parcoords": [
           {
            "line": {
             "colorbar": {
              "outlinewidth": 0,
              "ticks": ""
             }
            },
            "type": "parcoords"
           }
          ],
          "pie": [
           {
            "automargin": true,
            "type": "pie"
           }
          ],
          "scatter": [
           {
            "marker": {
             "colorbar": {
              "outlinewidth": 0,
              "ticks": ""
             }
            },
            "type": "scatter"
           }
          ],
          "scatter3d": [
           {
            "line": {
             "colorbar": {
              "outlinewidth": 0,
              "ticks": ""
             }
            },
            "marker": {
             "colorbar": {
              "outlinewidth": 0,
              "ticks": ""
             }
            },
            "type": "scatter3d"
           }
          ],
          "scattercarpet": [
           {
            "marker": {
             "colorbar": {
              "outlinewidth": 0,
              "ticks": ""
             }
            },
            "type": "scattercarpet"
           }
          ],
          "scattergeo": [
           {
            "marker": {
             "colorbar": {
              "outlinewidth": 0,
              "ticks": ""
             }
            },
            "type": "scattergeo"
           }
          ],
          "scattergl": [
           {
            "marker": {
             "colorbar": {
              "outlinewidth": 0,
              "ticks": ""
             }
            },
            "type": "scattergl"
           }
          ],
          "scattermapbox": [
           {
            "marker": {
             "colorbar": {
              "outlinewidth": 0,
              "ticks": ""
             }
            },
            "type": "scattermapbox"
           }
          ],
          "scatterpolar": [
           {
            "marker": {
             "colorbar": {
              "outlinewidth": 0,
              "ticks": ""
             }
            },
            "type": "scatterpolar"
           }
          ],
          "scatterpolargl": [
           {
            "marker": {
             "colorbar": {
              "outlinewidth": 0,
              "ticks": ""
             }
            },
            "type": "scatterpolargl"
           }
          ],
          "scatterternary": [
           {
            "marker": {
             "colorbar": {
              "outlinewidth": 0,
              "ticks": ""
             }
            },
            "type": "scatterternary"
           }
          ],
          "surface": [
           {
            "colorbar": {
             "outlinewidth": 0,
             "ticks": ""
            },
            "colorscale": [
             [
              0,
              "#0d0887"
             ],
             [
              0.1111111111111111,
              "#46039f"
             ],
             [
              0.2222222222222222,
              "#7201a8"
             ],
             [
              0.3333333333333333,
              "#9c179e"
             ],
             [
              0.4444444444444444,
              "#bd3786"
             ],
             [
              0.5555555555555556,
              "#d8576b"
             ],
             [
              0.6666666666666666,
              "#ed7953"
             ],
             [
              0.7777777777777778,
              "#fb9f3a"
             ],
             [
              0.8888888888888888,
              "#fdca26"
             ],
             [
              1,
              "#f0f921"
             ]
            ],
            "type": "surface"
           }
          ],
          "table": [
           {
            "cells": {
             "fill": {
              "color": "#EBF0F8"
             },
             "line": {
              "color": "white"
             }
            },
            "header": {
             "fill": {
              "color": "#C8D4E3"
             },
             "line": {
              "color": "white"
             }
            },
            "type": "table"
           }
          ]
         },
         "layout": {
          "annotationdefaults": {
           "arrowcolor": "#2a3f5f",
           "arrowhead": 0,
           "arrowwidth": 1
          },
          "autotypenumbers": "strict",
          "coloraxis": {
           "colorbar": {
            "outlinewidth": 0,
            "ticks": ""
           }
          },
          "colorscale": {
           "diverging": [
            [
             0,
             "#8e0152"
            ],
            [
             0.1,
             "#c51b7d"
            ],
            [
             0.2,
             "#de77ae"
            ],
            [
             0.3,
             "#f1b6da"
            ],
            [
             0.4,
             "#fde0ef"
            ],
            [
             0.5,
             "#f7f7f7"
            ],
            [
             0.6,
             "#e6f5d0"
            ],
            [
             0.7,
             "#b8e186"
            ],
            [
             0.8,
             "#7fbc41"
            ],
            [
             0.9,
             "#4d9221"
            ],
            [
             1,
             "#276419"
            ]
           ],
           "sequential": [
            [
             0,
             "#0d0887"
            ],
            [
             0.1111111111111111,
             "#46039f"
            ],
            [
             0.2222222222222222,
             "#7201a8"
            ],
            [
             0.3333333333333333,
             "#9c179e"
            ],
            [
             0.4444444444444444,
             "#bd3786"
            ],
            [
             0.5555555555555556,
             "#d8576b"
            ],
            [
             0.6666666666666666,
             "#ed7953"
            ],
            [
             0.7777777777777778,
             "#fb9f3a"
            ],
            [
             0.8888888888888888,
             "#fdca26"
            ],
            [
             1,
             "#f0f921"
            ]
           ],
           "sequentialminus": [
            [
             0,
             "#0d0887"
            ],
            [
             0.1111111111111111,
             "#46039f"
            ],
            [
             0.2222222222222222,
             "#7201a8"
            ],
            [
             0.3333333333333333,
             "#9c179e"
            ],
            [
             0.4444444444444444,
             "#bd3786"
            ],
            [
             0.5555555555555556,
             "#d8576b"
            ],
            [
             0.6666666666666666,
             "#ed7953"
            ],
            [
             0.7777777777777778,
             "#fb9f3a"
            ],
            [
             0.8888888888888888,
             "#fdca26"
            ],
            [
             1,
             "#f0f921"
            ]
           ]
          },
          "colorway": [
           "#636efa",
           "#EF553B",
           "#00cc96",
           "#ab63fa",
           "#FFA15A",
           "#19d3f3",
           "#FF6692",
           "#B6E880",
           "#FF97FF",
           "#FECB52"
          ],
          "font": {
           "color": "#2a3f5f"
          },
          "geo": {
           "bgcolor": "white",
           "lakecolor": "white",
           "landcolor": "#E5ECF6",
           "showlakes": true,
           "showland": true,
           "subunitcolor": "white"
          },
          "hoverlabel": {
           "align": "left"
          },
          "hovermode": "closest",
          "mapbox": {
           "style": "light"
          },
          "paper_bgcolor": "white",
          "plot_bgcolor": "#E5ECF6",
          "polar": {
           "angularaxis": {
            "gridcolor": "white",
            "linecolor": "white",
            "ticks": ""
           },
           "bgcolor": "#E5ECF6",
           "radialaxis": {
            "gridcolor": "white",
            "linecolor": "white",
            "ticks": ""
           }
          },
          "scene": {
           "xaxis": {
            "backgroundcolor": "#E5ECF6",
            "gridcolor": "white",
            "gridwidth": 2,
            "linecolor": "white",
            "showbackground": true,
            "ticks": "",
            "zerolinecolor": "white"
           },
           "yaxis": {
            "backgroundcolor": "#E5ECF6",
            "gridcolor": "white",
            "gridwidth": 2,
            "linecolor": "white",
            "showbackground": true,
            "ticks": "",
            "zerolinecolor": "white"
           },
           "zaxis": {
            "backgroundcolor": "#E5ECF6",
            "gridcolor": "white",
            "gridwidth": 2,
            "linecolor": "white",
            "showbackground": true,
            "ticks": "",
            "zerolinecolor": "white"
           }
          },
          "shapedefaults": {
           "line": {
            "color": "#2a3f5f"
           }
          },
          "ternary": {
           "aaxis": {
            "gridcolor": "white",
            "linecolor": "white",
            "ticks": ""
           },
           "baxis": {
            "gridcolor": "white",
            "linecolor": "white",
            "ticks": ""
           },
           "bgcolor": "#E5ECF6",
           "caxis": {
            "gridcolor": "white",
            "linecolor": "white",
            "ticks": ""
           }
          },
          "title": {
           "x": 0.05
          },
          "xaxis": {
           "automargin": true,
           "gridcolor": "white",
           "linecolor": "white",
           "ticks": "",
           "title": {
            "standoff": 15
           },
           "zerolinecolor": "white",
           "zerolinewidth": 2
          },
          "yaxis": {
           "automargin": true,
           "gridcolor": "white",
           "linecolor": "white",
           "ticks": "",
           "title": {
            "standoff": 15
           },
           "zerolinecolor": "white",
           "zerolinewidth": 2
          }
         }
        },
        "title": {
         "text": "Energy Consumption"
        },
        "xaxis": {
         "anchor": "y",
         "domain": [
          0,
          1
         ],
         "title": {
          "text": "x"
         }
        },
        "yaxis": {
         "anchor": "x",
         "domain": [
          0,
          1
         ],
         "title": {
          "text": "y"
         }
        }
       }
      },
      "text/html": [
       "<div>                            <div id=\"b89bfc3d-0934-4030-868f-7f032d0e1964\" class=\"plotly-graph-div\" style=\"height:525px; width:100%;\"></div>            <script type=\"text/javascript\">                require([\"plotly\"], function(Plotly) {                    window.PLOTLYENV=window.PLOTLYENV || {};                                    if (document.getElementById(\"b89bfc3d-0934-4030-868f-7f032d0e1964\")) {                    Plotly.newPlot(                        \"b89bfc3d-0934-4030-868f-7f032d0e1964\",                        [{\"hovertemplate\": \"x=%{x}<br>y=%{y}<extra></extra>\", \"legendgroup\": \"\", \"line\": {\"color\": \"#636efa\", \"dash\": \"solid\"}, \"mode\": \"lines\", \"name\": \"\", \"orientation\": \"v\", \"showlegend\": false, \"type\": \"scatter\", \"x\": [2020, 2030, 2040, 2050, 2060, 2070, 2080, 2090, 2100], \"xaxis\": \"x\", \"y\": [1637922000000000.0, 1668466000000000.0, null, 1767734000000000.0, 1830731000000000.0, 1847912000000000.0, 1802096000000000.0, 1748644000000000.0, 1947180000000000.0], \"yaxis\": \"y\"}],                        {\"legend\": {\"tracegroupgap\": 0}, \"template\": {\"data\": {\"bar\": [{\"error_x\": {\"color\": \"#2a3f5f\"}, \"error_y\": {\"color\": \"#2a3f5f\"}, \"marker\": {\"line\": {\"color\": \"#E5ECF6\", \"width\": 0.5}}, \"type\": \"bar\"}], \"barpolar\": [{\"marker\": {\"line\": {\"color\": \"#E5ECF6\", \"width\": 0.5}}, \"type\": \"barpolar\"}], \"carpet\": [{\"aaxis\": {\"endlinecolor\": \"#2a3f5f\", \"gridcolor\": \"white\", \"linecolor\": \"white\", \"minorgridcolor\": \"white\", \"startlinecolor\": \"#2a3f5f\"}, \"baxis\": {\"endlinecolor\": \"#2a3f5f\", \"gridcolor\": \"white\", \"linecolor\": \"white\", \"minorgridcolor\": \"white\", \"startlinecolor\": \"#2a3f5f\"}, \"type\": \"carpet\"}], \"choropleth\": [{\"colorbar\": {\"outlinewidth\": 0, \"ticks\": \"\"}, \"type\": \"choropleth\"}], \"contour\": [{\"colorbar\": {\"outlinewidth\": 0, \"ticks\": \"\"}, \"colorscale\": [[0.0, \"#0d0887\"], [0.1111111111111111, \"#46039f\"], [0.2222222222222222, \"#7201a8\"], [0.3333333333333333, \"#9c179e\"], [0.4444444444444444, \"#bd3786\"], [0.5555555555555556, \"#d8576b\"], [0.6666666666666666, \"#ed7953\"], [0.7777777777777778, \"#fb9f3a\"], [0.8888888888888888, \"#fdca26\"], [1.0, \"#f0f921\"]], \"type\": \"contour\"}], \"contourcarpet\": [{\"colorbar\": {\"outlinewidth\": 0, \"ticks\": \"\"}, \"type\": \"contourcarpet\"}], \"heatmap\": [{\"colorbar\": {\"outlinewidth\": 0, \"ticks\": \"\"}, \"colorscale\": [[0.0, \"#0d0887\"], [0.1111111111111111, \"#46039f\"], [0.2222222222222222, \"#7201a8\"], [0.3333333333333333, \"#9c179e\"], [0.4444444444444444, \"#bd3786\"], [0.5555555555555556, \"#d8576b\"], [0.6666666666666666, \"#ed7953\"], [0.7777777777777778, \"#fb9f3a\"], [0.8888888888888888, \"#fdca26\"], [1.0, \"#f0f921\"]], \"type\": \"heatmap\"}], \"heatmapgl\": [{\"colorbar\": {\"outlinewidth\": 0, \"ticks\": \"\"}, \"colorscale\": [[0.0, \"#0d0887\"], [0.1111111111111111, \"#46039f\"], [0.2222222222222222, \"#7201a8\"], [0.3333333333333333, \"#9c179e\"], [0.4444444444444444, \"#bd3786\"], [0.5555555555555556, \"#d8576b\"], [0.6666666666666666, \"#ed7953\"], [0.7777777777777778, \"#fb9f3a\"], [0.8888888888888888, \"#fdca26\"], [1.0, \"#f0f921\"]], \"type\": \"heatmapgl\"}], \"histogram\": [{\"marker\": {\"colorbar\": {\"outlinewidth\": 0, \"ticks\": \"\"}}, \"type\": \"histogram\"}], \"histogram2d\": [{\"colorbar\": {\"outlinewidth\": 0, \"ticks\": \"\"}, \"colorscale\": [[0.0, \"#0d0887\"], [0.1111111111111111, \"#46039f\"], [0.2222222222222222, \"#7201a8\"], [0.3333333333333333, \"#9c179e\"], [0.4444444444444444, \"#bd3786\"], [0.5555555555555556, \"#d8576b\"], [0.6666666666666666, \"#ed7953\"], [0.7777777777777778, \"#fb9f3a\"], [0.8888888888888888, \"#fdca26\"], [1.0, \"#f0f921\"]], \"type\": \"histogram2d\"}], \"histogram2dcontour\": [{\"colorbar\": {\"outlinewidth\": 0, \"ticks\": \"\"}, \"colorscale\": [[0.0, \"#0d0887\"], [0.1111111111111111, \"#46039f\"], [0.2222222222222222, \"#7201a8\"], [0.3333333333333333, \"#9c179e\"], [0.4444444444444444, \"#bd3786\"], [0.5555555555555556, \"#d8576b\"], [0.6666666666666666, \"#ed7953\"], [0.7777777777777778, \"#fb9f3a\"], [0.8888888888888888, \"#fdca26\"], [1.0, \"#f0f921\"]], \"type\": \"histogram2dcontour\"}], \"mesh3d\": [{\"colorbar\": {\"outlinewidth\": 0, \"ticks\": \"\"}, \"type\": \"mesh3d\"}], \"parcoords\": [{\"line\": {\"colorbar\": {\"outlinewidth\": 0, \"ticks\": \"\"}}, \"type\": \"parcoords\"}], \"pie\": [{\"automargin\": true, \"type\": \"pie\"}], \"scatter\": [{\"marker\": {\"colorbar\": {\"outlinewidth\": 0, \"ticks\": \"\"}}, \"type\": \"scatter\"}], \"scatter3d\": [{\"line\": {\"colorbar\": {\"outlinewidth\": 0, \"ticks\": \"\"}}, \"marker\": {\"colorbar\": {\"outlinewidth\": 0, \"ticks\": \"\"}}, \"type\": \"scatter3d\"}], \"scattercarpet\": [{\"marker\": {\"colorbar\": {\"outlinewidth\": 0, \"ticks\": \"\"}}, \"type\": \"scattercarpet\"}], \"scattergeo\": [{\"marker\": {\"colorbar\": {\"outlinewidth\": 0, \"ticks\": \"\"}}, \"type\": \"scattergeo\"}], \"scattergl\": [{\"marker\": {\"colorbar\": {\"outlinewidth\": 0, \"ticks\": \"\"}}, \"type\": \"scattergl\"}], \"scattermapbox\": [{\"marker\": {\"colorbar\": {\"outlinewidth\": 0, \"ticks\": \"\"}}, \"type\": \"scattermapbox\"}], \"scatterpolar\": [{\"marker\": {\"colorbar\": {\"outlinewidth\": 0, \"ticks\": \"\"}}, \"type\": \"scatterpolar\"}], \"scatterpolargl\": [{\"marker\": {\"colorbar\": {\"outlinewidth\": 0, \"ticks\": \"\"}}, \"type\": \"scatterpolargl\"}], \"scatterternary\": [{\"marker\": {\"colorbar\": {\"outlinewidth\": 0, \"ticks\": \"\"}}, \"type\": \"scatterternary\"}], \"surface\": [{\"colorbar\": {\"outlinewidth\": 0, \"ticks\": \"\"}, \"colorscale\": [[0.0, \"#0d0887\"], [0.1111111111111111, \"#46039f\"], [0.2222222222222222, \"#7201a8\"], [0.3333333333333333, \"#9c179e\"], [0.4444444444444444, \"#bd3786\"], [0.5555555555555556, \"#d8576b\"], [0.6666666666666666, \"#ed7953\"], [0.7777777777777778, \"#fb9f3a\"], [0.8888888888888888, \"#fdca26\"], [1.0, \"#f0f921\"]], \"type\": \"surface\"}], \"table\": [{\"cells\": {\"fill\": {\"color\": \"#EBF0F8\"}, \"line\": {\"color\": \"white\"}}, \"header\": {\"fill\": {\"color\": \"#C8D4E3\"}, \"line\": {\"color\": \"white\"}}, \"type\": \"table\"}]}, \"layout\": {\"annotationdefaults\": {\"arrowcolor\": \"#2a3f5f\", \"arrowhead\": 0, \"arrowwidth\": 1}, \"autotypenumbers\": \"strict\", \"coloraxis\": {\"colorbar\": {\"outlinewidth\": 0, \"ticks\": \"\"}}, \"colorscale\": {\"diverging\": [[0, \"#8e0152\"], [0.1, \"#c51b7d\"], [0.2, \"#de77ae\"], [0.3, \"#f1b6da\"], [0.4, \"#fde0ef\"], [0.5, \"#f7f7f7\"], [0.6, \"#e6f5d0\"], [0.7, \"#b8e186\"], [0.8, \"#7fbc41\"], [0.9, \"#4d9221\"], [1, \"#276419\"]], \"sequential\": [[0.0, \"#0d0887\"], [0.1111111111111111, \"#46039f\"], [0.2222222222222222, \"#7201a8\"], [0.3333333333333333, \"#9c179e\"], [0.4444444444444444, \"#bd3786\"], [0.5555555555555556, \"#d8576b\"], [0.6666666666666666, \"#ed7953\"], [0.7777777777777778, \"#fb9f3a\"], [0.8888888888888888, \"#fdca26\"], [1.0, \"#f0f921\"]], \"sequentialminus\": [[0.0, \"#0d0887\"], [0.1111111111111111, \"#46039f\"], [0.2222222222222222, \"#7201a8\"], [0.3333333333333333, \"#9c179e\"], [0.4444444444444444, \"#bd3786\"], [0.5555555555555556, \"#d8576b\"], [0.6666666666666666, \"#ed7953\"], [0.7777777777777778, \"#fb9f3a\"], [0.8888888888888888, \"#fdca26\"], [1.0, \"#f0f921\"]]}, \"colorway\": [\"#636efa\", \"#EF553B\", \"#00cc96\", \"#ab63fa\", \"#FFA15A\", \"#19d3f3\", \"#FF6692\", \"#B6E880\", \"#FF97FF\", \"#FECB52\"], \"font\": {\"color\": \"#2a3f5f\"}, \"geo\": {\"bgcolor\": \"white\", \"lakecolor\": \"white\", \"landcolor\": \"#E5ECF6\", \"showlakes\": true, \"showland\": true, \"subunitcolor\": \"white\"}, \"hoverlabel\": {\"align\": \"left\"}, \"hovermode\": \"closest\", \"mapbox\": {\"style\": \"light\"}, \"paper_bgcolor\": \"white\", \"plot_bgcolor\": \"#E5ECF6\", \"polar\": {\"angularaxis\": {\"gridcolor\": \"white\", \"linecolor\": \"white\", \"ticks\": \"\"}, \"bgcolor\": \"#E5ECF6\", \"radialaxis\": {\"gridcolor\": \"white\", \"linecolor\": \"white\", \"ticks\": \"\"}}, \"scene\": {\"xaxis\": {\"backgroundcolor\": \"#E5ECF6\", \"gridcolor\": \"white\", \"gridwidth\": 2, \"linecolor\": \"white\", \"showbackground\": true, \"ticks\": \"\", \"zerolinecolor\": \"white\"}, \"yaxis\": {\"backgroundcolor\": \"#E5ECF6\", \"gridcolor\": \"white\", \"gridwidth\": 2, \"linecolor\": \"white\", \"showbackground\": true, \"ticks\": \"\", \"zerolinecolor\": \"white\"}, \"zaxis\": {\"backgroundcolor\": \"#E5ECF6\", \"gridcolor\": \"white\", \"gridwidth\": 2, \"linecolor\": \"white\", \"showbackground\": true, \"ticks\": \"\", \"zerolinecolor\": \"white\"}}, \"shapedefaults\": {\"line\": {\"color\": \"#2a3f5f\"}}, \"ternary\": {\"aaxis\": {\"gridcolor\": \"white\", \"linecolor\": \"white\", \"ticks\": \"\"}, \"baxis\": {\"gridcolor\": \"white\", \"linecolor\": \"white\", \"ticks\": \"\"}, \"bgcolor\": \"#E5ECF6\", \"caxis\": {\"gridcolor\": \"white\", \"linecolor\": \"white\", \"ticks\": \"\"}}, \"title\": {\"x\": 0.05}, \"xaxis\": {\"automargin\": true, \"gridcolor\": \"white\", \"linecolor\": \"white\", \"ticks\": \"\", \"title\": {\"standoff\": 15}, \"zerolinecolor\": \"white\", \"zerolinewidth\": 2}, \"yaxis\": {\"automargin\": true, \"gridcolor\": \"white\", \"linecolor\": \"white\", \"ticks\": \"\", \"title\": {\"standoff\": 15}, \"zerolinecolor\": \"white\", \"zerolinewidth\": 2}}}, \"title\": {\"text\": \"Energy Consumption\"}, \"xaxis\": {\"anchor\": \"y\", \"domain\": [0.0, 1.0], \"title\": {\"text\": \"x\"}}, \"yaxis\": {\"anchor\": \"x\", \"domain\": [0.0, 1.0], \"title\": {\"text\": \"y\"}}},                        {\"responsive\": true}                    ).then(function(){\n",
       "                            \n",
       "var gd = document.getElementById('b89bfc3d-0934-4030-868f-7f032d0e1964');\n",
       "var x = new MutationObserver(function (mutations, observer) {{\n",
       "        var display = window.getComputedStyle(gd).display;\n",
       "        if (!display || display === 'none') {{\n",
       "            console.log([gd, 'removed!']);\n",
       "            Plotly.purge(gd);\n",
       "            observer.disconnect();\n",
       "        }}\n",
       "}});\n",
       "\n",
       "// Listen for the removal of the full notebook cells\n",
       "var notebookContainer = gd.closest('#notebook-container');\n",
       "if (notebookContainer) {{\n",
       "    x.observe(notebookContainer, {childList: true});\n",
       "}}\n",
       "\n",
       "// Listen for the clearing of the current output cell\n",
       "var outputEl = gd.closest('.output');\n",
       "if (outputEl) {{\n",
       "    x.observe(outputEl, {childList: true});\n",
       "}}\n",
       "\n",
       "                        })                };                });            </script>        </div>"
      ]
     },
     "metadata": {},
     "output_type": "display_data"
    }
   ],
   "source": [
    "df2 = GenerateDataframe(Buildings_Mont)\n",
    "Output1 = stackedGraphs(Buildings_Mont)\n",
    "Output2 = stackedGraphsWorstwithPVs(Buildings_Mont)\n",
    "OutputtoExcel(Output1,Output2)\n",
    "GenerateLinePlot('Best')\n",
    "GenerateLinePlot('Worst')"
   ]
  },
  {
   "cell_type": "code",
   "execution_count": 35,
   "metadata": {},
   "outputs": [],
   "source": [
    "sample =df2.sample(n=50)\n",
    "decades = [2020,2030,2040,2050,2060,2070,2080,2090,2100]\n",
    "writer = pd.ExcelWriter('Output5.xlsx')\n",
    "for decade in decades:\n",
    "    sampletemp = sample.copy()\n",
    "    EnergyArray = []\n",
    "    EnergyArrayW = []\n",
    "    EnergyArrayB = []\n",
    "    for index, row in sample.iterrows():\n",
    "        energyTemplate =(row['Energy Current'])\n",
    "        energyWorstTemplate = row['Energy Worst']\n",
    "        energyBestTemplate = row['Energy Best']\n",
    "        \n",
    "        energy = a1b_db.loc[energyTemplate, decade]\n",
    "        energyWorst = a1b_db.loc[energyWorstTemplate, decade]\n",
    "        energyBest = a1b_db.loc[energyBestTemplate, decade]\n",
    "        \n",
    "        EnergyArray.append(energy)\n",
    "        EnergyArrayW.append(energyWorst)\n",
    "        EnergyArrayB.append(energyBest)\n",
    "        \n",
    "    sampletemp.insert(len(sample.columns),\"Energy Current\"+str(decade),EnergyArray)\n",
    "    sampletemp.insert(len(sample.columns),\"Energy Worst\"+str(decade),EnergyArrayW)\n",
    "    sampletemp.insert(len(sample.columns),\"Energy Best\"+str(decade),EnergyArrayB)\n",
    "    sampletemp.to_excel(writer, str(decade))\n",
    "\n",
    "writer.close()"
   ]
  },
  {
   "cell_type": "code",
   "execution_count": null,
   "metadata": {},
   "outputs": [],
   "source": []
  }
 ],
 "metadata": {
  "kernelspec": {
   "display_name": "Python 3",
   "language": "python",
   "name": "python3"
  },
  "language_info": {
   "codemirror_mode": {
    "name": "ipython",
    "version": 3
   },
   "file_extension": ".py",
   "mimetype": "text/x-python",
   "name": "python",
   "nbconvert_exporter": "python",
   "pygments_lexer": "ipython3",
   "version": "3.7.6"
  }
 },
 "nbformat": 4,
 "nbformat_minor": 4
}
