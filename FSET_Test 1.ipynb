{
 "cells": [
  {
   "cell_type": "code",
   "execution_count": 179,
   "metadata": {},
   "outputs": [
    {
     "name": "stderr",
     "output_type": "stream",
     "text": [
      "A:\\Anaconda3\\lib\\site-packages\\xlrd\\xlsx.py:266: PendingDeprecationWarning: This method will be removed in future versions.  Use 'tree.iter()' or 'list(tree.iter())' instead.\n",
      "  for elem in self.tree.iter() if Element_has_iter else self.tree.getiterator():\n",
      "A:\\Anaconda3\\lib\\site-packages\\xlrd\\xlsx.py:312: PendingDeprecationWarning: This method will be removed in future versions.  Use 'tree.iter()' or 'list(tree.iter())' instead.\n",
      "  for elem in self.tree.iter() if Element_has_iter else self.tree.getiterator():\n",
      "..\n",
      "----------------------------------------------------------------------\n",
      "Ran 2 tests in 0.012s\n",
      "\n",
      "OK\n"
     ]
    }
   ],
   "source": [
    "#unit_tests\n",
    "import unittest\n",
    "import pandas as pd\n",
    "import numpy as np\n",
    "import random\n",
    "\n",
    "\n",
    "class TestCSVMethods(unittest.TestCase):\n",
    "    \n",
    "    def test_upper(self):\n",
    "        self.assertEqual('foo'.upper(), 'FOO')\n",
    "        \n",
    "    def test_read_Excel(self):\n",
    "        #import test CSV\n",
    "        xls = pd.ExcelFile(r'Resources\\RedevSch.xlsx')\n",
    "        dfMont = pd.read_excel(xls, 'Montopolis')\n",
    "        self.assertEqual(2020, dfMont.columns[1])\n",
    "    \n",
    "        #Clean Entry if Necessary\n",
    "        #Print\n",
    "        \n",
    "\n",
    "if __name__ == '__main__':\n",
    "    unittest.main(argv=['first-arg-is-ignored'], exit=False)"
   ]
  },
  {
   "cell_type": "code",
   "execution_count": 3,
   "metadata": {},
   "outputs": [
    {
     "name": "stdout",
     "output_type": "stream",
     "text": [
      "       Year  2020  2030  2040  2050  2060  2070  2080  2090  2100  Total\n",
      "0  SmallRes  0.06  0.15  0.15  0.06  0.09  0.09   0.1  0.15  0.15      1\n",
      "1  LargeRes  0.06  0.15  0.15  0.06  0.09  0.09   0.1  0.15  0.15      1\n",
      "2    Com/MU  0.06  0.15  0.15  0.06  0.09  0.09   0.1  0.15  0.15      1\n",
      "       Year  2020  2030  2040  2050  2060  2070  2080  2090  2100  Total\n",
      "0  SmallRes  0.06  0.06  0.06  0.09  0.09  0.12  0.12   0.2   0.2      1\n",
      "1  LargeRes  0.06  0.06  0.06  0.09  0.09  0.12  0.12   0.2   0.2      1\n",
      "2    Com/MU  0.06  0.06  0.06  0.09  0.09  0.12  0.12   0.2   0.2      1\n",
      "       Year  2020  2030  2040  2050  2060  2070  2080  2090  2100  Total\n",
      "0  SmallRes  0.06  0.06  0.06  0.09  0.09  0.12  0.12   0.2   0.2      1\n",
      "1  LargeRes  0.06  0.06  0.06  0.09  0.09  0.12  0.12   0.2   0.2      1\n",
      "2    Com/MU  0.06  0.06  0.06  0.09  0.09  0.12  0.12   0.2   0.2      1\n"
     ]
    }
   ],
   "source": [
    "xls = pd.ExcelFile(r'Resources\\RedevSch.xlsx')\n",
    "dfMont = pd.read_excel(xls, 'Montopolis')\n",
    "dfBrent = pd.read_excel(xls, 'Brentwood')\n",
    "dfSouthM = pd.read_excel(xls, 'South Menchaca')\n",
    "\n",
    "print(dfMont)\n",
    "print(dfBrent)\n",
    "print(dfSouthM)\n"
   ]
  },
  {
   "cell_type": "code",
   "execution_count": 4,
   "metadata": {},
   "outputs": [
    {
     "data": {
      "text/plain": [
       "2020"
      ]
     },
     "execution_count": 4,
     "metadata": {},
     "output_type": "execute_result"
    }
   ],
   "source": [
    "dfMont.columns[1]\n"
   ]
  },
  {
   "cell_type": "code",
   "execution_count": 137,
   "metadata": {},
   "outputs": [],
   "source": [
    "#Building General Class\n",
    "class Building:\n",
    "    \n",
    "    # read excel data for general values\n",
    "    \n",
    "    def __str__(self):\n",
    "        return(str(self.uniqueID))\n",
    "    def __init__(self, building_df):\n",
    "        \n",
    "        #Denotes if the building has undergon reDevelopment\n",
    "        self.reDev_flag = \"\"\n",
    "        self.df= building_df\n",
    "        \n",
    "        #general values applicable to the building regardless of redevelopment\n",
    "        self.uniqueID = self.df['UniqueID']\n",
    "        self.Neighborhood = self.df['Neighborhood']\n",
    "        self.OBJECTID = self.df['OBJECTID']\n",
    "        self.LotSize = self.df['LotSize']\n",
    "        self.UNITS = self.df['UNITS']\n",
    "        self.SUM_LANDVA = self.df['SUM_LANDVA']\n",
    "        self.SUM_IMPVAL = self.df['SUM_IMPVAL']\n",
    "        self.SUM_market = self.df['SUM_market']\n",
    "        self.MAX_yr_blt = self.df['MAX_yr_blt']\n",
    "        self.MAX_eff_yr = self.df['MAX_eff_yr']\n",
    "        self.COA_SQFT = self.df['COA_SQ.FT']\n",
    "        self.ZONING_ZTY = self.df['ZONING_ZTY']\n",
    "        self.EX_LU = self.df['EX_LU']\n",
    "        self.FAR = self.df['FAR']\n",
    "        self.ILR = self.df['ILR']\n",
    "        self.UNITSPERAC = self.df['UNITSPERAC']\n",
    "        self.Tot_Acre = self.df['Tot_Acre']\n",
    "        \n",
    "        # Original Building Values\n",
    "        self.DEV_TYPE_CURRENT = self.df['DEV_TYPE_Current']\n",
    "        self.Use_Class = self.df['Use Class']\n",
    "        self.Corridor = self.df['Corridor?']\n",
    "        self.TOD = self.df['TOD?']\n",
    "        self.CONSTRAINED_ACRE = self.df['CONSTRAINED_ACRE']\n",
    "        self.Redev_Rank = self.df['Redev Rank']\n",
    "        self.Redev_Year = self.df['Redev Year']\n",
    "        self.Bldg_CurrEst = self.df['Bldg_CurrEst']\n",
    "        self.LotSize_CurrentEst = self.df['LotSize_CurrentEst']\n",
    "        self.SqFt_CurrEst = self.df['SqFt_CurrEst']\n",
    "        self.Units_CurrEst = self.df['Units_CurrEst']\n",
    "        \n",
    "        self.Population = self.df['Pop']\n",
    "        #self.TEMP = self.df['TEMP'], isn't loading in prorperly\n",
    "        \n",
    "        # Best Case Building Values\n",
    "        self.Use_Best = self.df['Use_Best']\n",
    "        self.Bldg_Best = self.df['Bldg_Best']\n",
    "        self.LotSize_Best = self.df['LotSize_Best']\n",
    "        self.SqFt_Best = self.df['SqFt_Best']\n",
    "        self.Units_Best = self.df['Units_Best']\n",
    "        self.Population_Best = self.df['Pop_Best']\n",
    "        \n",
    "        # Worst Case Building Values\n",
    "        self.Path_Worst = self.df['Path_Worst']\n",
    "        self.Bldg_Worst = self.df['Bldg_Worst']\n",
    "        self.LotSize_Worst = self.df['LotSize_Worst']\n",
    "        self.SqFt_Worst = self.df['SqFt_Worst']\n",
    "        self.Units_Worst = self.df['Units_Worst']\n",
    "        self.Population_Worst = self.df['Pop_Worst']\n",
    "        \n",
    "        \n",
    "   \n",
    "    "
   ]
  },
  {
   "cell_type": "code",
   "execution_count": 98,
   "metadata": {},
   "outputs": [],
   "source": [
    "\n",
    "xls = pd.ExcelFile(r'Resources\\ParcelDB_20201118_SMZ_REDEV.xlsx')\n",
    "ParcelDB = pd.read_excel(xls, 'ParcelDB')\n",
    "\n"
   ]
  },
  {
   "cell_type": "code",
   "execution_count": 138,
   "metadata": {
    "scrolled": true
   },
   "outputs": [
    {
     "name": "stdout",
     "output_type": "stream",
     "text": [
      "Unnamed: 0\n",
      "UniqueID\n",
      "Neighborhood\n",
      "OBJECTID\n",
      "DEV_TYPE_Current\n",
      "Use Class\n",
      "Interior\n",
      "Corridor?\n",
      "TOD?\n",
      "CONSTRAINED_ACRE\n",
      "Redev Rank\n",
      "Redev Year\n",
      "LotSize\n",
      "UNITS\n",
      "SUM_LANDVA\n",
      "SUM_IMPVAL\n",
      "SUM_market\n",
      "MAX_yr_blt\n",
      "MAX_eff_yr\n",
      "COA_SQ.FT\n",
      "ZONING_ZTY\n",
      "EX_LU\n",
      "FAR\n",
      "ILR\n",
      "UNITSPERAC\n",
      "Tot_Acre\n",
      "PID_10\n",
      "Bldg_CurrEst\n",
      "LotSize_CurrentEst\n",
      "SqFt_CurrEst\n",
      "Units_CurrEst\n",
      "Pop\n",
      "TEMP\n",
      "Use_Best\n",
      "Bldg_Best\n",
      "LotSize_Best\n",
      "SqFt_Best\n",
      "Units_Best\n",
      "Pop_Best\n",
      "Manual?\n",
      "Path_Worst\n",
      "Bldg_Worst\n",
      "LotSize_Worst\n",
      "SqFt_Worst\n",
      "Units_Worst\n",
      "Pop_Worst\n",
      "Manual?.1\n"
     ]
    }
   ],
   "source": [
    "for col in ParcelDB.columns:\n",
    "    print(col)"
   ]
  },
  {
   "cell_type": "code",
   "execution_count": 139,
   "metadata": {},
   "outputs": [],
   "source": [
    "dftemp = ParcelDB.iloc[1]\n",
    "test_building = Building(dftemp)"
   ]
  },
  {
   "cell_type": "code",
   "execution_count": 140,
   "metadata": {
    "scrolled": true
   },
   "outputs": [
    {
     "data": {
      "text/plain": [
       "Unnamed: 0                                              NaN\n",
       "UniqueID                                              SM.11\n",
       "Neighborhood                                             SM\n",
       "OBJECTID                                                 11\n",
       "DEV_TYPE_Current                 Single Family Neighborhood\n",
       "Use Class                                         Small Res\n",
       "Interior                                                  1\n",
       "Corridor?                                                 0\n",
       "TOD?                                                      0\n",
       "CONSTRAINED_ACRE                                          0\n",
       "Redev Rank                                              937\n",
       "Redev Year                                             2070\n",
       "LotSize                                             32323.5\n",
       "UNITS                                                     1\n",
       "SUM_LANDVA                                           112500\n",
       "SUM_IMPVAL                                           132962\n",
       "SUM_market                                           245462\n",
       "MAX_yr_blt                                             1950\n",
       "MAX_eff_yr                                             1950\n",
       "COA_SQ.FT                                              1265\n",
       "ZONING_ZTY                                          SF-3-NP\n",
       "EX_LU                                                 SF_MD\n",
       "FAR                                               0.0391357\n",
       "ILR                                                 1.18188\n",
       "UNITSPERAC                                          1.34763\n",
       "Tot_Acre                                           0.742047\n",
       "PID_10                                          4.10081e+08\n",
       "Bldg_CurrEst                 Single Family Medium-Large Lot\n",
       "LotSize_CurrentEst                                     9000\n",
       "SqFt_CurrEst                                        3510.43\n",
       "Units_CurrEst                                             1\n",
       "Pop                                                     2.5\n",
       "TEMP                                                      0\n",
       "Use_Best                                  Small Residential\n",
       "Bldg_Best             Townhome, Medium Density: Sustainable\n",
       "LotSize_Best                                          10000\n",
       "SqFt_Best                                             10800\n",
       "Units_Best                                               10\n",
       "Pop_Best                                                 25\n",
       "Manual?                                                 NaN\n",
       "Path_Worst                                Small Residential\n",
       "Bldg_Worst                          Single Family Large Lot\n",
       "LotSize_Worst                                         13000\n",
       "SqFt_Worst                                          3854.41\n",
       "Units_Worst                                               1\n",
       "Pop_Worst                                               2.5\n",
       "Manual?.1                                               NaN\n",
       "Name: 1, dtype: object"
      ]
     },
     "execution_count": 140,
     "metadata": {},
     "output_type": "execute_result"
    }
   ],
   "source": [
    "test_building.df"
   ]
  },
  {
   "cell_type": "code",
   "execution_count": 147,
   "metadata": {},
   "outputs": [],
   "source": [
    "Buildings_SM = []\n",
    "Buildings_Mont = []\n",
    "Buildings_Brent = []\n",
    "for index in range(len(ParcelDB)):\n",
    "    dftemp = ParcelDB.iloc[index]\n",
    "    if(dftemp.Neighborhood == 'SM'):\n",
    "        Buildings_SM.append(Building(dftemp))\n",
    "    elif(dftemp.Neighborhood == 'Mont'):\n",
    "        Buildings_Mont.append(Building(dftemp))\n",
    "    elif(dftemp.Neighborhood == 'Brent'):\n",
    "        Buildings_Brent.append(Building(dftemp))\n",
    "    \n"
   ]
  },
  {
   "cell_type": "code",
   "execution_count": 149,
   "metadata": {
    "scrolled": true
   },
   "outputs": [
    {
     "name": "stdout",
     "output_type": "stream",
     "text": [
      "SM.10\n"
     ]
    }
   ],
   "source": [
    "print(Buildings_SM[0])"
   ]
  },
  {
   "cell_type": "code",
   "execution_count": 150,
   "metadata": {},
   "outputs": [
    {
     "name": "stdout",
     "output_type": "stream",
     "text": [
      "Mont.1\n"
     ]
    }
   ],
   "source": [
    "print(Buildings_Mont[0])"
   ]
  },
  {
   "cell_type": "code",
   "execution_count": 152,
   "metadata": {},
   "outputs": [
    {
     "name": "stdout",
     "output_type": "stream",
     "text": [
      "Brent.3\n"
     ]
    }
   ],
   "source": [
    "print(Buildings_Brent[0])"
   ]
  },
  {
   "cell_type": "code",
   "execution_count": 156,
   "metadata": {},
   "outputs": [],
   "source": [
    "df2020 = pd.DataFrame(columns=['Jan','Feb','Mar','Apr','May','Jun','Jul','Aug','Sep','Oct','Nov','Dec'])\n",
    "df2030 = pd.DataFrame(columns=['Jan','Feb','Mar','Apr','May','Jun','Jul','Aug','Sep','Oct','Nov','Dec'])\n",
    "df2040 = pd.DataFrame(columns=['Jan','Feb','Mar','Apr','May','Jun','Jul','Aug','Sep','Oct','Nov','Dec'])\n",
    "df2050 = pd.DataFrame(columns=['Jan','Feb','Mar','Apr','May','Jun','Jul','Aug','Sep','Oct','Nov','Dec'])\n",
    "df2060 = pd.DataFrame(columns=['Jan','Feb','Mar','Apr','May','Jun','Jul','Aug','Sep','Oct','Nov','Dec'])\n",
    "df2070 = pd.DataFrame(columns=['Jan','Feb','Mar','Apr','May','Jun','Jul','Aug','Sep','Oct','Nov','Dec'])\n",
    "df2080 = pd.DataFrame(columns=['Jan','Feb','Mar','Apr','May','Jun','Jul','Aug','Sep','Oct','Nov','Dec'])\n",
    "df2090 = pd.DataFrame(columns=['Jan','Feb','Mar','Apr','May','Jun','Jul','Aug','Sep','Oct','Nov','Dec'])\n",
    "df2100 = pd.DataFrame(columns=['Jan','Feb','Mar','Apr','May','Jun','Jul','Aug','Sep','Oct','Nov','Dec'])\n",
    "YearArray=[df2020,df2030,df2040,df2050,df2060,df2070,df2080,df2090,df2100]"
   ]
  },
  {
   "cell_type": "code",
   "execution_count": 160,
   "metadata": {},
   "outputs": [
    {
     "data": {
      "text/html": [
       "<div>\n",
       "<style scoped>\n",
       "    .dataframe tbody tr th:only-of-type {\n",
       "        vertical-align: middle;\n",
       "    }\n",
       "\n",
       "    .dataframe tbody tr th {\n",
       "        vertical-align: top;\n",
       "    }\n",
       "\n",
       "    .dataframe thead th {\n",
       "        text-align: right;\n",
       "    }\n",
       "</style>\n",
       "<table border=\"1\" class=\"dataframe\">\n",
       "  <thead>\n",
       "    <tr style=\"text-align: right;\">\n",
       "      <th></th>\n",
       "      <th>Jan</th>\n",
       "      <th>Feb</th>\n",
       "      <th>Mar</th>\n",
       "      <th>Apr</th>\n",
       "      <th>May</th>\n",
       "      <th>Jun</th>\n",
       "      <th>Jul</th>\n",
       "      <th>Aug</th>\n",
       "      <th>Sep</th>\n",
       "      <th>Oct</th>\n",
       "      <th>Nov</th>\n",
       "      <th>Dec</th>\n",
       "    </tr>\n",
       "  </thead>\n",
       "  <tbody>\n",
       "  </tbody>\n",
       "</table>\n",
       "</div>"
      ],
      "text/plain": [
       "Empty DataFrame\n",
       "Columns: [Jan, Feb, Mar, Apr, May, Jun, Jul, Aug, Sep, Oct, Nov, Dec]\n",
       "Index: []"
      ]
     },
     "execution_count": 160,
     "metadata": {},
     "output_type": "execute_result"
    }
   ],
   "source": [
    "df2020[]"
   ]
  },
  {
   "cell_type": "code",
   "execution_count": 201,
   "metadata": {},
   "outputs": [],
   "source": [
    "def SimulateMonth(Year,dfReDevSch,BuildingsArray,monthdf):\n",
    "    redevPool = []\n",
    "    for building in BuildingsArray:\n",
    "        if building.Redev_Year == Year:\n",
    "            redevPool.append(building.uniqueID)\n",
    "    \n",
    "    #redo this shit\n",
    "    for col in monthdf.columns:\n",
    "        for building in range(0,len(redevPool)):\n",
    "            if(random.randint(1,101)<=12):\n",
    "                print(col)\n",
    "                monthdf.append({col:building}, ignore_index=True)\n",
    "                \n",
    "    return monthdf"
   ]
  },
  {
   "cell_type": "code",
   "execution_count": 202,
   "metadata": {},
   "outputs": [
    {
     "name": "stdout",
     "output_type": "stream",
     "text": [
      "Jan\n",
      "Jan\n",
      "Jan\n",
      "Jan\n",
      "Jan\n",
      "Jan\n",
      "Jan\n",
      "Jan\n",
      "Jan\n",
      "Jan\n",
      "Jan\n",
      "Jan\n",
      "Jan\n",
      "Jan\n",
      "Jan\n",
      "Jan\n",
      "Jan\n",
      "Jan\n",
      "Jan\n",
      "Jan\n",
      "Jan\n",
      "Jan\n",
      "Jan\n",
      "Jan\n",
      "Feb\n",
      "Feb\n",
      "Feb\n",
      "Feb\n",
      "Feb\n",
      "Feb\n",
      "Feb\n",
      "Feb\n",
      "Feb\n",
      "Feb\n",
      "Mar\n",
      "Mar\n",
      "Mar\n",
      "Mar\n",
      "Mar\n",
      "Mar\n",
      "Mar\n",
      "Mar\n",
      "Mar\n",
      "Mar\n",
      "Mar\n",
      "Mar\n",
      "Mar\n",
      "Mar\n",
      "Mar\n",
      "Mar\n",
      "Mar\n",
      "Mar\n",
      "Mar\n",
      "Mar\n",
      "Mar\n",
      "Mar\n",
      "Mar\n",
      "Apr\n",
      "Apr\n",
      "Apr\n",
      "Apr\n",
      "Apr\n",
      "Apr\n",
      "Apr\n",
      "Apr\n",
      "Apr\n",
      "Apr\n",
      "Apr\n",
      "Apr\n",
      "Apr\n",
      "Apr\n",
      "May\n",
      "May\n",
      "May\n",
      "May\n",
      "May\n",
      "May\n",
      "May\n",
      "May\n",
      "May\n",
      "Jun\n",
      "Jun\n",
      "Jun\n",
      "Jun\n",
      "Jun\n",
      "Jun\n",
      "Jun\n",
      "Jun\n",
      "Jun\n",
      "Jun\n",
      "Jun\n",
      "Jul\n",
      "Jul\n",
      "Jul\n",
      "Jul\n",
      "Jul\n",
      "Jul\n",
      "Jul\n",
      "Jul\n",
      "Jul\n",
      "Jul\n",
      "Jul\n",
      "Jul\n",
      "Jul\n",
      "Aug\n",
      "Aug\n",
      "Aug\n",
      "Aug\n",
      "Aug\n",
      "Aug\n",
      "Aug\n",
      "Aug\n",
      "Aug\n",
      "Aug\n",
      "Aug\n",
      "Aug\n",
      "Aug\n",
      "Aug\n",
      "Aug\n",
      "Sep\n",
      "Sep\n",
      "Sep\n",
      "Sep\n",
      "Sep\n",
      "Sep\n",
      "Sep\n",
      "Sep\n",
      "Sep\n",
      "Sep\n",
      "Sep\n",
      "Sep\n",
      "Sep\n",
      "Sep\n",
      "Oct\n",
      "Oct\n",
      "Oct\n",
      "Oct\n",
      "Oct\n",
      "Oct\n",
      "Oct\n",
      "Oct\n",
      "Oct\n",
      "Oct\n",
      "Nov\n",
      "Nov\n",
      "Nov\n",
      "Nov\n",
      "Nov\n",
      "Nov\n",
      "Nov\n",
      "Nov\n",
      "Nov\n",
      "Nov\n",
      "Nov\n",
      "Nov\n",
      "Nov\n",
      "Nov\n",
      "Nov\n",
      "Nov\n",
      "Nov\n",
      "Nov\n",
      "Nov\n",
      "Nov\n",
      "Dec\n",
      "Dec\n",
      "Dec\n",
      "Dec\n",
      "Dec\n",
      "Dec\n",
      "Dec\n",
      "Dec\n",
      "Dec\n"
     ]
    },
    {
     "data": {
      "text/html": [
       "<div>\n",
       "<style scoped>\n",
       "    .dataframe tbody tr th:only-of-type {\n",
       "        vertical-align: middle;\n",
       "    }\n",
       "\n",
       "    .dataframe tbody tr th {\n",
       "        vertical-align: top;\n",
       "    }\n",
       "\n",
       "    .dataframe thead th {\n",
       "        text-align: right;\n",
       "    }\n",
       "</style>\n",
       "<table border=\"1\" class=\"dataframe\">\n",
       "  <thead>\n",
       "    <tr style=\"text-align: right;\">\n",
       "      <th></th>\n",
       "      <th>Jan</th>\n",
       "      <th>Feb</th>\n",
       "      <th>Mar</th>\n",
       "      <th>Apr</th>\n",
       "      <th>May</th>\n",
       "      <th>Jun</th>\n",
       "      <th>Jul</th>\n",
       "      <th>Aug</th>\n",
       "      <th>Sep</th>\n",
       "      <th>Oct</th>\n",
       "      <th>Nov</th>\n",
       "      <th>Dec</th>\n",
       "    </tr>\n",
       "  </thead>\n",
       "  <tbody>\n",
       "  </tbody>\n",
       "</table>\n",
       "</div>"
      ],
      "text/plain": [
       "Empty DataFrame\n",
       "Columns: [Jan, Feb, Mar, Apr, May, Jun, Jul, Aug, Sep, Oct, Nov, Dec]\n",
       "Index: []"
      ]
     },
     "execution_count": 202,
     "metadata": {},
     "output_type": "execute_result"
    }
   ],
   "source": [
    "SimulateMonth(2020,dfMont,Buildings_Mont,df2020)\n",
    "    \n"
   ]
  },
  {
   "cell_type": "code",
   "execution_count": null,
   "metadata": {},
   "outputs": [],
   "source": []
  }
 ],
 "metadata": {
  "kernelspec": {
   "display_name": "Python 3",
   "language": "python",
   "name": "python3"
  },
  "language_info": {
   "codemirror_mode": {
    "name": "ipython",
    "version": 3
   },
   "file_extension": ".py",
   "mimetype": "text/x-python",
   "name": "python",
   "nbconvert_exporter": "python",
   "pygments_lexer": "ipython3",
   "version": "3.7.6"
  }
 },
 "nbformat": 4,
 "nbformat_minor": 4
}
