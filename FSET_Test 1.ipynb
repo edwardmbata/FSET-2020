{
 "cells": [
  {
   "cell_type": "code",
   "execution_count": 1,
   "metadata": {},
   "outputs": [
    {
     "name": "stderr",
     "output_type": "stream",
     "text": [
      "A:\\Anaconda3\\lib\\site-packages\\xlrd\\xlsx.py:266: PendingDeprecationWarning: This method will be removed in future versions.  Use 'tree.iter()' or 'list(tree.iter())' instead.\n",
      "  for elem in self.tree.iter() if Element_has_iter else self.tree.getiterator():\n",
      "A:\\Anaconda3\\lib\\site-packages\\xlrd\\xlsx.py:312: PendingDeprecationWarning: This method will be removed in future versions.  Use 'tree.iter()' or 'list(tree.iter())' instead.\n",
      "  for elem in self.tree.iter() if Element_has_iter else self.tree.getiterator():\n",
      "..\n",
      "----------------------------------------------------------------------\n",
      "Ran 2 tests in 0.063s\n",
      "\n",
      "OK\n"
     ]
    }
   ],
   "source": [
    "#unit_tests\n",
    "import unittest\n",
    "import pandas as pd\n",
    "import numpy as np\n",
    "import random\n",
    "\n",
    "\n",
    "class TestCSVMethods(unittest.TestCase):\n",
    "    \n",
    "    def test_upper(self):\n",
    "        self.assertEqual('foo'.upper(), 'FOO')\n",
    "        \n",
    "    def test_read_Excel(self):\n",
    "        #import test CSV\n",
    "        xls = pd.ExcelFile(r'Resources\\RedevSch.xlsx')\n",
    "        dfMont = pd.read_excel(xls, 'Montopolis')\n",
    "        self.assertEqual(2020, dfMont.columns[1])\n",
    "    \n",
    "        #Clean Entry if Necessary\n",
    "        #Print\n",
    "        \n",
    "\n",
    "if __name__ == '__main__':\n",
    "    unittest.main(argv=['first-arg-is-ignored'], exit=False)"
   ]
  },
  {
   "cell_type": "code",
   "execution_count": 2,
   "metadata": {},
   "outputs": [
    {
     "name": "stdout",
     "output_type": "stream",
     "text": [
      "       Year  2020  2030  2040  2050  2060  2070  2080  2090  2100  Total\n",
      "0  SmallRes  0.06  0.15  0.15  0.06  0.09  0.09   0.1  0.15  0.15      1\n",
      "1  LargeRes  0.06  0.15  0.15  0.06  0.09  0.09   0.1  0.15  0.15      1\n",
      "2    Com/MU  0.06  0.15  0.15  0.06  0.09  0.09   0.1  0.15  0.15      1\n",
      "       Year  2020  2030  2040  2050  2060  2070  2080  2090  2100  Total\n",
      "0  SmallRes  0.06  0.06  0.06  0.09  0.09  0.12  0.12   0.2   0.2      1\n",
      "1  LargeRes  0.06  0.06  0.06  0.09  0.09  0.12  0.12   0.2   0.2      1\n",
      "2    Com/MU  0.06  0.06  0.06  0.09  0.09  0.12  0.12   0.2   0.2      1\n",
      "       Year  2020  2030  2040  2050  2060  2070  2080  2090  2100  Total\n",
      "0  SmallRes  0.06  0.06  0.06  0.09  0.09  0.12  0.12   0.2   0.2      1\n",
      "1  LargeRes  0.06  0.06  0.06  0.09  0.09  0.12  0.12   0.2   0.2      1\n",
      "2    Com/MU  0.06  0.06  0.06  0.09  0.09  0.12  0.12   0.2   0.2      1\n"
     ]
    }
   ],
   "source": [
    "xls = pd.ExcelFile(r'Resources\\RedevSch.xlsx')\n",
    "dfMont = pd.read_excel(xls, 'Montopolis')\n",
    "dfBrent = pd.read_excel(xls, 'Brentwood')\n",
    "dfSouthM = pd.read_excel(xls, 'South Menchaca')\n",
    "\n",
    "print(dfMont)\n",
    "print(dfBrent)\n",
    "print(dfSouthM)\n"
   ]
  },
  {
   "cell_type": "code",
   "execution_count": 3,
   "metadata": {},
   "outputs": [
    {
     "data": {
      "text/plain": [
       "2020"
      ]
     },
     "execution_count": 3,
     "metadata": {},
     "output_type": "execute_result"
    }
   ],
   "source": [
    "dfMont.columns[1]\n"
   ]
  },
  {
   "cell_type": "code",
   "execution_count": 4,
   "metadata": {},
   "outputs": [],
   "source": [
    "#Building General Class\n",
    "class Building:\n",
    "    \n",
    "    # read excel data for general values\n",
    "    \n",
    "    def __str__(self):\n",
    "        return(str(self.uniqueID))\n",
    "    def __init__(self, building_df):\n",
    "        \n",
    "        #Denotes if the building has undergon reDevelopment\n",
    "        self.reDev_flag = \"\"\n",
    "        self.df= building_df\n",
    "        \n",
    "        #general values applicable to the building regardless of redevelopment\n",
    "        self.uniqueID = self.df['UniqueID']\n",
    "        self.Neighborhood = self.df['Neighborhood']\n",
    "        self.OBJECTID = self.df['OBJECTID']\n",
    "        self.LotSize = self.df['LotSize']\n",
    "        self.UNITS = self.df['UNITS']\n",
    "        self.SUM_LANDVA = self.df['SUM_LANDVA']\n",
    "        self.SUM_IMPVAL = self.df['SUM_IMPVAL']\n",
    "        self.SUM_market = self.df['SUM_market']\n",
    "        self.MAX_yr_blt = self.df['MAX_yr_blt']\n",
    "        self.MAX_eff_yr = self.df['MAX_eff_yr']\n",
    "        self.COA_SQFT = self.df['COA_SQ.FT']\n",
    "        self.ZONING_ZTY = self.df['ZONING_ZTY']\n",
    "        self.EX_LU = self.df['EX_LU']\n",
    "        self.FAR = self.df['FAR']\n",
    "        self.ILR = self.df['ILR']\n",
    "        self.UNITSPERAC = self.df['UNITSPERAC']\n",
    "        self.Tot_Acre = self.df['Tot_Acre']\n",
    "        \n",
    "        # Original Building Values\n",
    "        self.DEV_TYPE_CURRENT = self.df['DEV_TYPE_Current']\n",
    "        self.Use_Class = self.df['Use Class']\n",
    "        self.Corridor = self.df['Corridor?']\n",
    "        self.TOD = self.df['TOD?']\n",
    "        self.CONSTRAINED_ACRE = self.df['CONSTRAINED_ACRE']\n",
    "        self.Redev_Rank = self.df['Redev Rank']\n",
    "        self.Redev_Year = self.df['Redev Year']\n",
    "        self.Bldg_CurrEst = self.df['Bldg_CurrEst']\n",
    "        self.LotSize_CurrentEst = self.df['LotSize_CurrentEst']\n",
    "        self.SqFt_CurrEst = self.df['SqFt_CurrEst']\n",
    "        self.Units_CurrEst = self.df['Units_CurrEst']\n",
    "        \n",
    "        self.Population = self.df['Pop']\n",
    "        #self.TEMP = self.df['TEMP'], isn't loading in prorperly\n",
    "        \n",
    "        # Best Case Building Values\n",
    "        self.Use_Best = self.df['Use_Best']\n",
    "        self.Bldg_Best = self.df['Bldg_Best']\n",
    "        self.LotSize_Best = self.df['LotSize_Best']\n",
    "        self.SqFt_Best = self.df['SqFt_Best']\n",
    "        self.Units_Best = self.df['Units_Best']\n",
    "        self.Population_Best = self.df['Pop_Best']\n",
    "        \n",
    "        # Worst Case Building Values\n",
    "        self.Path_Worst = self.df['Path_Worst']\n",
    "        self.Bldg_Worst = self.df['Bldg_Worst']\n",
    "        self.LotSize_Worst = self.df['LotSize_Worst']\n",
    "        self.SqFt_Worst = self.df['SqFt_Worst']\n",
    "        self.Units_Worst = self.df['Units_Worst']\n",
    "        self.Population_Worst = self.df['Pop_Worst']\n",
    "        \n",
    "        #Coadoption Variables\n",
    "        self.HP = False\n",
    "        self.ST = False\n",
    "        self.PV = False\n",
    "   \n",
    "    "
   ]
  },
  {
   "cell_type": "code",
   "execution_count": 5,
   "metadata": {},
   "outputs": [],
   "source": [
    "\n",
    "xls = pd.ExcelFile(r'Resources\\ParcelDB_20201118_SMZ_REDEV.xlsx')\n",
    "ParcelDB = pd.read_excel(xls, 'ParcelDB')\n",
    "\n"
   ]
  },
  {
   "cell_type": "code",
   "execution_count": 6,
   "metadata": {
    "scrolled": true
   },
   "outputs": [
    {
     "name": "stdout",
     "output_type": "stream",
     "text": [
      "Unnamed: 0\n",
      "UniqueID\n",
      "Neighborhood\n",
      "OBJECTID\n",
      "DEV_TYPE_Current\n",
      "Use Class\n",
      "Interior\n",
      "Corridor?\n",
      "TOD?\n",
      "CONSTRAINED_ACRE\n",
      "Redev Rank\n",
      "Redev Year\n",
      "LotSize\n",
      "UNITS\n",
      "SUM_LANDVA\n",
      "SUM_IMPVAL\n",
      "SUM_market\n",
      "MAX_yr_blt\n",
      "MAX_eff_yr\n",
      "COA_SQ.FT\n",
      "ZONING_ZTY\n",
      "EX_LU\n",
      "FAR\n",
      "ILR\n",
      "UNITSPERAC\n",
      "Tot_Acre\n",
      "PID_10\n",
      "Bldg_CurrEst\n",
      "LotSize_CurrentEst\n",
      "SqFt_CurrEst\n",
      "Units_CurrEst\n",
      "Pop\n",
      "TEMP\n",
      "Use_Best\n",
      "Bldg_Best\n",
      "LotSize_Best\n",
      "SqFt_Best\n",
      "Units_Best\n",
      "Pop_Best\n",
      "Manual?\n",
      "Path_Worst\n",
      "Bldg_Worst\n",
      "LotSize_Worst\n",
      "SqFt_Worst\n",
      "Units_Worst\n",
      "Pop_Worst\n",
      "Manual?.1\n"
     ]
    }
   ],
   "source": [
    "for col in ParcelDB.columns:\n",
    "    print(col)"
   ]
  },
  {
   "cell_type": "code",
   "execution_count": 7,
   "metadata": {},
   "outputs": [],
   "source": [
    "dftemp = ParcelDB.iloc[1]\n",
    "test_building = Building(dftemp)"
   ]
  },
  {
   "cell_type": "code",
   "execution_count": 8,
   "metadata": {
    "scrolled": true
   },
   "outputs": [
    {
     "data": {
      "text/plain": [
       "Unnamed: 0                                              NaN\n",
       "UniqueID                                              SM.11\n",
       "Neighborhood                                             SM\n",
       "OBJECTID                                                 11\n",
       "DEV_TYPE_Current                 Single Family Neighborhood\n",
       "Use Class                                         Small Res\n",
       "Interior                                                  1\n",
       "Corridor?                                                 0\n",
       "TOD?                                                      0\n",
       "CONSTRAINED_ACRE                                          0\n",
       "Redev Rank                                              937\n",
       "Redev Year                                             2070\n",
       "LotSize                                             32323.5\n",
       "UNITS                                                     1\n",
       "SUM_LANDVA                                           112500\n",
       "SUM_IMPVAL                                           132962\n",
       "SUM_market                                           245462\n",
       "MAX_yr_blt                                             1950\n",
       "MAX_eff_yr                                             1950\n",
       "COA_SQ.FT                                              1265\n",
       "ZONING_ZTY                                          SF-3-NP\n",
       "EX_LU                                                 SF_MD\n",
       "FAR                                               0.0391357\n",
       "ILR                                                 1.18188\n",
       "UNITSPERAC                                          1.34763\n",
       "Tot_Acre                                           0.742047\n",
       "PID_10                                          4.10081e+08\n",
       "Bldg_CurrEst                 Single Family Medium-Large Lot\n",
       "LotSize_CurrentEst                                     9000\n",
       "SqFt_CurrEst                                        3510.43\n",
       "Units_CurrEst                                             1\n",
       "Pop                                                     2.5\n",
       "TEMP                                                      0\n",
       "Use_Best                                  Small Residential\n",
       "Bldg_Best             Townhome, Medium Density: Sustainable\n",
       "LotSize_Best                                          10000\n",
       "SqFt_Best                                             10800\n",
       "Units_Best                                               10\n",
       "Pop_Best                                                 25\n",
       "Manual?                                                 NaN\n",
       "Path_Worst                                Small Residential\n",
       "Bldg_Worst                          Single Family Large Lot\n",
       "LotSize_Worst                                         13000\n",
       "SqFt_Worst                                          3854.41\n",
       "Units_Worst                                               1\n",
       "Pop_Worst                                               2.5\n",
       "Manual?.1                                               NaN\n",
       "Name: 1, dtype: object"
      ]
     },
     "execution_count": 8,
     "metadata": {},
     "output_type": "execute_result"
    }
   ],
   "source": [
    "test_building.df"
   ]
  },
  {
   "cell_type": "code",
   "execution_count": 9,
   "metadata": {},
   "outputs": [],
   "source": [
    "Buildings_SM = []\n",
    "Buildings_Mont = []\n",
    "Buildings_Brent = []\n",
    "for index in range(len(ParcelDB)):\n",
    "    dftemp = ParcelDB.iloc[index]\n",
    "    if(dftemp.Neighborhood == 'SM'):\n",
    "        Buildings_SM.append(Building(dftemp))\n",
    "    elif(dftemp.Neighborhood == 'Mont'):\n",
    "        Buildings_Mont.append(Building(dftemp))\n",
    "    elif(dftemp.Neighborhood == 'Brent'):\n",
    "        Buildings_Brent.append(Building(dftemp))\n",
    "    \n"
   ]
  },
  {
   "cell_type": "code",
   "execution_count": 10,
   "metadata": {
    "scrolled": true
   },
   "outputs": [
    {
     "name": "stdout",
     "output_type": "stream",
     "text": [
      "SM.10\n"
     ]
    }
   ],
   "source": [
    "print(Buildings_SM[0])"
   ]
  },
  {
   "cell_type": "code",
   "execution_count": 11,
   "metadata": {},
   "outputs": [
    {
     "name": "stdout",
     "output_type": "stream",
     "text": [
      "Mont.1\n"
     ]
    }
   ],
   "source": [
    "print(Buildings_Mont[0])"
   ]
  },
  {
   "cell_type": "code",
   "execution_count": 12,
   "metadata": {},
   "outputs": [
    {
     "name": "stdout",
     "output_type": "stream",
     "text": [
      "Brent.3\n"
     ]
    }
   ],
   "source": [
    "print(Buildings_Brent[0])"
   ]
  },
  {
   "cell_type": "code",
   "execution_count": 13,
   "metadata": {},
   "outputs": [],
   "source": [
    "df2020 = pd.DataFrame(columns=['Jan','Feb','Mar','Apr','May','Jun','Jul','Aug','Sep','Oct','Nov','Dec'])\n",
    "df2030 = pd.DataFrame(columns=['Jan','Feb','Mar','Apr','May','Jun','Jul','Aug','Sep','Oct','Nov','Dec'])\n",
    "df2040 = pd.DataFrame(columns=['Jan','Feb','Mar','Apr','May','Jun','Jul','Aug','Sep','Oct','Nov','Dec'])\n",
    "df2050 = pd.DataFrame(columns=['Jan','Feb','Mar','Apr','May','Jun','Jul','Aug','Sep','Oct','Nov','Dec'])\n",
    "df2060 = pd.DataFrame(columns=['Jan','Feb','Mar','Apr','May','Jun','Jul','Aug','Sep','Oct','Nov','Dec'])\n",
    "df2070 = pd.DataFrame(columns=['Jan','Feb','Mar','Apr','May','Jun','Jul','Aug','Sep','Oct','Nov','Dec'])\n",
    "df2080 = pd.DataFrame(columns=['Jan','Feb','Mar','Apr','May','Jun','Jul','Aug','Sep','Oct','Nov','Dec'])\n",
    "df2090 = pd.DataFrame(columns=['Jan','Feb','Mar','Apr','May','Jun','Jul','Aug','Sep','Oct','Nov','Dec'])\n",
    "df2100 = pd.DataFrame(columns=['Jan','Feb','Mar','Apr','May','Jun','Jul','Aug','Sep','Oct','Nov','Dec'])"
   ]
  },
  {
   "cell_type": "code",
   "execution_count": 14,
   "metadata": {},
   "outputs": [
    {
     "data": {
      "text/html": [
       "<div>\n",
       "<style scoped>\n",
       "    .dataframe tbody tr th:only-of-type {\n",
       "        vertical-align: middle;\n",
       "    }\n",
       "\n",
       "    .dataframe tbody tr th {\n",
       "        vertical-align: top;\n",
       "    }\n",
       "\n",
       "    .dataframe thead th {\n",
       "        text-align: right;\n",
       "    }\n",
       "</style>\n",
       "<table border=\"1\" class=\"dataframe\">\n",
       "  <thead>\n",
       "    <tr style=\"text-align: right;\">\n",
       "      <th></th>\n",
       "      <th>Jan</th>\n",
       "      <th>Feb</th>\n",
       "      <th>Mar</th>\n",
       "      <th>Apr</th>\n",
       "      <th>May</th>\n",
       "      <th>Jun</th>\n",
       "      <th>Jul</th>\n",
       "      <th>Aug</th>\n",
       "      <th>Sep</th>\n",
       "      <th>Oct</th>\n",
       "      <th>Nov</th>\n",
       "      <th>Dec</th>\n",
       "    </tr>\n",
       "  </thead>\n",
       "  <tbody>\n",
       "  </tbody>\n",
       "</table>\n",
       "</div>"
      ],
      "text/plain": [
       "Empty DataFrame\n",
       "Columns: [Jan, Feb, Mar, Apr, May, Jun, Jul, Aug, Sep, Oct, Nov, Dec]\n",
       "Index: []"
      ]
     },
     "execution_count": 14,
     "metadata": {},
     "output_type": "execute_result"
    }
   ],
   "source": [
    "df2020"
   ]
  },
  {
   "cell_type": "code",
   "execution_count": null,
   "metadata": {},
   "outputs": [],
   "source": [
    "def ListBreaker(list):\n",
    "    "
   ]
  },
  {
   "cell_type": "code",
   "execution_count": 86,
   "metadata": {},
   "outputs": [],
   "source": [
    "def SimulateDecade(Year,dfReDevSch,BuildingsArray):\n",
    "    redevPool = []\n",
    "   \n",
    "    for building in BuildingsArray:\n",
    "        if building.Redev_Year == Year:\n",
    "            redevPool.append(building.uniqueID)\n",
    "    print(redevPool[0::12])\n",
    "    dictdf = {'Jan': redevPool[0::12],'Feb':redevPool[1::12],'Mar':redevPool[2::12],'Apr':redevPool[3::12],\n",
    "            'May':redevPool[4::12],'Jun':redevPool[5::12],'Jul':redevPool[6::12],'Aug':redevPool[7::12],\n",
    "            'Sep':redevPool[8::12],'Oct':redevPool[9::12],'Nov':redevPool[10::12],'Dec':redevPool[11::12]}\n",
    "    monthdf = pd.DataFrame.from_dict(dictdf, orient = 'index')\n",
    "    monthdf = monthdf.transpose()\n",
    "    #constant development scenario, attempts to divide equally\n",
    "    #TODO: add selectable timescale\n",
    "        \n",
    "    return monthdf"
   ]
  },
  {
   "cell_type": "code",
   "execution_count": 87,
   "metadata": {},
   "outputs": [],
   "source": [
    "def runSimulation(dfReDevSch,BuildingsArray):\n",
    "    df2020 = SimulateDecade(2020,dfReDevSch,BuildingsArray)\n",
    "    df2030 = SimulateDecade(2030,dfReDevSch,BuildingsArray)\n",
    "    df2040 = SimulateDecade(2040,dfReDevSch,BuildingsArray)\n",
    "    df2050 = SimulateDecade(2050,dfReDevSch,BuildingsArray)\n",
    "    df2060 = SimulateDecade(2060,dfReDevSch,BuildingsArray)\n",
    "    df2070 = SimulateDecade(2070,dfReDevSch,BuildingsArray)\n",
    "    df2080 = SimulateDecade(2080,dfReDevSch,BuildingsArray)\n",
    "    df2090 = SimulateDecade(2090,dfReDevSch,BuildingsArray)\n",
    "    df2100 = SimulateDecade(2100,dfReDevSch,BuildingsArray)\n",
    "    YearArray=[df2020,df2030,df2040,df2050,df2060,df2070,df2080,df2090,df2100]\n",
    "    return YearArray"
   ]
  },
  {
   "cell_type": "code",
   "execution_count": 88,
   "metadata": {},
   "outputs": [
    {
     "name": "stdout",
     "output_type": "stream",
     "text": [
      "['Mont.40', 'Mont.200', 'Mont.449', 'Mont.593', 'Mont.847', 'Mont.1029', 'Mont.1407', 'Mont.1561', 'Mont.1635', 'Mont.1678']\n",
      "['Mont.6', 'Mont.125', 'Mont.160', 'Mont.274', 'Mont.470', 'Mont.619', 'Mont.653', 'Mont.686', 'Mont.760', 'Mont.1174', 'Mont.1405', 'Mont.1530', 'Mont.1566', 'Mont.1616', 'Mont.1675', 'Mont.1746', 'Mont.1786', 'Mont.1873', 'Mont.1897', 'Mont.1922', 'Mont.1960', 'Mont.1985', 'Mont.2014', 'Mont.2095', 'Mont.2115', 'Mont.2133']\n",
      "['Mont.51', 'Mont.141', 'Mont.186', 'Mont.247', 'Mont.286', 'Mont.326', 'Mont.360', 'Mont.387', 'Mont.443', 'Mont.468', 'Mont.525', 'Mont.646', 'Mont.673', 'Mont.705', 'Mont.766', 'Mont.1324', 'Mont.1438', 'Mont.1534', 'Mont.1572', 'Mont.1697', 'Mont.1763', 'Mont.1801', 'Mont.1825', 'Mont.1843', 'Mont.1926', 'Mont.2042']\n",
      "['Mont.32', 'Mont.201', 'Mont.253', 'Mont.318', 'Mont.388', 'Mont.476', 'Mont.540', 'Mont.1219', 'Mont.1651', 'Mont.1853', 'Mont.1983']\n",
      "['Mont.3', 'Mont.89', 'Mont.173', 'Mont.213', 'Mont.237', 'Mont.288', 'Mont.330', 'Mont.393', 'Mont.459', 'Mont.598', 'Mont.1318', 'Mont.1520', 'Mont.1792', 'Mont.1859', 'Mont.1950', 'Mont.2091']\n",
      "['Mont.1', 'Mont.110', 'Mont.309', 'Mont.483', 'Mont.595', 'Mont.786', 'Mont.907', 'Mont.1057', 'Mont.1115', 'Mont.1232', 'Mont.1346', 'Mont.1460', 'Mont.1668', 'Mont.1940', 'Mont.2059', 'Mont.2093']\n",
      "['Mont.20', 'Mont.133', 'Mont.723', 'Mont.805', 'Mont.852', 'Mont.900', 'Mont.974', 'Mont.1085', 'Mont.1154', 'Mont.1204', 'Mont.1285', 'Mont.1338', 'Mont.1454', 'Mont.1475', 'Mont.1610', 'Mont.1861', 'Mont.2053']\n",
      "['Mont.14', 'Mont.48', 'Mont.473', 'Mont.569', 'Mont.706', 'Mont.762', 'Mont.781', 'Mont.820', 'Mont.857', 'Mont.887', 'Mont.925', 'Mont.951', 'Mont.997', 'Mont.1053', 'Mont.1081', 'Mont.1121', 'Mont.1156', 'Mont.1214', 'Mont.1276', 'Mont.1312', 'Mont.1354', 'Mont.1385', 'Mont.1453', 'Mont.1516', 'Mont.1870', 'Mont.2071']\n",
      "['Mont.4', 'Mont.72', 'Mont.99', 'Mont.412', 'Mont.501', 'Mont.563', 'Mont.594', 'Mont.741', 'Mont.798', 'Mont.862', 'Mont.919', 'Mont.957', 'Mont.989', 'Mont.1038', 'Mont.1097', 'Mont.1127', 'Mont.1172', 'Mont.1213', 'Mont.1295', 'Mont.1373', 'Mont.1490', 'Mont.1547', 'Mont.1642', 'Mont.1778', 'Mont.2012', 'Mont.2129']\n"
     ]
    }
   ],
   "source": [
    "YearArray = runSimulation(dfMont,Buildings_Mont)"
   ]
  },
  {
   "cell_type": "code",
   "execution_count": 89,
   "metadata": {},
   "outputs": [
    {
     "data": {
      "text/html": [
       "<div>\n",
       "<style scoped>\n",
       "    .dataframe tbody tr th:only-of-type {\n",
       "        vertical-align: middle;\n",
       "    }\n",
       "\n",
       "    .dataframe tbody tr th {\n",
       "        vertical-align: top;\n",
       "    }\n",
       "\n",
       "    .dataframe thead th {\n",
       "        text-align: right;\n",
       "    }\n",
       "</style>\n",
       "<table border=\"1\" class=\"dataframe\">\n",
       "  <thead>\n",
       "    <tr style=\"text-align: right;\">\n",
       "      <th></th>\n",
       "      <th>Jan</th>\n",
       "      <th>Feb</th>\n",
       "      <th>Mar</th>\n",
       "      <th>Apr</th>\n",
       "      <th>May</th>\n",
       "      <th>Jun</th>\n",
       "      <th>Jul</th>\n",
       "      <th>Aug</th>\n",
       "      <th>Sep</th>\n",
       "      <th>Oct</th>\n",
       "      <th>Nov</th>\n",
       "      <th>Dec</th>\n",
       "    </tr>\n",
       "  </thead>\n",
       "  <tbody>\n",
       "    <tr>\n",
       "      <th>0</th>\n",
       "      <td>Mont.40</td>\n",
       "      <td>Mont.61</td>\n",
       "      <td>Mont.65</td>\n",
       "      <td>Mont.66</td>\n",
       "      <td>Mont.88</td>\n",
       "      <td>Mont.90</td>\n",
       "      <td>Mont.109</td>\n",
       "      <td>Mont.121</td>\n",
       "      <td>Mont.150</td>\n",
       "      <td>Mont.180</td>\n",
       "      <td>Mont.184</td>\n",
       "      <td>Mont.192</td>\n",
       "    </tr>\n",
       "    <tr>\n",
       "      <th>1</th>\n",
       "      <td>Mont.200</td>\n",
       "      <td>Mont.207</td>\n",
       "      <td>Mont.208</td>\n",
       "      <td>Mont.217</td>\n",
       "      <td>Mont.266</td>\n",
       "      <td>Mont.267</td>\n",
       "      <td>Mont.341</td>\n",
       "      <td>Mont.346</td>\n",
       "      <td>Mont.353</td>\n",
       "      <td>Mont.375</td>\n",
       "      <td>Mont.383</td>\n",
       "      <td>Mont.408</td>\n",
       "    </tr>\n",
       "    <tr>\n",
       "      <th>2</th>\n",
       "      <td>Mont.449</td>\n",
       "      <td>Mont.455</td>\n",
       "      <td>Mont.465</td>\n",
       "      <td>Mont.469</td>\n",
       "      <td>Mont.494</td>\n",
       "      <td>Mont.541</td>\n",
       "      <td>Mont.547</td>\n",
       "      <td>Mont.550</td>\n",
       "      <td>Mont.567</td>\n",
       "      <td>Mont.572</td>\n",
       "      <td>Mont.577</td>\n",
       "      <td>Mont.580</td>\n",
       "    </tr>\n",
       "    <tr>\n",
       "      <th>3</th>\n",
       "      <td>Mont.593</td>\n",
       "      <td>Mont.617</td>\n",
       "      <td>Mont.625</td>\n",
       "      <td>Mont.644</td>\n",
       "      <td>Mont.645</td>\n",
       "      <td>Mont.650</td>\n",
       "      <td>Mont.658</td>\n",
       "      <td>Mont.679</td>\n",
       "      <td>Mont.689</td>\n",
       "      <td>Mont.716</td>\n",
       "      <td>Mont.730</td>\n",
       "      <td>Mont.733</td>\n",
       "    </tr>\n",
       "    <tr>\n",
       "      <th>4</th>\n",
       "      <td>Mont.847</td>\n",
       "      <td>Mont.848</td>\n",
       "      <td>Mont.911</td>\n",
       "      <td>Mont.973</td>\n",
       "      <td>Mont.981</td>\n",
       "      <td>Mont.1000</td>\n",
       "      <td>Mont.1002</td>\n",
       "      <td>Mont.1003</td>\n",
       "      <td>Mont.1010</td>\n",
       "      <td>Mont.1023</td>\n",
       "      <td>Mont.1025</td>\n",
       "      <td>Mont.1026</td>\n",
       "    </tr>\n",
       "    <tr>\n",
       "      <th>5</th>\n",
       "      <td>Mont.1029</td>\n",
       "      <td>Mont.1030</td>\n",
       "      <td>Mont.1033</td>\n",
       "      <td>Mont.1034</td>\n",
       "      <td>Mont.1216</td>\n",
       "      <td>Mont.1217</td>\n",
       "      <td>Mont.1234</td>\n",
       "      <td>Mont.1235</td>\n",
       "      <td>Mont.1236</td>\n",
       "      <td>Mont.1321</td>\n",
       "      <td>Mont.1327</td>\n",
       "      <td>Mont.1328</td>\n",
       "    </tr>\n",
       "    <tr>\n",
       "      <th>6</th>\n",
       "      <td>Mont.1407</td>\n",
       "      <td>Mont.1424</td>\n",
       "      <td>Mont.1444</td>\n",
       "      <td>Mont.1488</td>\n",
       "      <td>Mont.1499</td>\n",
       "      <td>Mont.1500</td>\n",
       "      <td>Mont.1519</td>\n",
       "      <td>Mont.1521</td>\n",
       "      <td>Mont.1523</td>\n",
       "      <td>Mont.1525</td>\n",
       "      <td>Mont.1544</td>\n",
       "      <td>Mont.1556</td>\n",
       "    </tr>\n",
       "    <tr>\n",
       "      <th>7</th>\n",
       "      <td>Mont.1561</td>\n",
       "      <td>Mont.1567</td>\n",
       "      <td>Mont.1594</td>\n",
       "      <td>Mont.1604</td>\n",
       "      <td>Mont.1608</td>\n",
       "      <td>Mont.1611</td>\n",
       "      <td>Mont.1612</td>\n",
       "      <td>Mont.1618</td>\n",
       "      <td>Mont.1628</td>\n",
       "      <td>Mont.1629</td>\n",
       "      <td>Mont.1630</td>\n",
       "      <td>Mont.1631</td>\n",
       "    </tr>\n",
       "    <tr>\n",
       "      <th>8</th>\n",
       "      <td>Mont.1635</td>\n",
       "      <td>Mont.1638</td>\n",
       "      <td>Mont.1639</td>\n",
       "      <td>Mont.1640</td>\n",
       "      <td>Mont.1650</td>\n",
       "      <td>Mont.1656</td>\n",
       "      <td>Mont.1658</td>\n",
       "      <td>Mont.1659</td>\n",
       "      <td>Mont.1661</td>\n",
       "      <td>Mont.1662</td>\n",
       "      <td>Mont.1669</td>\n",
       "      <td>Mont.1677</td>\n",
       "    </tr>\n",
       "    <tr>\n",
       "      <th>9</th>\n",
       "      <td>Mont.1678</td>\n",
       "      <td>Mont.1684</td>\n",
       "      <td>Mont.1685</td>\n",
       "      <td>Mont.1691</td>\n",
       "      <td>Mont.1693</td>\n",
       "      <td>Mont.1695</td>\n",
       "      <td>Mont.1727</td>\n",
       "      <td>Mont.1728</td>\n",
       "      <td>Mont.1740</td>\n",
       "      <td>Mont.1742</td>\n",
       "      <td>Mont.1743</td>\n",
       "      <td>Mont.1744</td>\n",
       "    </tr>\n",
       "  </tbody>\n",
       "</table>\n",
       "</div>"
      ],
      "text/plain": [
       "         Jan        Feb        Mar        Apr        May        Jun  \\\n",
       "0    Mont.40    Mont.61    Mont.65    Mont.66    Mont.88    Mont.90   \n",
       "1   Mont.200   Mont.207   Mont.208   Mont.217   Mont.266   Mont.267   \n",
       "2   Mont.449   Mont.455   Mont.465   Mont.469   Mont.494   Mont.541   \n",
       "3   Mont.593   Mont.617   Mont.625   Mont.644   Mont.645   Mont.650   \n",
       "4   Mont.847   Mont.848   Mont.911   Mont.973   Mont.981  Mont.1000   \n",
       "5  Mont.1029  Mont.1030  Mont.1033  Mont.1034  Mont.1216  Mont.1217   \n",
       "6  Mont.1407  Mont.1424  Mont.1444  Mont.1488  Mont.1499  Mont.1500   \n",
       "7  Mont.1561  Mont.1567  Mont.1594  Mont.1604  Mont.1608  Mont.1611   \n",
       "8  Mont.1635  Mont.1638  Mont.1639  Mont.1640  Mont.1650  Mont.1656   \n",
       "9  Mont.1678  Mont.1684  Mont.1685  Mont.1691  Mont.1693  Mont.1695   \n",
       "\n",
       "         Jul        Aug        Sep        Oct        Nov        Dec  \n",
       "0   Mont.109   Mont.121   Mont.150   Mont.180   Mont.184   Mont.192  \n",
       "1   Mont.341   Mont.346   Mont.353   Mont.375   Mont.383   Mont.408  \n",
       "2   Mont.547   Mont.550   Mont.567   Mont.572   Mont.577   Mont.580  \n",
       "3   Mont.658   Mont.679   Mont.689   Mont.716   Mont.730   Mont.733  \n",
       "4  Mont.1002  Mont.1003  Mont.1010  Mont.1023  Mont.1025  Mont.1026  \n",
       "5  Mont.1234  Mont.1235  Mont.1236  Mont.1321  Mont.1327  Mont.1328  \n",
       "6  Mont.1519  Mont.1521  Mont.1523  Mont.1525  Mont.1544  Mont.1556  \n",
       "7  Mont.1612  Mont.1618  Mont.1628  Mont.1629  Mont.1630  Mont.1631  \n",
       "8  Mont.1658  Mont.1659  Mont.1661  Mont.1662  Mont.1669  Mont.1677  \n",
       "9  Mont.1727  Mont.1728  Mont.1740  Mont.1742  Mont.1743  Mont.1744  "
      ]
     },
     "execution_count": 89,
     "metadata": {},
     "output_type": "execute_result"
    }
   ],
   "source": [
    "YearArray[0]"
   ]
  },
  {
   "cell_type": "code",
   "execution_count": 90,
   "metadata": {},
   "outputs": [
    {
     "name": "stdout",
     "output_type": "stream",
     "text": [
      "Mont.40\n",
      "Mont.200\n",
      "Mont.449\n",
      "Mont.593\n",
      "Mont.847\n",
      "Mont.1029\n",
      "Mont.1407\n",
      "Mont.1561\n",
      "Mont.1635\n",
      "Mont.1678\n"
     ]
    }
   ],
   "source": [
    "for index, row in YearArray[0].iterrows():\n",
    "    print(row['Jan'])"
   ]
  },
  {
   "cell_type": "code",
   "execution_count": 96,
   "metadata": {},
   "outputs": [],
   "source": [
    "def createExcelSheet(writer,decade_df,year):\n",
    "    decade_df.to_excel(writer, str(year))\n",
    "    print(str(year) + ' is written to Excel File Successfully.')"
   ]
  },
  {
   "cell_type": "code",
   "execution_count": 97,
   "metadata": {},
   "outputs": [],
   "source": [
    "def createExcelFile(YearArray):\n",
    "    filenames = [2020,2030,2040,2050,2060,2070,2080,2090,2100]\n",
    "    index = 0\n",
    "    writer = pd.ExcelWriter('output.xlsx')\n",
    "    for year in YearArray:\n",
    "        createExcelSheet(writer,year,filenames[index])\n",
    "        index += 1\n",
    "    writer.close()"
   ]
  },
  {
   "cell_type": "code",
   "execution_count": 98,
   "metadata": {},
   "outputs": [
    {
     "name": "stdout",
     "output_type": "stream",
     "text": [
      "2020 is written to Excel File Successfully.\n",
      "2030 is written to Excel File Successfully.\n",
      "2040 is written to Excel File Successfully.\n",
      "2050 is written to Excel File Successfully.\n",
      "2060 is written to Excel File Successfully.\n",
      "2070 is written to Excel File Successfully.\n",
      "2080 is written to Excel File Successfully.\n",
      "2090 is written to Excel File Successfully.\n",
      "2100 is written to Excel File Successfully.\n"
     ]
    }
   ],
   "source": [
    "createExcelFile(YearArray)"
   ]
  },
  {
   "cell_type": "code",
   "execution_count": null,
   "metadata": {},
   "outputs": [],
   "source": []
  }
 ],
 "metadata": {
  "kernelspec": {
   "display_name": "Python 3",
   "language": "python",
   "name": "python3"
  },
  "language_info": {
   "codemirror_mode": {
    "name": "ipython",
    "version": 3
   },
   "file_extension": ".py",
   "mimetype": "text/x-python",
   "name": "python",
   "nbconvert_exporter": "python",
   "pygments_lexer": "ipython3",
   "version": "3.7.6"
  }
 },
 "nbformat": 4,
 "nbformat_minor": 4
}
